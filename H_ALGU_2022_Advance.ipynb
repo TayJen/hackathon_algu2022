{
  "nbformat": 4,
  "nbformat_minor": 0,
  "metadata": {
    "colab": {
      "provenance": [],
      "collapsed_sections": [
        "AAfLrhOhsaHz",
        "3mCmx1dbFl84"
      ],
      "authorship_tag": "ABX9TyMRwWfwfu9vS2+1r2M1I5Aq",
      "include_colab_link": true
    },
    "kernelspec": {
      "name": "python3",
      "display_name": "Python 3"
    },
    "language_info": {
      "name": "python"
    }
  },
  "cells": [
    {
      "cell_type": "markdown",
      "metadata": {
        "id": "view-in-github",
        "colab_type": "text"
      },
      "source": [
        "<a href=\"https://colab.research.google.com/github/TayJen/hackathon_algu2022/blob/master/H_ALGU_2022_Advance.ipynb\" target=\"_parent\"><img src=\"https://colab.research.google.com/assets/colab-badge.svg\" alt=\"Open In Colab\"/></a>"
      ]
    },
    {
      "cell_type": "code",
      "execution_count": 37,
      "metadata": {
        "colab": {
          "base_uri": "https://localhost:8080/"
        },
        "id": "JFVPXkf-r0R-",
        "outputId": "3deb523b-2400-4f0d-d143-2476c3a75ac1"
      },
      "outputs": [
        {
          "output_type": "stream",
          "name": "stdout",
          "text": [
            "Drive already mounted at /content/drive; to attempt to forcibly remount, call drive.mount(\"/content/drive\", force_remount=True).\n"
          ]
        }
      ],
      "source": [
        "from google.colab import drive\n",
        "drive.mount('/content/drive')"
      ]
    },
    {
      "cell_type": "code",
      "source": [
        "%cd /content/drive/Shareddrives/data_drive/H_Vladivostok2022\n",
        "!pwd"
      ],
      "metadata": {
        "colab": {
          "base_uri": "https://localhost:8080/"
        },
        "id": "Ajt0xnRYr_aN",
        "outputId": "43f76183-a52c-4fc1-d242-80e5e83f0c0b"
      },
      "execution_count": 38,
      "outputs": [
        {
          "output_type": "stream",
          "name": "stdout",
          "text": [
            "/content/drive/Shareddrives/data_drive/H_Vladivostok2022\n",
            "/content/drive/Shareddrives/data_drive/H_Vladivostok2022\n"
          ]
        }
      ]
    },
    {
      "cell_type": "markdown",
      "source": [
        "## Импорт библиотек"
      ],
      "metadata": {
        "id": "AAfLrhOhsaHz"
      }
    },
    {
      "cell_type": "code",
      "source": [
        "# Для работы с данными\n",
        "import numpy as np\n",
        "import pandas as pd\n",
        "\n",
        "# Для визуализации\n",
        "import matplotlib as mpl\n",
        "import matplotlib.pyplot as plt\n",
        "import seaborn as sns\n",
        "\n",
        "# Для работы с текстом\n",
        "import re\n",
        "import nltk\n",
        "from nltk.stem import WordNetLemmatizer\n",
        "from nltk.tokenize import WhitespaceTokenizer\n",
        "from nltk.probability import FreqDist\n",
        "from nltk.corpus import wordnet, stopwords\n",
        "from pymystem3 import Mystem\n",
        "\n",
        "# Для моделей\n",
        "from sklearn.feature_extraction.text import TfidfVectorizer\n",
        "from sklearn.model_selection import train_test_split\n",
        "from sklearn.preprocessing import OrdinalEncoder\n",
        "from sklearn.ensemble import RandomForestClassifier\n",
        "from xgboost import XGBRegressor\n",
        "\n",
        "# Метрика\n",
        "from sklearn.metrics import r2_score\n",
        "\n",
        "%matplotlib inline\n",
        "mpl.rcParams['figure.facecolor'] = 'white'\n",
        "np.random.seed(59)\n",
        "\n",
        "nltk.download('wordnet')\n",
        "nltk.download('omw-1.4')\n",
        "nltk.download('stopwords')\n",
        "nltk.download('averaged_perceptron_tagger')"
      ],
      "metadata": {
        "colab": {
          "base_uri": "https://localhost:8080/"
        },
        "id": "H7rpBM58r_cd",
        "outputId": "f7108b2d-d39d-497c-bd7e-b6fcde1fd704"
      },
      "execution_count": 39,
      "outputs": [
        {
          "output_type": "stream",
          "name": "stderr",
          "text": [
            "[nltk_data] Downloading package wordnet to /root/nltk_data...\n",
            "[nltk_data]   Package wordnet is already up-to-date!\n",
            "[nltk_data] Downloading package omw-1.4 to /root/nltk_data...\n",
            "[nltk_data]   Package omw-1.4 is already up-to-date!\n",
            "[nltk_data] Downloading package stopwords to /root/nltk_data...\n",
            "[nltk_data]   Package stopwords is already up-to-date!\n",
            "[nltk_data] Downloading package averaged_perceptron_tagger to\n",
            "[nltk_data]     /root/nltk_data...\n",
            "[nltk_data]   Package averaged_perceptron_tagger is already up-to-\n",
            "[nltk_data]       date!\n"
          ]
        },
        {
          "output_type": "execute_result",
          "data": {
            "text/plain": [
              "True"
            ]
          },
          "metadata": {},
          "execution_count": 39
        }
      ]
    },
    {
      "cell_type": "markdown",
      "source": [
        "# Работа с данными"
      ],
      "metadata": {
        "id": "eBTTuH9QtLce"
      }
    },
    {
      "cell_type": "markdown",
      "source": [
        "## Основные данные"
      ],
      "metadata": {
        "id": "3mCmx1dbFl84"
      }
    },
    {
      "cell_type": "markdown",
      "source": [
        "Считаем данные"
      ],
      "metadata": {
        "id": "KlN-dv7tu7hI"
      }
    },
    {
      "cell_type": "code",
      "source": [
        "df = pd.read_csv(\"./data/train/train_issues.csv\")"
      ],
      "metadata": {
        "id": "P4sCxLgxu8-H"
      },
      "execution_count": 40,
      "outputs": []
    },
    {
      "cell_type": "markdown",
      "source": [
        "Работа со временем"
      ],
      "metadata": {
        "id": "TgBRw49zt6ES"
      }
    },
    {
      "cell_type": "code",
      "source": [
        "df['created_time'] = pd.to_datetime(df['created'], format='%Y-%m-%d %H:%M:%S')\n",
        "df['year'] = df['created_time'].dt.year\n",
        "df['month'] = df['created_time'].dt.month\n",
        "df['day'] = df['created_time'].dt.day\n",
        "df['hour'] = df['created_time'].dt.hour\n",
        "df['minute'] = df['created_time'].dt.minute\n",
        "\n",
        "df.drop(['created', 'created_time'], axis=1, inplace=True)"
      ],
      "metadata": {
        "id": "vbcT8f2Hr_en"
      },
      "execution_count": 41,
      "outputs": []
    },
    {
      "cell_type": "markdown",
      "source": [
        "Работа с ключем задачи"
      ],
      "metadata": {
        "id": "kpxIpPyDt8Ld"
      }
    },
    {
      "cell_type": "code",
      "source": [
        "df['key_name'] = df['key'].apply(lambda x: x.split('-')[0])\n",
        "df['key_num'] = df['key'].apply(lambda x: x.split('-')[1])\n",
        "\n",
        "df.drop(['key', 'key_num'], axis=1, inplace=True)"
      ],
      "metadata": {
        "id": "QdO-WxwWr_go"
      },
      "execution_count": 42,
      "outputs": []
    },
    {
      "cell_type": "markdown",
      "source": [
        "Работа с описанием задачи"
      ],
      "metadata": {
        "id": "E21LgklOt9v9"
      }
    },
    {
      "cell_type": "code",
      "source": [
        "m = Mystem()\n",
        "lemmatizer = WordNetLemmatizer()\n",
        "w_tokenizer = WhitespaceTokenizer()"
      ],
      "metadata": {
        "id": "IijOGXhuuMNM"
      },
      "execution_count": 43,
      "outputs": []
    },
    {
      "cell_type": "markdown",
      "source": [
        "Для того чтобы лемматизация работала, необходимо раскомментировать первые две строки при первом запуске"
      ],
      "metadata": {
        "id": "c8an7QotuRJ-"
      }
    },
    {
      "cell_type": "code",
      "source": [
        "# !wget http://download.cdn.yandex.net/mystem/mystem-3.0-linux3.1-64bit.tar.gz\n",
        "# !tar -xvf mystem-3.0-linux3.1-64bit.tar.gz\n",
        "!cp mystem /root/.local/bin/mystem"
      ],
      "metadata": {
        "id": "qx5o7-dMuNG2",
        "colab": {
          "base_uri": "https://localhost:8080/"
        },
        "outputId": "c0115854-a0a0-4428-a720-65cf675f0f65"
      },
      "execution_count": 44,
      "outputs": [
        {
          "output_type": "stream",
          "name": "stdout",
          "text": [
            "cp: cannot create regular file '/root/.local/bin/mystem': Text file busy\n"
          ]
        }
      ]
    },
    {
      "cell_type": "code",
      "source": [
        "def clear_text(text):\n",
        "    t = re.sub(r'[^a-zA-Z0-9а-яА-ЯёЁ\\' ]', ' ', text)\n",
        "    t = ' '.join(t.split())\n",
        "    return t\n",
        "\n",
        "def lemmatize_text_rus(text):\n",
        "    tokens = m.lemmatize(text.lower())\n",
        "    tokens = [token for token in tokens if token != '\\n']\n",
        "    text = \" \".join(tokens)\n",
        "    \n",
        "    return text\n",
        "\n",
        "def pos_tagger(nltk_tag):\n",
        "    if nltk_tag.startswith('J'):\n",
        "        return wordnet.ADJ\n",
        "    elif nltk_tag.startswith('V'):\n",
        "        return wordnet.VERB\n",
        "    elif nltk_tag.startswith('N'):\n",
        "        return wordnet.NOUN\n",
        "    elif nltk_tag.startswith('R'):\n",
        "        return wordnet.ADV\n",
        "    else:         \n",
        "        return None\n",
        "\n",
        "def lemmatize_with_pos_eng(text):\n",
        "    pos_tagged = nltk.pos_tag(w_tokenizer.tokenize(text))\n",
        "    wordnet_tagged = list(map(lambda x: (x[0], pos_tagger(x[1])), pos_tagged))\n",
        "    lemmatized_sentence = []\n",
        "    for word, tag in wordnet_tagged:\n",
        "        if tag is None:\n",
        "            lemmatized_sentence.append(word)\n",
        "        else:       \n",
        "            lemmatized_sentence.append(lemmatizer.lemmatize(word, pos=tag))\n",
        "    lemmatized_sentence = \" \".join(lemmatized_sentence)\n",
        "    return lemmatized_sentence\n",
        "\n",
        "\n",
        "df['clear_summary'] = df['summary'].apply(clear_text)\n",
        "df['clear_summary'] = df['clear_summary'].str.lower()\n",
        "df['lemm_summary'] = df['clear_summary'].apply(lemmatize_text_rus)\n",
        "df['lemm_summary'] = df['lemm_summary'].apply(lemmatize_with_pos_eng)\n",
        "\n",
        "df.drop(['summary', 'clear_summary'], axis=1, inplace=True)"
      ],
      "metadata": {
        "id": "Y7OEgskar_ix"
      },
      "execution_count": 45,
      "outputs": []
    },
    {
      "cell_type": "markdown",
      "source": [
        "Эти стоп-слова пригодятся нам в дальнейшем при использовании tf-idf"
      ],
      "metadata": {
        "id": "kvmDILbfE-Gi"
      }
    },
    {
      "cell_type": "code",
      "source": [
        "stopwords_rus = stopwords.words(\"russian\")\n",
        "stopwords_eng = stopwords.words('english')\n",
        "stopwords_all = stopwords_rus + stopwords_eng\n",
        "\n",
        "count_tf_idf = TfidfVectorizer(stop_words=stopwords_all)"
      ],
      "metadata": {
        "id": "jGNtHADhE9d8"
      },
      "execution_count": 46,
      "outputs": []
    },
    {
      "cell_type": "markdown",
      "source": [
        "Преобразуем таргет, чтобы исключить выбросы и минимизировать разброс"
      ],
      "metadata": {
        "id": "XEaCl0e2vQpz"
      }
    },
    {
      "cell_type": "code",
      "source": [
        "df['log_target'] = np.log(df['overall_worklogs'])\n",
        "df.drop(['overall_worklogs'], axis=1, inplace=True)"
      ],
      "metadata": {
        "id": "lsZqkcbCr_kz"
      },
      "execution_count": 47,
      "outputs": []
    },
    {
      "cell_type": "markdown",
      "source": [
        "## Присоединяем дополнительные данные"
      ],
      "metadata": {
        "id": "X_QcTLIbFbGb"
      }
    },
    {
      "cell_type": "markdown",
      "source": [
        "### Информация о работниках"
      ],
      "metadata": {
        "id": "HV6oiPlWFpKP"
      }
    },
    {
      "cell_type": "markdown",
      "source": [
        "Считаем данные"
      ],
      "metadata": {
        "id": "jR2LswhjFh3Y"
      }
    },
    {
      "cell_type": "code",
      "source": [
        "df_emp = pd.read_csv(\"./data/employees.csv\")"
      ],
      "metadata": {
        "id": "Ga2DYeBvr_m0"
      },
      "execution_count": 48,
      "outputs": []
    },
    {
      "cell_type": "markdown",
      "source": [
        "Сразу отбросим бесполезное"
      ],
      "metadata": {
        "id": "uuW-ZP79Fy5E"
      }
    },
    {
      "cell_type": "code",
      "source": [
        "df_emp.drop(['english_level', 'salary_calculation_type', 'full_name'],\n",
        "            axis=1, inplace=True)"
      ],
      "metadata": {
        "id": "uIDlv_26r_qE"
      },
      "execution_count": 49,
      "outputs": []
    },
    {
      "cell_type": "code",
      "source": [
        "df_emp['payment_type'].fillna('unknown', inplace=True)\n",
        "df_emp['hiring_type'].fillna('unknown', inplace=True)"
      ],
      "metadata": {
        "id": "LmJk7nyNr_r5"
      },
      "execution_count": 50,
      "outputs": []
    },
    {
      "cell_type": "code",
      "source": [
        "def position_cleaning(x):\n",
        "    if x is np.NaN:\n",
        "        return x\n",
        "    \n",
        "    x = x.lower().strip().replace('-', ' ')\n",
        "\n",
        "    key_positions = ['web', 'директор', 'руководитель',\n",
        "                     'devops', 'рекрутер', 'бухгалтер',\n",
        "                     'hr', 'тестировщик']\n",
        "\n",
        "    for key_pos in key_positions:\n",
        "        if key_pos in x:\n",
        "            x = key_pos\n",
        "            break\n",
        "    \n",
        "    if x == 'рекрутер' or x == 'специалист отдела по управлению персоналом' or x == 'сорсер':\n",
        "        return 'hr'\n",
        "    elif x == 'графический дизайнер':\n",
        "        return 'web'\n",
        "    else:\n",
        "        return x\n",
        "\n",
        "\n",
        "df_emp['position'] = df_emp['position'].apply(position_cleaning)\n",
        "pos_pop = df_emp['position'].value_counts()"
      ],
      "metadata": {
        "id": "RT97zoe4GsRb"
      },
      "execution_count": 51,
      "outputs": []
    },
    {
      "cell_type": "code",
      "source": [
        "def remark_pos(x):\n",
        "    if x is np.NaN or pos_pop[x] < 3:\n",
        "        return 'other'\n",
        "    else:\n",
        "        return x\n",
        "\n",
        "\n",
        "df_emp['position'] = df_emp['position'].apply(remark_pos)\n",
        "df_emp.head()"
      ],
      "metadata": {
        "colab": {
          "base_uri": "https://localhost:8080/",
          "height": 206
        },
        "id": "75bzMCpyHWs8",
        "outputId": "aa3865e5-1b3e-47c2-d79d-34fd3ad65891"
      },
      "execution_count": 52,
      "outputs": [
        {
          "output_type": "execute_result",
          "data": {
            "text/plain": [
              "   id  active                          position hiring_type payment_type  \\\n",
              "0   1       1                             other     unknown      unknown   \n",
              "1   2       0                               web       staff        fixed   \n",
              "2   4       0                               web       staff        fixed   \n",
              "3   6       0  разработчик мобильных приложений       staff        fixed   \n",
              "4   8       1  разработчик мобильных приложений       staff        fixed   \n",
              "\n",
              "   passport  is_nda_signed  is_labor_contract_signed  \\\n",
              "0         0              0                         0   \n",
              "1         0              0                         0   \n",
              "2         0              0                         0   \n",
              "3         0              0                         0   \n",
              "4         1              1                         1   \n",
              "\n",
              "   is_added_to_internal_chats  is_added_one_to_one  \n",
              "0                           0                    0  \n",
              "1                           0                    0  \n",
              "2                           0                    0  \n",
              "3                           0                    0  \n",
              "4                           1                    1  "
            ],
            "text/html": [
              "\n",
              "  <div id=\"df-db9846a4-2b59-440e-a5f8-ed14c1dfad39\">\n",
              "    <div class=\"colab-df-container\">\n",
              "      <div>\n",
              "<style scoped>\n",
              "    .dataframe tbody tr th:only-of-type {\n",
              "        vertical-align: middle;\n",
              "    }\n",
              "\n",
              "    .dataframe tbody tr th {\n",
              "        vertical-align: top;\n",
              "    }\n",
              "\n",
              "    .dataframe thead th {\n",
              "        text-align: right;\n",
              "    }\n",
              "</style>\n",
              "<table border=\"1\" class=\"dataframe\">\n",
              "  <thead>\n",
              "    <tr style=\"text-align: right;\">\n",
              "      <th></th>\n",
              "      <th>id</th>\n",
              "      <th>active</th>\n",
              "      <th>position</th>\n",
              "      <th>hiring_type</th>\n",
              "      <th>payment_type</th>\n",
              "      <th>passport</th>\n",
              "      <th>is_nda_signed</th>\n",
              "      <th>is_labor_contract_signed</th>\n",
              "      <th>is_added_to_internal_chats</th>\n",
              "      <th>is_added_one_to_one</th>\n",
              "    </tr>\n",
              "  </thead>\n",
              "  <tbody>\n",
              "    <tr>\n",
              "      <th>0</th>\n",
              "      <td>1</td>\n",
              "      <td>1</td>\n",
              "      <td>other</td>\n",
              "      <td>unknown</td>\n",
              "      <td>unknown</td>\n",
              "      <td>0</td>\n",
              "      <td>0</td>\n",
              "      <td>0</td>\n",
              "      <td>0</td>\n",
              "      <td>0</td>\n",
              "    </tr>\n",
              "    <tr>\n",
              "      <th>1</th>\n",
              "      <td>2</td>\n",
              "      <td>0</td>\n",
              "      <td>web</td>\n",
              "      <td>staff</td>\n",
              "      <td>fixed</td>\n",
              "      <td>0</td>\n",
              "      <td>0</td>\n",
              "      <td>0</td>\n",
              "      <td>0</td>\n",
              "      <td>0</td>\n",
              "    </tr>\n",
              "    <tr>\n",
              "      <th>2</th>\n",
              "      <td>4</td>\n",
              "      <td>0</td>\n",
              "      <td>web</td>\n",
              "      <td>staff</td>\n",
              "      <td>fixed</td>\n",
              "      <td>0</td>\n",
              "      <td>0</td>\n",
              "      <td>0</td>\n",
              "      <td>0</td>\n",
              "      <td>0</td>\n",
              "    </tr>\n",
              "    <tr>\n",
              "      <th>3</th>\n",
              "      <td>6</td>\n",
              "      <td>0</td>\n",
              "      <td>разработчик мобильных приложений</td>\n",
              "      <td>staff</td>\n",
              "      <td>fixed</td>\n",
              "      <td>0</td>\n",
              "      <td>0</td>\n",
              "      <td>0</td>\n",
              "      <td>0</td>\n",
              "      <td>0</td>\n",
              "    </tr>\n",
              "    <tr>\n",
              "      <th>4</th>\n",
              "      <td>8</td>\n",
              "      <td>1</td>\n",
              "      <td>разработчик мобильных приложений</td>\n",
              "      <td>staff</td>\n",
              "      <td>fixed</td>\n",
              "      <td>1</td>\n",
              "      <td>1</td>\n",
              "      <td>1</td>\n",
              "      <td>1</td>\n",
              "      <td>1</td>\n",
              "    </tr>\n",
              "  </tbody>\n",
              "</table>\n",
              "</div>\n",
              "      <button class=\"colab-df-convert\" onclick=\"convertToInteractive('df-db9846a4-2b59-440e-a5f8-ed14c1dfad39')\"\n",
              "              title=\"Convert this dataframe to an interactive table.\"\n",
              "              style=\"display:none;\">\n",
              "        \n",
              "  <svg xmlns=\"http://www.w3.org/2000/svg\" height=\"24px\"viewBox=\"0 0 24 24\"\n",
              "       width=\"24px\">\n",
              "    <path d=\"M0 0h24v24H0V0z\" fill=\"none\"/>\n",
              "    <path d=\"M18.56 5.44l.94 2.06.94-2.06 2.06-.94-2.06-.94-.94-2.06-.94 2.06-2.06.94zm-11 1L8.5 8.5l.94-2.06 2.06-.94-2.06-.94L8.5 2.5l-.94 2.06-2.06.94zm10 10l.94 2.06.94-2.06 2.06-.94-2.06-.94-.94-2.06-.94 2.06-2.06.94z\"/><path d=\"M17.41 7.96l-1.37-1.37c-.4-.4-.92-.59-1.43-.59-.52 0-1.04.2-1.43.59L10.3 9.45l-7.72 7.72c-.78.78-.78 2.05 0 2.83L4 21.41c.39.39.9.59 1.41.59.51 0 1.02-.2 1.41-.59l7.78-7.78 2.81-2.81c.8-.78.8-2.07 0-2.86zM5.41 20L4 18.59l7.72-7.72 1.47 1.35L5.41 20z\"/>\n",
              "  </svg>\n",
              "      </button>\n",
              "      \n",
              "  <style>\n",
              "    .colab-df-container {\n",
              "      display:flex;\n",
              "      flex-wrap:wrap;\n",
              "      gap: 12px;\n",
              "    }\n",
              "\n",
              "    .colab-df-convert {\n",
              "      background-color: #E8F0FE;\n",
              "      border: none;\n",
              "      border-radius: 50%;\n",
              "      cursor: pointer;\n",
              "      display: none;\n",
              "      fill: #1967D2;\n",
              "      height: 32px;\n",
              "      padding: 0 0 0 0;\n",
              "      width: 32px;\n",
              "    }\n",
              "\n",
              "    .colab-df-convert:hover {\n",
              "      background-color: #E2EBFA;\n",
              "      box-shadow: 0px 1px 2px rgba(60, 64, 67, 0.3), 0px 1px 3px 1px rgba(60, 64, 67, 0.15);\n",
              "      fill: #174EA6;\n",
              "    }\n",
              "\n",
              "    [theme=dark] .colab-df-convert {\n",
              "      background-color: #3B4455;\n",
              "      fill: #D2E3FC;\n",
              "    }\n",
              "\n",
              "    [theme=dark] .colab-df-convert:hover {\n",
              "      background-color: #434B5C;\n",
              "      box-shadow: 0px 1px 3px 1px rgba(0, 0, 0, 0.15);\n",
              "      filter: drop-shadow(0px 1px 2px rgba(0, 0, 0, 0.3));\n",
              "      fill: #FFFFFF;\n",
              "    }\n",
              "  </style>\n",
              "\n",
              "      <script>\n",
              "        const buttonEl =\n",
              "          document.querySelector('#df-db9846a4-2b59-440e-a5f8-ed14c1dfad39 button.colab-df-convert');\n",
              "        buttonEl.style.display =\n",
              "          google.colab.kernel.accessAllowed ? 'block' : 'none';\n",
              "\n",
              "        async function convertToInteractive(key) {\n",
              "          const element = document.querySelector('#df-db9846a4-2b59-440e-a5f8-ed14c1dfad39');\n",
              "          const dataTable =\n",
              "            await google.colab.kernel.invokeFunction('convertToInteractive',\n",
              "                                                     [key], {});\n",
              "          if (!dataTable) return;\n",
              "\n",
              "          const docLinkHtml = 'Like what you see? Visit the ' +\n",
              "            '<a target=\"_blank\" href=https://colab.research.google.com/notebooks/data_table.ipynb>data table notebook</a>'\n",
              "            + ' to learn more about interactive tables.';\n",
              "          element.innerHTML = '';\n",
              "          dataTable['output_type'] = 'display_data';\n",
              "          await google.colab.output.renderOutput(dataTable, element);\n",
              "          const docLink = document.createElement('div');\n",
              "          docLink.innerHTML = docLinkHtml;\n",
              "          element.appendChild(docLink);\n",
              "        }\n",
              "      </script>\n",
              "    </div>\n",
              "  </div>\n",
              "  "
            ]
          },
          "metadata": {},
          "execution_count": 52
        }
      ]
    },
    {
      "cell_type": "markdown",
      "source": [
        "Присоединяем информацию о работниках"
      ],
      "metadata": {
        "id": "eTk_9XGYGHSg"
      }
    },
    {
      "cell_type": "code",
      "source": [
        "df = pd.merge(df, df_emp, left_on=\"assignee_id\", right_on=\"id\",\n",
        "              how='left', suffixes=('', '_y'))\n",
        "\n",
        "df.drop(['creator_id', 'assignee_id', 'id_y'], axis=1, inplace=True)"
      ],
      "metadata": {
        "id": "hWpusyvcr_vL"
      },
      "execution_count": 53,
      "outputs": []
    },
    {
      "cell_type": "code",
      "source": [
        "df.head()"
      ],
      "metadata": {
        "id": "RJlQMXytr_x1",
        "colab": {
          "base_uri": "https://localhost:8080/",
          "height": 444
        },
        "outputId": "f45e0240-bfb9-44b1-c12e-f62560292bb9"
      },
      "execution_count": 54,
      "outputs": [
        {
          "output_type": "execute_result",
          "data": {
            "text/plain": [
              "       id  project_id  year  month  day  hour  minute key_name  \\\n",
              "0  819952           5  2019     10    1     5      57       SM   \n",
              "1  819949           5  2019     10    1     5      59       SM   \n",
              "2  819947           5  2019     10    1     6       0       SM   \n",
              "3  819943           5  2019     10    1     6       2       SM   \n",
              "4  819941           5  2019     10    1     6       3       SM   \n",
              "\n",
              "                           lemm_summary  log_target  active  \\\n",
              "0         ui тест по заказ добро кейджи    7.495542       1   \n",
              "1                ui тест раздел профиль    8.881836       1   \n",
              "2            ui тест раздел личный счет    9.574983       1   \n",
              "3                ui тест раздел новость    6.802395       1   \n",
              "4  ui тест раздел зона скидка и доплата    6.802395       1   \n",
              "\n",
              "                           position hiring_type payment_type  passport  \\\n",
              "0  разработчик мобильных приложений       staff        fixed         1   \n",
              "1  разработчик мобильных приложений       staff        fixed         1   \n",
              "2  разработчик мобильных приложений       staff        fixed         1   \n",
              "3  разработчик мобильных приложений       staff        fixed         1   \n",
              "4  разработчик мобильных приложений       staff        fixed         1   \n",
              "\n",
              "   is_nda_signed  is_labor_contract_signed  is_added_to_internal_chats  \\\n",
              "0              1                         1                           1   \n",
              "1              1                         1                           1   \n",
              "2              1                         1                           1   \n",
              "3              1                         1                           1   \n",
              "4              1                         1                           1   \n",
              "\n",
              "   is_added_one_to_one  \n",
              "0                    1  \n",
              "1                    1  \n",
              "2                    1  \n",
              "3                    1  \n",
              "4                    1  "
            ],
            "text/html": [
              "\n",
              "  <div id=\"df-42cd12c4-4b66-4897-a66d-067a6dad68ba\">\n",
              "    <div class=\"colab-df-container\">\n",
              "      <div>\n",
              "<style scoped>\n",
              "    .dataframe tbody tr th:only-of-type {\n",
              "        vertical-align: middle;\n",
              "    }\n",
              "\n",
              "    .dataframe tbody tr th {\n",
              "        vertical-align: top;\n",
              "    }\n",
              "\n",
              "    .dataframe thead th {\n",
              "        text-align: right;\n",
              "    }\n",
              "</style>\n",
              "<table border=\"1\" class=\"dataframe\">\n",
              "  <thead>\n",
              "    <tr style=\"text-align: right;\">\n",
              "      <th></th>\n",
              "      <th>id</th>\n",
              "      <th>project_id</th>\n",
              "      <th>year</th>\n",
              "      <th>month</th>\n",
              "      <th>day</th>\n",
              "      <th>hour</th>\n",
              "      <th>minute</th>\n",
              "      <th>key_name</th>\n",
              "      <th>lemm_summary</th>\n",
              "      <th>log_target</th>\n",
              "      <th>active</th>\n",
              "      <th>position</th>\n",
              "      <th>hiring_type</th>\n",
              "      <th>payment_type</th>\n",
              "      <th>passport</th>\n",
              "      <th>is_nda_signed</th>\n",
              "      <th>is_labor_contract_signed</th>\n",
              "      <th>is_added_to_internal_chats</th>\n",
              "      <th>is_added_one_to_one</th>\n",
              "    </tr>\n",
              "  </thead>\n",
              "  <tbody>\n",
              "    <tr>\n",
              "      <th>0</th>\n",
              "      <td>819952</td>\n",
              "      <td>5</td>\n",
              "      <td>2019</td>\n",
              "      <td>10</td>\n",
              "      <td>1</td>\n",
              "      <td>5</td>\n",
              "      <td>57</td>\n",
              "      <td>SM</td>\n",
              "      <td>ui тест по заказ добро кейджи</td>\n",
              "      <td>7.495542</td>\n",
              "      <td>1</td>\n",
              "      <td>разработчик мобильных приложений</td>\n",
              "      <td>staff</td>\n",
              "      <td>fixed</td>\n",
              "      <td>1</td>\n",
              "      <td>1</td>\n",
              "      <td>1</td>\n",
              "      <td>1</td>\n",
              "      <td>1</td>\n",
              "    </tr>\n",
              "    <tr>\n",
              "      <th>1</th>\n",
              "      <td>819949</td>\n",
              "      <td>5</td>\n",
              "      <td>2019</td>\n",
              "      <td>10</td>\n",
              "      <td>1</td>\n",
              "      <td>5</td>\n",
              "      <td>59</td>\n",
              "      <td>SM</td>\n",
              "      <td>ui тест раздел профиль</td>\n",
              "      <td>8.881836</td>\n",
              "      <td>1</td>\n",
              "      <td>разработчик мобильных приложений</td>\n",
              "      <td>staff</td>\n",
              "      <td>fixed</td>\n",
              "      <td>1</td>\n",
              "      <td>1</td>\n",
              "      <td>1</td>\n",
              "      <td>1</td>\n",
              "      <td>1</td>\n",
              "    </tr>\n",
              "    <tr>\n",
              "      <th>2</th>\n",
              "      <td>819947</td>\n",
              "      <td>5</td>\n",
              "      <td>2019</td>\n",
              "      <td>10</td>\n",
              "      <td>1</td>\n",
              "      <td>6</td>\n",
              "      <td>0</td>\n",
              "      <td>SM</td>\n",
              "      <td>ui тест раздел личный счет</td>\n",
              "      <td>9.574983</td>\n",
              "      <td>1</td>\n",
              "      <td>разработчик мобильных приложений</td>\n",
              "      <td>staff</td>\n",
              "      <td>fixed</td>\n",
              "      <td>1</td>\n",
              "      <td>1</td>\n",
              "      <td>1</td>\n",
              "      <td>1</td>\n",
              "      <td>1</td>\n",
              "    </tr>\n",
              "    <tr>\n",
              "      <th>3</th>\n",
              "      <td>819943</td>\n",
              "      <td>5</td>\n",
              "      <td>2019</td>\n",
              "      <td>10</td>\n",
              "      <td>1</td>\n",
              "      <td>6</td>\n",
              "      <td>2</td>\n",
              "      <td>SM</td>\n",
              "      <td>ui тест раздел новость</td>\n",
              "      <td>6.802395</td>\n",
              "      <td>1</td>\n",
              "      <td>разработчик мобильных приложений</td>\n",
              "      <td>staff</td>\n",
              "      <td>fixed</td>\n",
              "      <td>1</td>\n",
              "      <td>1</td>\n",
              "      <td>1</td>\n",
              "      <td>1</td>\n",
              "      <td>1</td>\n",
              "    </tr>\n",
              "    <tr>\n",
              "      <th>4</th>\n",
              "      <td>819941</td>\n",
              "      <td>5</td>\n",
              "      <td>2019</td>\n",
              "      <td>10</td>\n",
              "      <td>1</td>\n",
              "      <td>6</td>\n",
              "      <td>3</td>\n",
              "      <td>SM</td>\n",
              "      <td>ui тест раздел зона скидка и доплата</td>\n",
              "      <td>6.802395</td>\n",
              "      <td>1</td>\n",
              "      <td>разработчик мобильных приложений</td>\n",
              "      <td>staff</td>\n",
              "      <td>fixed</td>\n",
              "      <td>1</td>\n",
              "      <td>1</td>\n",
              "      <td>1</td>\n",
              "      <td>1</td>\n",
              "      <td>1</td>\n",
              "    </tr>\n",
              "  </tbody>\n",
              "</table>\n",
              "</div>\n",
              "      <button class=\"colab-df-convert\" onclick=\"convertToInteractive('df-42cd12c4-4b66-4897-a66d-067a6dad68ba')\"\n",
              "              title=\"Convert this dataframe to an interactive table.\"\n",
              "              style=\"display:none;\">\n",
              "        \n",
              "  <svg xmlns=\"http://www.w3.org/2000/svg\" height=\"24px\"viewBox=\"0 0 24 24\"\n",
              "       width=\"24px\">\n",
              "    <path d=\"M0 0h24v24H0V0z\" fill=\"none\"/>\n",
              "    <path d=\"M18.56 5.44l.94 2.06.94-2.06 2.06-.94-2.06-.94-.94-2.06-.94 2.06-2.06.94zm-11 1L8.5 8.5l.94-2.06 2.06-.94-2.06-.94L8.5 2.5l-.94 2.06-2.06.94zm10 10l.94 2.06.94-2.06 2.06-.94-2.06-.94-.94-2.06-.94 2.06-2.06.94z\"/><path d=\"M17.41 7.96l-1.37-1.37c-.4-.4-.92-.59-1.43-.59-.52 0-1.04.2-1.43.59L10.3 9.45l-7.72 7.72c-.78.78-.78 2.05 0 2.83L4 21.41c.39.39.9.59 1.41.59.51 0 1.02-.2 1.41-.59l7.78-7.78 2.81-2.81c.8-.78.8-2.07 0-2.86zM5.41 20L4 18.59l7.72-7.72 1.47 1.35L5.41 20z\"/>\n",
              "  </svg>\n",
              "      </button>\n",
              "      \n",
              "  <style>\n",
              "    .colab-df-container {\n",
              "      display:flex;\n",
              "      flex-wrap:wrap;\n",
              "      gap: 12px;\n",
              "    }\n",
              "\n",
              "    .colab-df-convert {\n",
              "      background-color: #E8F0FE;\n",
              "      border: none;\n",
              "      border-radius: 50%;\n",
              "      cursor: pointer;\n",
              "      display: none;\n",
              "      fill: #1967D2;\n",
              "      height: 32px;\n",
              "      padding: 0 0 0 0;\n",
              "      width: 32px;\n",
              "    }\n",
              "\n",
              "    .colab-df-convert:hover {\n",
              "      background-color: #E2EBFA;\n",
              "      box-shadow: 0px 1px 2px rgba(60, 64, 67, 0.3), 0px 1px 3px 1px rgba(60, 64, 67, 0.15);\n",
              "      fill: #174EA6;\n",
              "    }\n",
              "\n",
              "    [theme=dark] .colab-df-convert {\n",
              "      background-color: #3B4455;\n",
              "      fill: #D2E3FC;\n",
              "    }\n",
              "\n",
              "    [theme=dark] .colab-df-convert:hover {\n",
              "      background-color: #434B5C;\n",
              "      box-shadow: 0px 1px 3px 1px rgba(0, 0, 0, 0.15);\n",
              "      filter: drop-shadow(0px 1px 2px rgba(0, 0, 0, 0.3));\n",
              "      fill: #FFFFFF;\n",
              "    }\n",
              "  </style>\n",
              "\n",
              "      <script>\n",
              "        const buttonEl =\n",
              "          document.querySelector('#df-42cd12c4-4b66-4897-a66d-067a6dad68ba button.colab-df-convert');\n",
              "        buttonEl.style.display =\n",
              "          google.colab.kernel.accessAllowed ? 'block' : 'none';\n",
              "\n",
              "        async function convertToInteractive(key) {\n",
              "          const element = document.querySelector('#df-42cd12c4-4b66-4897-a66d-067a6dad68ba');\n",
              "          const dataTable =\n",
              "            await google.colab.kernel.invokeFunction('convertToInteractive',\n",
              "                                                     [key], {});\n",
              "          if (!dataTable) return;\n",
              "\n",
              "          const docLinkHtml = 'Like what you see? Visit the ' +\n",
              "            '<a target=\"_blank\" href=https://colab.research.google.com/notebooks/data_table.ipynb>data table notebook</a>'\n",
              "            + ' to learn more about interactive tables.';\n",
              "          element.innerHTML = '';\n",
              "          dataTable['output_type'] = 'display_data';\n",
              "          await google.colab.output.renderOutput(dataTable, element);\n",
              "          const docLink = document.createElement('div');\n",
              "          docLink.innerHTML = docLinkHtml;\n",
              "          element.appendChild(docLink);\n",
              "        }\n",
              "      </script>\n",
              "    </div>\n",
              "  </div>\n",
              "  "
            ]
          },
          "metadata": {},
          "execution_count": 54
        }
      ]
    },
    {
      "cell_type": "markdown",
      "source": [
        "### Информация о комментариях"
      ],
      "metadata": {
        "id": "d9G51waBSu4i"
      }
    },
    {
      "cell_type": "code",
      "source": [
        "df_coms = pd.read_csv(\"./data/train/train_comments.csv\")"
      ],
      "metadata": {
        "id": "mIwX9CpWSx2P"
      },
      "execution_count": 55,
      "outputs": []
    },
    {
      "cell_type": "code",
      "source": [
        "df_coms_counts = df_coms.groupby('issue_id').agg({'comment_id': 'count',\n",
        "                                                  'author_id': 'nunique'})\n",
        "df_coms_counts.reset_index(inplace=True)\n",
        "df_coms_counts.rename(columns={\"comment_id\":\"comments_cnt\",\n",
        "                               \"author_id\":\"authors_cnt\"},\n",
        "                      inplace=True)\n",
        "df_coms_counts.head()"
      ],
      "metadata": {
        "colab": {
          "base_uri": "https://localhost:8080/",
          "height": 206
        },
        "id": "8vK5MfNnSx4a",
        "outputId": "fec68bd4-1659-4f10-84cf-a46fb7d8670f"
      },
      "execution_count": 56,
      "outputs": [
        {
          "output_type": "execute_result",
          "data": {
            "text/plain": [
              "   issue_id  comments_cnt  authors_cnt\n",
              "0    669666             1            1\n",
              "1    669670             1            1\n",
              "2    670930             3            1\n",
              "3    670934             3            1\n",
              "4    675979             5            1"
            ],
            "text/html": [
              "\n",
              "  <div id=\"df-a6219fc4-2dd5-4f18-a2c6-58264e916bcf\">\n",
              "    <div class=\"colab-df-container\">\n",
              "      <div>\n",
              "<style scoped>\n",
              "    .dataframe tbody tr th:only-of-type {\n",
              "        vertical-align: middle;\n",
              "    }\n",
              "\n",
              "    .dataframe tbody tr th {\n",
              "        vertical-align: top;\n",
              "    }\n",
              "\n",
              "    .dataframe thead th {\n",
              "        text-align: right;\n",
              "    }\n",
              "</style>\n",
              "<table border=\"1\" class=\"dataframe\">\n",
              "  <thead>\n",
              "    <tr style=\"text-align: right;\">\n",
              "      <th></th>\n",
              "      <th>issue_id</th>\n",
              "      <th>comments_cnt</th>\n",
              "      <th>authors_cnt</th>\n",
              "    </tr>\n",
              "  </thead>\n",
              "  <tbody>\n",
              "    <tr>\n",
              "      <th>0</th>\n",
              "      <td>669666</td>\n",
              "      <td>1</td>\n",
              "      <td>1</td>\n",
              "    </tr>\n",
              "    <tr>\n",
              "      <th>1</th>\n",
              "      <td>669670</td>\n",
              "      <td>1</td>\n",
              "      <td>1</td>\n",
              "    </tr>\n",
              "    <tr>\n",
              "      <th>2</th>\n",
              "      <td>670930</td>\n",
              "      <td>3</td>\n",
              "      <td>1</td>\n",
              "    </tr>\n",
              "    <tr>\n",
              "      <th>3</th>\n",
              "      <td>670934</td>\n",
              "      <td>3</td>\n",
              "      <td>1</td>\n",
              "    </tr>\n",
              "    <tr>\n",
              "      <th>4</th>\n",
              "      <td>675979</td>\n",
              "      <td>5</td>\n",
              "      <td>1</td>\n",
              "    </tr>\n",
              "  </tbody>\n",
              "</table>\n",
              "</div>\n",
              "      <button class=\"colab-df-convert\" onclick=\"convertToInteractive('df-a6219fc4-2dd5-4f18-a2c6-58264e916bcf')\"\n",
              "              title=\"Convert this dataframe to an interactive table.\"\n",
              "              style=\"display:none;\">\n",
              "        \n",
              "  <svg xmlns=\"http://www.w3.org/2000/svg\" height=\"24px\"viewBox=\"0 0 24 24\"\n",
              "       width=\"24px\">\n",
              "    <path d=\"M0 0h24v24H0V0z\" fill=\"none\"/>\n",
              "    <path d=\"M18.56 5.44l.94 2.06.94-2.06 2.06-.94-2.06-.94-.94-2.06-.94 2.06-2.06.94zm-11 1L8.5 8.5l.94-2.06 2.06-.94-2.06-.94L8.5 2.5l-.94 2.06-2.06.94zm10 10l.94 2.06.94-2.06 2.06-.94-2.06-.94-.94-2.06-.94 2.06-2.06.94z\"/><path d=\"M17.41 7.96l-1.37-1.37c-.4-.4-.92-.59-1.43-.59-.52 0-1.04.2-1.43.59L10.3 9.45l-7.72 7.72c-.78.78-.78 2.05 0 2.83L4 21.41c.39.39.9.59 1.41.59.51 0 1.02-.2 1.41-.59l7.78-7.78 2.81-2.81c.8-.78.8-2.07 0-2.86zM5.41 20L4 18.59l7.72-7.72 1.47 1.35L5.41 20z\"/>\n",
              "  </svg>\n",
              "      </button>\n",
              "      \n",
              "  <style>\n",
              "    .colab-df-container {\n",
              "      display:flex;\n",
              "      flex-wrap:wrap;\n",
              "      gap: 12px;\n",
              "    }\n",
              "\n",
              "    .colab-df-convert {\n",
              "      background-color: #E8F0FE;\n",
              "      border: none;\n",
              "      border-radius: 50%;\n",
              "      cursor: pointer;\n",
              "      display: none;\n",
              "      fill: #1967D2;\n",
              "      height: 32px;\n",
              "      padding: 0 0 0 0;\n",
              "      width: 32px;\n",
              "    }\n",
              "\n",
              "    .colab-df-convert:hover {\n",
              "      background-color: #E2EBFA;\n",
              "      box-shadow: 0px 1px 2px rgba(60, 64, 67, 0.3), 0px 1px 3px 1px rgba(60, 64, 67, 0.15);\n",
              "      fill: #174EA6;\n",
              "    }\n",
              "\n",
              "    [theme=dark] .colab-df-convert {\n",
              "      background-color: #3B4455;\n",
              "      fill: #D2E3FC;\n",
              "    }\n",
              "\n",
              "    [theme=dark] .colab-df-convert:hover {\n",
              "      background-color: #434B5C;\n",
              "      box-shadow: 0px 1px 3px 1px rgba(0, 0, 0, 0.15);\n",
              "      filter: drop-shadow(0px 1px 2px rgba(0, 0, 0, 0.3));\n",
              "      fill: #FFFFFF;\n",
              "    }\n",
              "  </style>\n",
              "\n",
              "      <script>\n",
              "        const buttonEl =\n",
              "          document.querySelector('#df-a6219fc4-2dd5-4f18-a2c6-58264e916bcf button.colab-df-convert');\n",
              "        buttonEl.style.display =\n",
              "          google.colab.kernel.accessAllowed ? 'block' : 'none';\n",
              "\n",
              "        async function convertToInteractive(key) {\n",
              "          const element = document.querySelector('#df-a6219fc4-2dd5-4f18-a2c6-58264e916bcf');\n",
              "          const dataTable =\n",
              "            await google.colab.kernel.invokeFunction('convertToInteractive',\n",
              "                                                     [key], {});\n",
              "          if (!dataTable) return;\n",
              "\n",
              "          const docLinkHtml = 'Like what you see? Visit the ' +\n",
              "            '<a target=\"_blank\" href=https://colab.research.google.com/notebooks/data_table.ipynb>data table notebook</a>'\n",
              "            + ' to learn more about interactive tables.';\n",
              "          element.innerHTML = '';\n",
              "          dataTable['output_type'] = 'display_data';\n",
              "          await google.colab.output.renderOutput(dataTable, element);\n",
              "          const docLink = document.createElement('div');\n",
              "          docLink.innerHTML = docLinkHtml;\n",
              "          element.appendChild(docLink);\n",
              "        }\n",
              "      </script>\n",
              "    </div>\n",
              "  </div>\n",
              "  "
            ]
          },
          "metadata": {},
          "execution_count": 56
        }
      ]
    },
    {
      "cell_type": "code",
      "source": [
        "df = pd.merge(df, df_coms_counts, left_on=\"id\", right_on=\"issue_id\", how='left')\n",
        "df.drop(['id', 'issue_id'], axis=1, inplace=True)"
      ],
      "metadata": {
        "id": "PvsQqUfISx6t"
      },
      "execution_count": 57,
      "outputs": []
    },
    {
      "cell_type": "code",
      "source": [
        "df['comments_cnt'] = df['comments_cnt'].fillna(0).astype('int32')\n",
        "df['authors_cnt'] = df['authors_cnt'].fillna(0).astype('int32')\n",
        "df.head()"
      ],
      "metadata": {
        "colab": {
          "base_uri": "https://localhost:8080/",
          "height": 444
        },
        "id": "qR80ew0qSx8s",
        "outputId": "ecaa6b09-a8e6-463a-f61f-853b4f754093"
      },
      "execution_count": 58,
      "outputs": [
        {
          "output_type": "execute_result",
          "data": {
            "text/plain": [
              "   project_id  year  month  day  hour  minute key_name  \\\n",
              "0           5  2019     10    1     5      57       SM   \n",
              "1           5  2019     10    1     5      59       SM   \n",
              "2           5  2019     10    1     6       0       SM   \n",
              "3           5  2019     10    1     6       2       SM   \n",
              "4           5  2019     10    1     6       3       SM   \n",
              "\n",
              "                           lemm_summary  log_target  active  \\\n",
              "0         ui тест по заказ добро кейджи    7.495542       1   \n",
              "1                ui тест раздел профиль    8.881836       1   \n",
              "2            ui тест раздел личный счет    9.574983       1   \n",
              "3                ui тест раздел новость    6.802395       1   \n",
              "4  ui тест раздел зона скидка и доплата    6.802395       1   \n",
              "\n",
              "                           position hiring_type payment_type  passport  \\\n",
              "0  разработчик мобильных приложений       staff        fixed         1   \n",
              "1  разработчик мобильных приложений       staff        fixed         1   \n",
              "2  разработчик мобильных приложений       staff        fixed         1   \n",
              "3  разработчик мобильных приложений       staff        fixed         1   \n",
              "4  разработчик мобильных приложений       staff        fixed         1   \n",
              "\n",
              "   is_nda_signed  is_labor_contract_signed  is_added_to_internal_chats  \\\n",
              "0              1                         1                           1   \n",
              "1              1                         1                           1   \n",
              "2              1                         1                           1   \n",
              "3              1                         1                           1   \n",
              "4              1                         1                           1   \n",
              "\n",
              "   is_added_one_to_one  comments_cnt  authors_cnt  \n",
              "0                    1             0            0  \n",
              "1                    1             1            1  \n",
              "2                    1             0            0  \n",
              "3                    1             0            0  \n",
              "4                    1             1            1  "
            ],
            "text/html": [
              "\n",
              "  <div id=\"df-52be54d4-7d20-4e08-baaf-a6c8bc30497a\">\n",
              "    <div class=\"colab-df-container\">\n",
              "      <div>\n",
              "<style scoped>\n",
              "    .dataframe tbody tr th:only-of-type {\n",
              "        vertical-align: middle;\n",
              "    }\n",
              "\n",
              "    .dataframe tbody tr th {\n",
              "        vertical-align: top;\n",
              "    }\n",
              "\n",
              "    .dataframe thead th {\n",
              "        text-align: right;\n",
              "    }\n",
              "</style>\n",
              "<table border=\"1\" class=\"dataframe\">\n",
              "  <thead>\n",
              "    <tr style=\"text-align: right;\">\n",
              "      <th></th>\n",
              "      <th>project_id</th>\n",
              "      <th>year</th>\n",
              "      <th>month</th>\n",
              "      <th>day</th>\n",
              "      <th>hour</th>\n",
              "      <th>minute</th>\n",
              "      <th>key_name</th>\n",
              "      <th>lemm_summary</th>\n",
              "      <th>log_target</th>\n",
              "      <th>active</th>\n",
              "      <th>position</th>\n",
              "      <th>hiring_type</th>\n",
              "      <th>payment_type</th>\n",
              "      <th>passport</th>\n",
              "      <th>is_nda_signed</th>\n",
              "      <th>is_labor_contract_signed</th>\n",
              "      <th>is_added_to_internal_chats</th>\n",
              "      <th>is_added_one_to_one</th>\n",
              "      <th>comments_cnt</th>\n",
              "      <th>authors_cnt</th>\n",
              "    </tr>\n",
              "  </thead>\n",
              "  <tbody>\n",
              "    <tr>\n",
              "      <th>0</th>\n",
              "      <td>5</td>\n",
              "      <td>2019</td>\n",
              "      <td>10</td>\n",
              "      <td>1</td>\n",
              "      <td>5</td>\n",
              "      <td>57</td>\n",
              "      <td>SM</td>\n",
              "      <td>ui тест по заказ добро кейджи</td>\n",
              "      <td>7.495542</td>\n",
              "      <td>1</td>\n",
              "      <td>разработчик мобильных приложений</td>\n",
              "      <td>staff</td>\n",
              "      <td>fixed</td>\n",
              "      <td>1</td>\n",
              "      <td>1</td>\n",
              "      <td>1</td>\n",
              "      <td>1</td>\n",
              "      <td>1</td>\n",
              "      <td>0</td>\n",
              "      <td>0</td>\n",
              "    </tr>\n",
              "    <tr>\n",
              "      <th>1</th>\n",
              "      <td>5</td>\n",
              "      <td>2019</td>\n",
              "      <td>10</td>\n",
              "      <td>1</td>\n",
              "      <td>5</td>\n",
              "      <td>59</td>\n",
              "      <td>SM</td>\n",
              "      <td>ui тест раздел профиль</td>\n",
              "      <td>8.881836</td>\n",
              "      <td>1</td>\n",
              "      <td>разработчик мобильных приложений</td>\n",
              "      <td>staff</td>\n",
              "      <td>fixed</td>\n",
              "      <td>1</td>\n",
              "      <td>1</td>\n",
              "      <td>1</td>\n",
              "      <td>1</td>\n",
              "      <td>1</td>\n",
              "      <td>1</td>\n",
              "      <td>1</td>\n",
              "    </tr>\n",
              "    <tr>\n",
              "      <th>2</th>\n",
              "      <td>5</td>\n",
              "      <td>2019</td>\n",
              "      <td>10</td>\n",
              "      <td>1</td>\n",
              "      <td>6</td>\n",
              "      <td>0</td>\n",
              "      <td>SM</td>\n",
              "      <td>ui тест раздел личный счет</td>\n",
              "      <td>9.574983</td>\n",
              "      <td>1</td>\n",
              "      <td>разработчик мобильных приложений</td>\n",
              "      <td>staff</td>\n",
              "      <td>fixed</td>\n",
              "      <td>1</td>\n",
              "      <td>1</td>\n",
              "      <td>1</td>\n",
              "      <td>1</td>\n",
              "      <td>1</td>\n",
              "      <td>0</td>\n",
              "      <td>0</td>\n",
              "    </tr>\n",
              "    <tr>\n",
              "      <th>3</th>\n",
              "      <td>5</td>\n",
              "      <td>2019</td>\n",
              "      <td>10</td>\n",
              "      <td>1</td>\n",
              "      <td>6</td>\n",
              "      <td>2</td>\n",
              "      <td>SM</td>\n",
              "      <td>ui тест раздел новость</td>\n",
              "      <td>6.802395</td>\n",
              "      <td>1</td>\n",
              "      <td>разработчик мобильных приложений</td>\n",
              "      <td>staff</td>\n",
              "      <td>fixed</td>\n",
              "      <td>1</td>\n",
              "      <td>1</td>\n",
              "      <td>1</td>\n",
              "      <td>1</td>\n",
              "      <td>1</td>\n",
              "      <td>0</td>\n",
              "      <td>0</td>\n",
              "    </tr>\n",
              "    <tr>\n",
              "      <th>4</th>\n",
              "      <td>5</td>\n",
              "      <td>2019</td>\n",
              "      <td>10</td>\n",
              "      <td>1</td>\n",
              "      <td>6</td>\n",
              "      <td>3</td>\n",
              "      <td>SM</td>\n",
              "      <td>ui тест раздел зона скидка и доплата</td>\n",
              "      <td>6.802395</td>\n",
              "      <td>1</td>\n",
              "      <td>разработчик мобильных приложений</td>\n",
              "      <td>staff</td>\n",
              "      <td>fixed</td>\n",
              "      <td>1</td>\n",
              "      <td>1</td>\n",
              "      <td>1</td>\n",
              "      <td>1</td>\n",
              "      <td>1</td>\n",
              "      <td>1</td>\n",
              "      <td>1</td>\n",
              "    </tr>\n",
              "  </tbody>\n",
              "</table>\n",
              "</div>\n",
              "      <button class=\"colab-df-convert\" onclick=\"convertToInteractive('df-52be54d4-7d20-4e08-baaf-a6c8bc30497a')\"\n",
              "              title=\"Convert this dataframe to an interactive table.\"\n",
              "              style=\"display:none;\">\n",
              "        \n",
              "  <svg xmlns=\"http://www.w3.org/2000/svg\" height=\"24px\"viewBox=\"0 0 24 24\"\n",
              "       width=\"24px\">\n",
              "    <path d=\"M0 0h24v24H0V0z\" fill=\"none\"/>\n",
              "    <path d=\"M18.56 5.44l.94 2.06.94-2.06 2.06-.94-2.06-.94-.94-2.06-.94 2.06-2.06.94zm-11 1L8.5 8.5l.94-2.06 2.06-.94-2.06-.94L8.5 2.5l-.94 2.06-2.06.94zm10 10l.94 2.06.94-2.06 2.06-.94-2.06-.94-.94-2.06-.94 2.06-2.06.94z\"/><path d=\"M17.41 7.96l-1.37-1.37c-.4-.4-.92-.59-1.43-.59-.52 0-1.04.2-1.43.59L10.3 9.45l-7.72 7.72c-.78.78-.78 2.05 0 2.83L4 21.41c.39.39.9.59 1.41.59.51 0 1.02-.2 1.41-.59l7.78-7.78 2.81-2.81c.8-.78.8-2.07 0-2.86zM5.41 20L4 18.59l7.72-7.72 1.47 1.35L5.41 20z\"/>\n",
              "  </svg>\n",
              "      </button>\n",
              "      \n",
              "  <style>\n",
              "    .colab-df-container {\n",
              "      display:flex;\n",
              "      flex-wrap:wrap;\n",
              "      gap: 12px;\n",
              "    }\n",
              "\n",
              "    .colab-df-convert {\n",
              "      background-color: #E8F0FE;\n",
              "      border: none;\n",
              "      border-radius: 50%;\n",
              "      cursor: pointer;\n",
              "      display: none;\n",
              "      fill: #1967D2;\n",
              "      height: 32px;\n",
              "      padding: 0 0 0 0;\n",
              "      width: 32px;\n",
              "    }\n",
              "\n",
              "    .colab-df-convert:hover {\n",
              "      background-color: #E2EBFA;\n",
              "      box-shadow: 0px 1px 2px rgba(60, 64, 67, 0.3), 0px 1px 3px 1px rgba(60, 64, 67, 0.15);\n",
              "      fill: #174EA6;\n",
              "    }\n",
              "\n",
              "    [theme=dark] .colab-df-convert {\n",
              "      background-color: #3B4455;\n",
              "      fill: #D2E3FC;\n",
              "    }\n",
              "\n",
              "    [theme=dark] .colab-df-convert:hover {\n",
              "      background-color: #434B5C;\n",
              "      box-shadow: 0px 1px 3px 1px rgba(0, 0, 0, 0.15);\n",
              "      filter: drop-shadow(0px 1px 2px rgba(0, 0, 0, 0.3));\n",
              "      fill: #FFFFFF;\n",
              "    }\n",
              "  </style>\n",
              "\n",
              "      <script>\n",
              "        const buttonEl =\n",
              "          document.querySelector('#df-52be54d4-7d20-4e08-baaf-a6c8bc30497a button.colab-df-convert');\n",
              "        buttonEl.style.display =\n",
              "          google.colab.kernel.accessAllowed ? 'block' : 'none';\n",
              "\n",
              "        async function convertToInteractive(key) {\n",
              "          const element = document.querySelector('#df-52be54d4-7d20-4e08-baaf-a6c8bc30497a');\n",
              "          const dataTable =\n",
              "            await google.colab.kernel.invokeFunction('convertToInteractive',\n",
              "                                                     [key], {});\n",
              "          if (!dataTable) return;\n",
              "\n",
              "          const docLinkHtml = 'Like what you see? Visit the ' +\n",
              "            '<a target=\"_blank\" href=https://colab.research.google.com/notebooks/data_table.ipynb>data table notebook</a>'\n",
              "            + ' to learn more about interactive tables.';\n",
              "          element.innerHTML = '';\n",
              "          dataTable['output_type'] = 'display_data';\n",
              "          await google.colab.output.renderOutput(dataTable, element);\n",
              "          const docLink = document.createElement('div');\n",
              "          docLink.innerHTML = docLinkHtml;\n",
              "          element.appendChild(docLink);\n",
              "        }\n",
              "      </script>\n",
              "    </div>\n",
              "  </div>\n",
              "  "
            ]
          },
          "metadata": {},
          "execution_count": 58
        }
      ]
    },
    {
      "cell_type": "markdown",
      "source": [
        "## Разделение данных"
      ],
      "metadata": {
        "id": "U3D1HjBCIO37"
      }
    },
    {
      "cell_type": "code",
      "source": [
        "X = df.drop(['log_target'], axis=1)\n",
        "y = df[['log_target']]\n",
        "\n",
        "X_train, X_val, y_train, y_val = train_test_split(X, y, test_size=0.15, random_state=59)\n",
        "X_train.reset_index(inplace=True, drop=True)\n",
        "X_val.reset_index(inplace=True, drop=True)\n",
        "y_train = y_train.values\n",
        "y_val = y_val.values\n",
        "X_train.shape, X_val.shape"
      ],
      "metadata": {
        "id": "4RQHUI1or_zV",
        "colab": {
          "base_uri": "https://localhost:8080/"
        },
        "outputId": "c44ae8d5-ae43-47a9-d9cc-d80470809e24"
      },
      "execution_count": 59,
      "outputs": [
        {
          "output_type": "execute_result",
          "data": {
            "text/plain": [
              "((8150, 19), (1439, 19))"
            ]
          },
          "metadata": {},
          "execution_count": 59
        }
      ]
    },
    {
      "cell_type": "markdown",
      "source": [
        "Применяем tf-idf"
      ],
      "metadata": {
        "id": "ezAr-6XmKex6"
      }
    },
    {
      "cell_type": "code",
      "source": [
        "X_train_new = count_tf_idf.fit_transform(X_train['lemm_summary'])\n",
        "feature_names_tf = list(map(lambda x: x + '_tf', count_tf_idf.get_feature_names_out()))\n",
        "\n",
        "X_train_new_df = pd.DataFrame(X_train_new.toarray(), columns=feature_names_tf)\n",
        "X_train.drop('lemm_summary', axis=1, inplace=True)\n",
        "X_train = pd.concat([X_train, X_train_new_df], axis=1)\n",
        "\n",
        "X_val_new = count_tf_idf.transform(X_val['lemm_summary'])\n",
        "X_val_new_df = pd.DataFrame(X_val_new.toarray(), columns=feature_names_tf)\n",
        "X_val.drop('lemm_summary', axis=1, inplace=True)\n",
        "X_val = pd.concat([X_val, X_val_new_df], axis=1)\n",
        "\n",
        "X_train.shape, X_val.shape"
      ],
      "metadata": {
        "colab": {
          "base_uri": "https://localhost:8080/"
        },
        "id": "LTSkiwZhKd_9",
        "outputId": "2a2a79de-6089-42f6-eb7f-9f2f2c7d204d"
      },
      "execution_count": 60,
      "outputs": [
        {
          "output_type": "execute_result",
          "data": {
            "text/plain": [
              "((8150, 4531), (1439, 4531))"
            ]
          },
          "metadata": {},
          "execution_count": 60
        }
      ]
    },
    {
      "cell_type": "markdown",
      "source": [
        "Применяем Label Encoding (так как ключевыми моделями будут деревья и их производные, то выбор справедлив)"
      ],
      "metadata": {
        "id": "DiGvfpQDLDfT"
      }
    },
    {
      "cell_type": "code",
      "source": [
        "cat_features = ['key_name', 'position',\n",
        "                'hiring_type', 'payment_type']\n",
        "\n",
        "ord_encoder = OrdinalEncoder(handle_unknown='use_encoded_value',\n",
        "                                unknown_value=-1)\n",
        "X_train[cat_features] = ord_encoder.fit_transform(X_train[cat_features])\n",
        "X_val[cat_features] = ord_encoder.transform(X_val[cat_features])"
      ],
      "metadata": {
        "id": "mAiYoF57IK-W"
      },
      "execution_count": 61,
      "outputs": []
    },
    {
      "cell_type": "markdown",
      "source": [
        "# Работа с моделью"
      ],
      "metadata": {
        "id": "GkJcbvvjS_eD"
      }
    },
    {
      "cell_type": "code",
      "source": [
        "model = XGBRegressor(random_state=59)\n",
        "model.fit(X_train, y_train)"
      ],
      "metadata": {
        "colab": {
          "base_uri": "https://localhost:8080/"
        },
        "id": "7M2FNnIbILE0",
        "outputId": "3a569619-604c-4fa8-b586-564d4b93309e"
      },
      "execution_count": 62,
      "outputs": [
        {
          "output_type": "stream",
          "name": "stdout",
          "text": [
            "[19:02:04] WARNING: /workspace/src/objective/regression_obj.cu:152: reg:linear is now deprecated in favor of reg:squarederror.\n"
          ]
        },
        {
          "output_type": "execute_result",
          "data": {
            "text/plain": [
              "XGBRegressor(random_state=59)"
            ]
          },
          "metadata": {},
          "execution_count": 62
        }
      ]
    },
    {
      "cell_type": "code",
      "source": [
        "pred = model.predict(X_val)\n",
        "score = r2_score(y_val, pred)\n",
        "score"
      ],
      "metadata": {
        "colab": {
          "base_uri": "https://localhost:8080/"
        },
        "id": "QWG8T3emILGs",
        "outputId": "fb4bfbcf-b042-405d-ef70-5c389639c3d5"
      },
      "execution_count": 63,
      "outputs": [
        {
          "output_type": "execute_result",
          "data": {
            "text/plain": [
              "0.174540517901144"
            ]
          },
          "metadata": {},
          "execution_count": 63
        }
      ]
    },
    {
      "cell_type": "markdown",
      "source": [
        "# Сабмит на сайт"
      ],
      "metadata": {
        "id": "6caUJi3NVgJK"
      }
    },
    {
      "cell_type": "markdown",
      "source": [
        "## Обработка тестовых данных"
      ],
      "metadata": {
        "id": "G3cS1H6mVijG"
      }
    },
    {
      "cell_type": "markdown",
      "source": [
        "Считаем данные"
      ],
      "metadata": {
        "id": "WCmIgHdwVnOO"
      }
    },
    {
      "cell_type": "code",
      "source": [
        "df_test = pd.read_csv(\"./data/test/test_issues.csv\")"
      ],
      "metadata": {
        "id": "KQ6qE0t5TkN2"
      },
      "execution_count": 64,
      "outputs": []
    },
    {
      "cell_type": "code",
      "source": [
        "df_test['created_time'] = pd.to_datetime(df_test['created'], format='%Y-%m-%d %H:%M:%S')\n",
        "df_test['year'] = df_test['created_time'].dt.year\n",
        "df_test['month'] = df_test['created_time'].dt.month\n",
        "df_test['day'] = df_test['created_time'].dt.day\n",
        "df_test['hour'] = df_test['created_time'].dt.hour\n",
        "df_test['minute'] = df_test['created_time'].dt.minute\n",
        "\n",
        "df_test['key_name'] = df_test['key'].apply(lambda x: x.split('-')[0])\n",
        "df_test['key_num'] = df_test['key'].apply(lambda x: x.split('-')[1])\n",
        "\n",
        "df_test['clear_summary'] = df_test['summary'].apply(clear_text)\n",
        "df_test['clear_summary'] = df_test['clear_summary'].str.lower()\n",
        "df_test['lemm_summary'] = df_test['clear_summary'].apply(lemmatize_text_rus)\n",
        "df_test['lemm_summary'] = df_test['lemm_summary'].apply(lemmatize_with_pos_eng)\n",
        "\n",
        "df_test = pd.merge(df_test, df_emp, left_on=\"assignee_id\", right_on=\"id\",\n",
        "                   how='left', suffixes=('', '_y'))\n",
        "\n",
        "df_test.drop(['created', 'created_time'], axis=1, inplace=True)\n",
        "df_test.drop(['key', 'key_num'], axis=1, inplace=True)\n",
        "df_test.drop(['summary', 'clear_summary'], axis=1, inplace=True)\n",
        "df_test.drop(['creator_id', 'assignee_id', 'id_y'], axis=1, inplace=True)\n",
        "\n",
        "df_test.head()"
      ],
      "metadata": {
        "colab": {
          "base_uri": "https://localhost:8080/",
          "height": 548
        },
        "id": "zKQZKJ5kTkQB",
        "outputId": "84ff3f1c-84b5-486c-8c18-2b1d4d3fbc16"
      },
      "execution_count": 65,
      "outputs": [
        {
          "output_type": "execute_result",
          "data": {
            "text/plain": [
              "       id  project_id  year  month  day  hour  minute key_name  \\\n",
              "0  675975           5  2020      1   15     9      52       SM   \n",
              "1  675972           5  2020      1   15     9      54       SM   \n",
              "2  675965           5  2020      1   16     4      46       SM   \n",
              "3  675961           5  2020      1   16    11      12       SM   \n",
              "4  675955           5  2020      1   17     5      19       SM   \n",
              "\n",
              "                                        lemm_summary  active  \\\n",
              "0             выгружать весь mp3 файл звонок на диск       0   \n",
              "1     удалять файл mp3 звонок с сервер до 01 01 2019       0   \n",
              "2  удалять окно выбор тариф и перенести функциона...       0   \n",
              "3  при авторизация пользователь водитель не видет...       0   \n",
              "4  основной проблема по корп отдел по состояние н...       1   \n",
              "\n",
              "                           position hiring_type payment_type  passport  \\\n",
              "0                            devops       staff        fixed         0   \n",
              "1                            devops       staff        fixed         0   \n",
              "2  разработчик мобильных приложений       staff        fixed         0   \n",
              "3  разработчик мобильных приложений       staff        fixed         0   \n",
              "4                             other     unknown      unknown         0   \n",
              "\n",
              "   is_nda_signed  is_labor_contract_signed  is_added_to_internal_chats  \\\n",
              "0              0                         0                           0   \n",
              "1              0                         0                           0   \n",
              "2              0                         0                           0   \n",
              "3              0                         0                           0   \n",
              "4              0                         0                           0   \n",
              "\n",
              "   is_added_one_to_one  \n",
              "0                    0  \n",
              "1                    0  \n",
              "2                    0  \n",
              "3                    0  \n",
              "4                    0  "
            ],
            "text/html": [
              "\n",
              "  <div id=\"df-fac3c42a-e08f-42cc-a7b9-46833866d31b\">\n",
              "    <div class=\"colab-df-container\">\n",
              "      <div>\n",
              "<style scoped>\n",
              "    .dataframe tbody tr th:only-of-type {\n",
              "        vertical-align: middle;\n",
              "    }\n",
              "\n",
              "    .dataframe tbody tr th {\n",
              "        vertical-align: top;\n",
              "    }\n",
              "\n",
              "    .dataframe thead th {\n",
              "        text-align: right;\n",
              "    }\n",
              "</style>\n",
              "<table border=\"1\" class=\"dataframe\">\n",
              "  <thead>\n",
              "    <tr style=\"text-align: right;\">\n",
              "      <th></th>\n",
              "      <th>id</th>\n",
              "      <th>project_id</th>\n",
              "      <th>year</th>\n",
              "      <th>month</th>\n",
              "      <th>day</th>\n",
              "      <th>hour</th>\n",
              "      <th>minute</th>\n",
              "      <th>key_name</th>\n",
              "      <th>lemm_summary</th>\n",
              "      <th>active</th>\n",
              "      <th>position</th>\n",
              "      <th>hiring_type</th>\n",
              "      <th>payment_type</th>\n",
              "      <th>passport</th>\n",
              "      <th>is_nda_signed</th>\n",
              "      <th>is_labor_contract_signed</th>\n",
              "      <th>is_added_to_internal_chats</th>\n",
              "      <th>is_added_one_to_one</th>\n",
              "    </tr>\n",
              "  </thead>\n",
              "  <tbody>\n",
              "    <tr>\n",
              "      <th>0</th>\n",
              "      <td>675975</td>\n",
              "      <td>5</td>\n",
              "      <td>2020</td>\n",
              "      <td>1</td>\n",
              "      <td>15</td>\n",
              "      <td>9</td>\n",
              "      <td>52</td>\n",
              "      <td>SM</td>\n",
              "      <td>выгружать весь mp3 файл звонок на диск</td>\n",
              "      <td>0</td>\n",
              "      <td>devops</td>\n",
              "      <td>staff</td>\n",
              "      <td>fixed</td>\n",
              "      <td>0</td>\n",
              "      <td>0</td>\n",
              "      <td>0</td>\n",
              "      <td>0</td>\n",
              "      <td>0</td>\n",
              "    </tr>\n",
              "    <tr>\n",
              "      <th>1</th>\n",
              "      <td>675972</td>\n",
              "      <td>5</td>\n",
              "      <td>2020</td>\n",
              "      <td>1</td>\n",
              "      <td>15</td>\n",
              "      <td>9</td>\n",
              "      <td>54</td>\n",
              "      <td>SM</td>\n",
              "      <td>удалять файл mp3 звонок с сервер до 01 01 2019</td>\n",
              "      <td>0</td>\n",
              "      <td>devops</td>\n",
              "      <td>staff</td>\n",
              "      <td>fixed</td>\n",
              "      <td>0</td>\n",
              "      <td>0</td>\n",
              "      <td>0</td>\n",
              "      <td>0</td>\n",
              "      <td>0</td>\n",
              "    </tr>\n",
              "    <tr>\n",
              "      <th>2</th>\n",
              "      <td>675965</td>\n",
              "      <td>5</td>\n",
              "      <td>2020</td>\n",
              "      <td>1</td>\n",
              "      <td>16</td>\n",
              "      <td>4</td>\n",
              "      <td>46</td>\n",
              "      <td>SM</td>\n",
              "      <td>удалять окно выбор тариф и перенести функциона...</td>\n",
              "      <td>0</td>\n",
              "      <td>разработчик мобильных приложений</td>\n",
              "      <td>staff</td>\n",
              "      <td>fixed</td>\n",
              "      <td>0</td>\n",
              "      <td>0</td>\n",
              "      <td>0</td>\n",
              "      <td>0</td>\n",
              "      <td>0</td>\n",
              "    </tr>\n",
              "    <tr>\n",
              "      <th>3</th>\n",
              "      <td>675961</td>\n",
              "      <td>5</td>\n",
              "      <td>2020</td>\n",
              "      <td>1</td>\n",
              "      <td>16</td>\n",
              "      <td>11</td>\n",
              "      <td>12</td>\n",
              "      <td>SM</td>\n",
              "      <td>при авторизация пользователь водитель не видет...</td>\n",
              "      <td>0</td>\n",
              "      <td>разработчик мобильных приложений</td>\n",
              "      <td>staff</td>\n",
              "      <td>fixed</td>\n",
              "      <td>0</td>\n",
              "      <td>0</td>\n",
              "      <td>0</td>\n",
              "      <td>0</td>\n",
              "      <td>0</td>\n",
              "    </tr>\n",
              "    <tr>\n",
              "      <th>4</th>\n",
              "      <td>675955</td>\n",
              "      <td>5</td>\n",
              "      <td>2020</td>\n",
              "      <td>1</td>\n",
              "      <td>17</td>\n",
              "      <td>5</td>\n",
              "      <td>19</td>\n",
              "      <td>SM</td>\n",
              "      <td>основной проблема по корп отдел по состояние н...</td>\n",
              "      <td>1</td>\n",
              "      <td>other</td>\n",
              "      <td>unknown</td>\n",
              "      <td>unknown</td>\n",
              "      <td>0</td>\n",
              "      <td>0</td>\n",
              "      <td>0</td>\n",
              "      <td>0</td>\n",
              "      <td>0</td>\n",
              "    </tr>\n",
              "  </tbody>\n",
              "</table>\n",
              "</div>\n",
              "      <button class=\"colab-df-convert\" onclick=\"convertToInteractive('df-fac3c42a-e08f-42cc-a7b9-46833866d31b')\"\n",
              "              title=\"Convert this dataframe to an interactive table.\"\n",
              "              style=\"display:none;\">\n",
              "        \n",
              "  <svg xmlns=\"http://www.w3.org/2000/svg\" height=\"24px\"viewBox=\"0 0 24 24\"\n",
              "       width=\"24px\">\n",
              "    <path d=\"M0 0h24v24H0V0z\" fill=\"none\"/>\n",
              "    <path d=\"M18.56 5.44l.94 2.06.94-2.06 2.06-.94-2.06-.94-.94-2.06-.94 2.06-2.06.94zm-11 1L8.5 8.5l.94-2.06 2.06-.94-2.06-.94L8.5 2.5l-.94 2.06-2.06.94zm10 10l.94 2.06.94-2.06 2.06-.94-2.06-.94-.94-2.06-.94 2.06-2.06.94z\"/><path d=\"M17.41 7.96l-1.37-1.37c-.4-.4-.92-.59-1.43-.59-.52 0-1.04.2-1.43.59L10.3 9.45l-7.72 7.72c-.78.78-.78 2.05 0 2.83L4 21.41c.39.39.9.59 1.41.59.51 0 1.02-.2 1.41-.59l7.78-7.78 2.81-2.81c.8-.78.8-2.07 0-2.86zM5.41 20L4 18.59l7.72-7.72 1.47 1.35L5.41 20z\"/>\n",
              "  </svg>\n",
              "      </button>\n",
              "      \n",
              "  <style>\n",
              "    .colab-df-container {\n",
              "      display:flex;\n",
              "      flex-wrap:wrap;\n",
              "      gap: 12px;\n",
              "    }\n",
              "\n",
              "    .colab-df-convert {\n",
              "      background-color: #E8F0FE;\n",
              "      border: none;\n",
              "      border-radius: 50%;\n",
              "      cursor: pointer;\n",
              "      display: none;\n",
              "      fill: #1967D2;\n",
              "      height: 32px;\n",
              "      padding: 0 0 0 0;\n",
              "      width: 32px;\n",
              "    }\n",
              "\n",
              "    .colab-df-convert:hover {\n",
              "      background-color: #E2EBFA;\n",
              "      box-shadow: 0px 1px 2px rgba(60, 64, 67, 0.3), 0px 1px 3px 1px rgba(60, 64, 67, 0.15);\n",
              "      fill: #174EA6;\n",
              "    }\n",
              "\n",
              "    [theme=dark] .colab-df-convert {\n",
              "      background-color: #3B4455;\n",
              "      fill: #D2E3FC;\n",
              "    }\n",
              "\n",
              "    [theme=dark] .colab-df-convert:hover {\n",
              "      background-color: #434B5C;\n",
              "      box-shadow: 0px 1px 3px 1px rgba(0, 0, 0, 0.15);\n",
              "      filter: drop-shadow(0px 1px 2px rgba(0, 0, 0, 0.3));\n",
              "      fill: #FFFFFF;\n",
              "    }\n",
              "  </style>\n",
              "\n",
              "      <script>\n",
              "        const buttonEl =\n",
              "          document.querySelector('#df-fac3c42a-e08f-42cc-a7b9-46833866d31b button.colab-df-convert');\n",
              "        buttonEl.style.display =\n",
              "          google.colab.kernel.accessAllowed ? 'block' : 'none';\n",
              "\n",
              "        async function convertToInteractive(key) {\n",
              "          const element = document.querySelector('#df-fac3c42a-e08f-42cc-a7b9-46833866d31b');\n",
              "          const dataTable =\n",
              "            await google.colab.kernel.invokeFunction('convertToInteractive',\n",
              "                                                     [key], {});\n",
              "          if (!dataTable) return;\n",
              "\n",
              "          const docLinkHtml = 'Like what you see? Visit the ' +\n",
              "            '<a target=\"_blank\" href=https://colab.research.google.com/notebooks/data_table.ipynb>data table notebook</a>'\n",
              "            + ' to learn more about interactive tables.';\n",
              "          element.innerHTML = '';\n",
              "          dataTable['output_type'] = 'display_data';\n",
              "          await google.colab.output.renderOutput(dataTable, element);\n",
              "          const docLink = document.createElement('div');\n",
              "          docLink.innerHTML = docLinkHtml;\n",
              "          element.appendChild(docLink);\n",
              "        }\n",
              "      </script>\n",
              "    </div>\n",
              "  </div>\n",
              "  "
            ]
          },
          "metadata": {},
          "execution_count": 65
        }
      ]
    },
    {
      "cell_type": "code",
      "source": [
        "df_coms_test = pd.read_csv('./data/test/test_comments.csv')\n",
        "df_coms_counts_test = df_coms_test.groupby('issue_id').agg({'comment_id': 'count',\n",
        "                                                            'author_id': 'nunique'})\n",
        "df_coms_counts_test.reset_index(inplace=True)\n",
        "df_coms_counts_test.rename(columns={\"comment_id\":\"comments_cnt\",\n",
        "                                    \"author_id\":\"authors_cnt\"},\n",
        "                           inplace=True)\n",
        "df_coms_counts_test.head()"
      ],
      "metadata": {
        "colab": {
          "base_uri": "https://localhost:8080/",
          "height": 206
        },
        "id": "k7ynZBGVVG8t",
        "outputId": "5d5c655f-d350-43bc-9e99-3d16cc3dd5db"
      },
      "execution_count": 66,
      "outputs": [
        {
          "output_type": "execute_result",
          "data": {
            "text/plain": [
              "   issue_id  comments_cnt  authors_cnt\n",
              "0    670929             1            1\n",
              "1    675825             1            1\n",
              "2    675831             2            1\n",
              "3    675834             1            1\n",
              "4    675836             1            1"
            ],
            "text/html": [
              "\n",
              "  <div id=\"df-ec6b3ff6-3db1-4d26-802a-4cc1975d47ad\">\n",
              "    <div class=\"colab-df-container\">\n",
              "      <div>\n",
              "<style scoped>\n",
              "    .dataframe tbody tr th:only-of-type {\n",
              "        vertical-align: middle;\n",
              "    }\n",
              "\n",
              "    .dataframe tbody tr th {\n",
              "        vertical-align: top;\n",
              "    }\n",
              "\n",
              "    .dataframe thead th {\n",
              "        text-align: right;\n",
              "    }\n",
              "</style>\n",
              "<table border=\"1\" class=\"dataframe\">\n",
              "  <thead>\n",
              "    <tr style=\"text-align: right;\">\n",
              "      <th></th>\n",
              "      <th>issue_id</th>\n",
              "      <th>comments_cnt</th>\n",
              "      <th>authors_cnt</th>\n",
              "    </tr>\n",
              "  </thead>\n",
              "  <tbody>\n",
              "    <tr>\n",
              "      <th>0</th>\n",
              "      <td>670929</td>\n",
              "      <td>1</td>\n",
              "      <td>1</td>\n",
              "    </tr>\n",
              "    <tr>\n",
              "      <th>1</th>\n",
              "      <td>675825</td>\n",
              "      <td>1</td>\n",
              "      <td>1</td>\n",
              "    </tr>\n",
              "    <tr>\n",
              "      <th>2</th>\n",
              "      <td>675831</td>\n",
              "      <td>2</td>\n",
              "      <td>1</td>\n",
              "    </tr>\n",
              "    <tr>\n",
              "      <th>3</th>\n",
              "      <td>675834</td>\n",
              "      <td>1</td>\n",
              "      <td>1</td>\n",
              "    </tr>\n",
              "    <tr>\n",
              "      <th>4</th>\n",
              "      <td>675836</td>\n",
              "      <td>1</td>\n",
              "      <td>1</td>\n",
              "    </tr>\n",
              "  </tbody>\n",
              "</table>\n",
              "</div>\n",
              "      <button class=\"colab-df-convert\" onclick=\"convertToInteractive('df-ec6b3ff6-3db1-4d26-802a-4cc1975d47ad')\"\n",
              "              title=\"Convert this dataframe to an interactive table.\"\n",
              "              style=\"display:none;\">\n",
              "        \n",
              "  <svg xmlns=\"http://www.w3.org/2000/svg\" height=\"24px\"viewBox=\"0 0 24 24\"\n",
              "       width=\"24px\">\n",
              "    <path d=\"M0 0h24v24H0V0z\" fill=\"none\"/>\n",
              "    <path d=\"M18.56 5.44l.94 2.06.94-2.06 2.06-.94-2.06-.94-.94-2.06-.94 2.06-2.06.94zm-11 1L8.5 8.5l.94-2.06 2.06-.94-2.06-.94L8.5 2.5l-.94 2.06-2.06.94zm10 10l.94 2.06.94-2.06 2.06-.94-2.06-.94-.94-2.06-.94 2.06-2.06.94z\"/><path d=\"M17.41 7.96l-1.37-1.37c-.4-.4-.92-.59-1.43-.59-.52 0-1.04.2-1.43.59L10.3 9.45l-7.72 7.72c-.78.78-.78 2.05 0 2.83L4 21.41c.39.39.9.59 1.41.59.51 0 1.02-.2 1.41-.59l7.78-7.78 2.81-2.81c.8-.78.8-2.07 0-2.86zM5.41 20L4 18.59l7.72-7.72 1.47 1.35L5.41 20z\"/>\n",
              "  </svg>\n",
              "      </button>\n",
              "      \n",
              "  <style>\n",
              "    .colab-df-container {\n",
              "      display:flex;\n",
              "      flex-wrap:wrap;\n",
              "      gap: 12px;\n",
              "    }\n",
              "\n",
              "    .colab-df-convert {\n",
              "      background-color: #E8F0FE;\n",
              "      border: none;\n",
              "      border-radius: 50%;\n",
              "      cursor: pointer;\n",
              "      display: none;\n",
              "      fill: #1967D2;\n",
              "      height: 32px;\n",
              "      padding: 0 0 0 0;\n",
              "      width: 32px;\n",
              "    }\n",
              "\n",
              "    .colab-df-convert:hover {\n",
              "      background-color: #E2EBFA;\n",
              "      box-shadow: 0px 1px 2px rgba(60, 64, 67, 0.3), 0px 1px 3px 1px rgba(60, 64, 67, 0.15);\n",
              "      fill: #174EA6;\n",
              "    }\n",
              "\n",
              "    [theme=dark] .colab-df-convert {\n",
              "      background-color: #3B4455;\n",
              "      fill: #D2E3FC;\n",
              "    }\n",
              "\n",
              "    [theme=dark] .colab-df-convert:hover {\n",
              "      background-color: #434B5C;\n",
              "      box-shadow: 0px 1px 3px 1px rgba(0, 0, 0, 0.15);\n",
              "      filter: drop-shadow(0px 1px 2px rgba(0, 0, 0, 0.3));\n",
              "      fill: #FFFFFF;\n",
              "    }\n",
              "  </style>\n",
              "\n",
              "      <script>\n",
              "        const buttonEl =\n",
              "          document.querySelector('#df-ec6b3ff6-3db1-4d26-802a-4cc1975d47ad button.colab-df-convert');\n",
              "        buttonEl.style.display =\n",
              "          google.colab.kernel.accessAllowed ? 'block' : 'none';\n",
              "\n",
              "        async function convertToInteractive(key) {\n",
              "          const element = document.querySelector('#df-ec6b3ff6-3db1-4d26-802a-4cc1975d47ad');\n",
              "          const dataTable =\n",
              "            await google.colab.kernel.invokeFunction('convertToInteractive',\n",
              "                                                     [key], {});\n",
              "          if (!dataTable) return;\n",
              "\n",
              "          const docLinkHtml = 'Like what you see? Visit the ' +\n",
              "            '<a target=\"_blank\" href=https://colab.research.google.com/notebooks/data_table.ipynb>data table notebook</a>'\n",
              "            + ' to learn more about interactive tables.';\n",
              "          element.innerHTML = '';\n",
              "          dataTable['output_type'] = 'display_data';\n",
              "          await google.colab.output.renderOutput(dataTable, element);\n",
              "          const docLink = document.createElement('div');\n",
              "          docLink.innerHTML = docLinkHtml;\n",
              "          element.appendChild(docLink);\n",
              "        }\n",
              "      </script>\n",
              "    </div>\n",
              "  </div>\n",
              "  "
            ]
          },
          "metadata": {},
          "execution_count": 66
        }
      ]
    },
    {
      "cell_type": "code",
      "source": [
        "df_test = pd.merge(df_test, df_coms_counts_test,\n",
        "                   left_on=\"id\", right_on=\"issue_id\", how='left')\n",
        "df_test.drop(['id', 'issue_id'], axis=1, inplace=True)\n",
        "df_test['comments_cnt'] = df_test['comments_cnt'].fillna(0).astype('int32')\n",
        "df_test['authors_cnt'] = df_test['authors_cnt'].fillna(0).astype('int32')\n",
        "df_test.head()"
      ],
      "metadata": {
        "colab": {
          "base_uri": "https://localhost:8080/",
          "height": 548
        },
        "id": "YX_Fdp5NVqN1",
        "outputId": "1da997a6-e67b-4f65-cf8e-9a8d71cb357a"
      },
      "execution_count": 67,
      "outputs": [
        {
          "output_type": "execute_result",
          "data": {
            "text/plain": [
              "   project_id  year  month  day  hour  minute key_name  \\\n",
              "0           5  2020      1   15     9      52       SM   \n",
              "1           5  2020      1   15     9      54       SM   \n",
              "2           5  2020      1   16     4      46       SM   \n",
              "3           5  2020      1   16    11      12       SM   \n",
              "4           5  2020      1   17     5      19       SM   \n",
              "\n",
              "                                        lemm_summary  active  \\\n",
              "0             выгружать весь mp3 файл звонок на диск       0   \n",
              "1     удалять файл mp3 звонок с сервер до 01 01 2019       0   \n",
              "2  удалять окно выбор тариф и перенести функциона...       0   \n",
              "3  при авторизация пользователь водитель не видет...       0   \n",
              "4  основной проблема по корп отдел по состояние н...       1   \n",
              "\n",
              "                           position hiring_type payment_type  passport  \\\n",
              "0                            devops       staff        fixed         0   \n",
              "1                            devops       staff        fixed         0   \n",
              "2  разработчик мобильных приложений       staff        fixed         0   \n",
              "3  разработчик мобильных приложений       staff        fixed         0   \n",
              "4                             other     unknown      unknown         0   \n",
              "\n",
              "   is_nda_signed  is_labor_contract_signed  is_added_to_internal_chats  \\\n",
              "0              0                         0                           0   \n",
              "1              0                         0                           0   \n",
              "2              0                         0                           0   \n",
              "3              0                         0                           0   \n",
              "4              0                         0                           0   \n",
              "\n",
              "   is_added_one_to_one  comments_cnt  authors_cnt  \n",
              "0                    0             8            1  \n",
              "1                    0             4            2  \n",
              "2                    0             1            1  \n",
              "3                    0             2            2  \n",
              "4                    0             7            2  "
            ],
            "text/html": [
              "\n",
              "  <div id=\"df-ae9d7eec-b4c9-4858-ab3a-7e77ef16b485\">\n",
              "    <div class=\"colab-df-container\">\n",
              "      <div>\n",
              "<style scoped>\n",
              "    .dataframe tbody tr th:only-of-type {\n",
              "        vertical-align: middle;\n",
              "    }\n",
              "\n",
              "    .dataframe tbody tr th {\n",
              "        vertical-align: top;\n",
              "    }\n",
              "\n",
              "    .dataframe thead th {\n",
              "        text-align: right;\n",
              "    }\n",
              "</style>\n",
              "<table border=\"1\" class=\"dataframe\">\n",
              "  <thead>\n",
              "    <tr style=\"text-align: right;\">\n",
              "      <th></th>\n",
              "      <th>project_id</th>\n",
              "      <th>year</th>\n",
              "      <th>month</th>\n",
              "      <th>day</th>\n",
              "      <th>hour</th>\n",
              "      <th>minute</th>\n",
              "      <th>key_name</th>\n",
              "      <th>lemm_summary</th>\n",
              "      <th>active</th>\n",
              "      <th>position</th>\n",
              "      <th>hiring_type</th>\n",
              "      <th>payment_type</th>\n",
              "      <th>passport</th>\n",
              "      <th>is_nda_signed</th>\n",
              "      <th>is_labor_contract_signed</th>\n",
              "      <th>is_added_to_internal_chats</th>\n",
              "      <th>is_added_one_to_one</th>\n",
              "      <th>comments_cnt</th>\n",
              "      <th>authors_cnt</th>\n",
              "    </tr>\n",
              "  </thead>\n",
              "  <tbody>\n",
              "    <tr>\n",
              "      <th>0</th>\n",
              "      <td>5</td>\n",
              "      <td>2020</td>\n",
              "      <td>1</td>\n",
              "      <td>15</td>\n",
              "      <td>9</td>\n",
              "      <td>52</td>\n",
              "      <td>SM</td>\n",
              "      <td>выгружать весь mp3 файл звонок на диск</td>\n",
              "      <td>0</td>\n",
              "      <td>devops</td>\n",
              "      <td>staff</td>\n",
              "      <td>fixed</td>\n",
              "      <td>0</td>\n",
              "      <td>0</td>\n",
              "      <td>0</td>\n",
              "      <td>0</td>\n",
              "      <td>0</td>\n",
              "      <td>8</td>\n",
              "      <td>1</td>\n",
              "    </tr>\n",
              "    <tr>\n",
              "      <th>1</th>\n",
              "      <td>5</td>\n",
              "      <td>2020</td>\n",
              "      <td>1</td>\n",
              "      <td>15</td>\n",
              "      <td>9</td>\n",
              "      <td>54</td>\n",
              "      <td>SM</td>\n",
              "      <td>удалять файл mp3 звонок с сервер до 01 01 2019</td>\n",
              "      <td>0</td>\n",
              "      <td>devops</td>\n",
              "      <td>staff</td>\n",
              "      <td>fixed</td>\n",
              "      <td>0</td>\n",
              "      <td>0</td>\n",
              "      <td>0</td>\n",
              "      <td>0</td>\n",
              "      <td>0</td>\n",
              "      <td>4</td>\n",
              "      <td>2</td>\n",
              "    </tr>\n",
              "    <tr>\n",
              "      <th>2</th>\n",
              "      <td>5</td>\n",
              "      <td>2020</td>\n",
              "      <td>1</td>\n",
              "      <td>16</td>\n",
              "      <td>4</td>\n",
              "      <td>46</td>\n",
              "      <td>SM</td>\n",
              "      <td>удалять окно выбор тариф и перенести функциона...</td>\n",
              "      <td>0</td>\n",
              "      <td>разработчик мобильных приложений</td>\n",
              "      <td>staff</td>\n",
              "      <td>fixed</td>\n",
              "      <td>0</td>\n",
              "      <td>0</td>\n",
              "      <td>0</td>\n",
              "      <td>0</td>\n",
              "      <td>0</td>\n",
              "      <td>1</td>\n",
              "      <td>1</td>\n",
              "    </tr>\n",
              "    <tr>\n",
              "      <th>3</th>\n",
              "      <td>5</td>\n",
              "      <td>2020</td>\n",
              "      <td>1</td>\n",
              "      <td>16</td>\n",
              "      <td>11</td>\n",
              "      <td>12</td>\n",
              "      <td>SM</td>\n",
              "      <td>при авторизация пользователь водитель не видет...</td>\n",
              "      <td>0</td>\n",
              "      <td>разработчик мобильных приложений</td>\n",
              "      <td>staff</td>\n",
              "      <td>fixed</td>\n",
              "      <td>0</td>\n",
              "      <td>0</td>\n",
              "      <td>0</td>\n",
              "      <td>0</td>\n",
              "      <td>0</td>\n",
              "      <td>2</td>\n",
              "      <td>2</td>\n",
              "    </tr>\n",
              "    <tr>\n",
              "      <th>4</th>\n",
              "      <td>5</td>\n",
              "      <td>2020</td>\n",
              "      <td>1</td>\n",
              "      <td>17</td>\n",
              "      <td>5</td>\n",
              "      <td>19</td>\n",
              "      <td>SM</td>\n",
              "      <td>основной проблема по корп отдел по состояние н...</td>\n",
              "      <td>1</td>\n",
              "      <td>other</td>\n",
              "      <td>unknown</td>\n",
              "      <td>unknown</td>\n",
              "      <td>0</td>\n",
              "      <td>0</td>\n",
              "      <td>0</td>\n",
              "      <td>0</td>\n",
              "      <td>0</td>\n",
              "      <td>7</td>\n",
              "      <td>2</td>\n",
              "    </tr>\n",
              "  </tbody>\n",
              "</table>\n",
              "</div>\n",
              "      <button class=\"colab-df-convert\" onclick=\"convertToInteractive('df-ae9d7eec-b4c9-4858-ab3a-7e77ef16b485')\"\n",
              "              title=\"Convert this dataframe to an interactive table.\"\n",
              "              style=\"display:none;\">\n",
              "        \n",
              "  <svg xmlns=\"http://www.w3.org/2000/svg\" height=\"24px\"viewBox=\"0 0 24 24\"\n",
              "       width=\"24px\">\n",
              "    <path d=\"M0 0h24v24H0V0z\" fill=\"none\"/>\n",
              "    <path d=\"M18.56 5.44l.94 2.06.94-2.06 2.06-.94-2.06-.94-.94-2.06-.94 2.06-2.06.94zm-11 1L8.5 8.5l.94-2.06 2.06-.94-2.06-.94L8.5 2.5l-.94 2.06-2.06.94zm10 10l.94 2.06.94-2.06 2.06-.94-2.06-.94-.94-2.06-.94 2.06-2.06.94z\"/><path d=\"M17.41 7.96l-1.37-1.37c-.4-.4-.92-.59-1.43-.59-.52 0-1.04.2-1.43.59L10.3 9.45l-7.72 7.72c-.78.78-.78 2.05 0 2.83L4 21.41c.39.39.9.59 1.41.59.51 0 1.02-.2 1.41-.59l7.78-7.78 2.81-2.81c.8-.78.8-2.07 0-2.86zM5.41 20L4 18.59l7.72-7.72 1.47 1.35L5.41 20z\"/>\n",
              "  </svg>\n",
              "      </button>\n",
              "      \n",
              "  <style>\n",
              "    .colab-df-container {\n",
              "      display:flex;\n",
              "      flex-wrap:wrap;\n",
              "      gap: 12px;\n",
              "    }\n",
              "\n",
              "    .colab-df-convert {\n",
              "      background-color: #E8F0FE;\n",
              "      border: none;\n",
              "      border-radius: 50%;\n",
              "      cursor: pointer;\n",
              "      display: none;\n",
              "      fill: #1967D2;\n",
              "      height: 32px;\n",
              "      padding: 0 0 0 0;\n",
              "      width: 32px;\n",
              "    }\n",
              "\n",
              "    .colab-df-convert:hover {\n",
              "      background-color: #E2EBFA;\n",
              "      box-shadow: 0px 1px 2px rgba(60, 64, 67, 0.3), 0px 1px 3px 1px rgba(60, 64, 67, 0.15);\n",
              "      fill: #174EA6;\n",
              "    }\n",
              "\n",
              "    [theme=dark] .colab-df-convert {\n",
              "      background-color: #3B4455;\n",
              "      fill: #D2E3FC;\n",
              "    }\n",
              "\n",
              "    [theme=dark] .colab-df-convert:hover {\n",
              "      background-color: #434B5C;\n",
              "      box-shadow: 0px 1px 3px 1px rgba(0, 0, 0, 0.15);\n",
              "      filter: drop-shadow(0px 1px 2px rgba(0, 0, 0, 0.3));\n",
              "      fill: #FFFFFF;\n",
              "    }\n",
              "  </style>\n",
              "\n",
              "      <script>\n",
              "        const buttonEl =\n",
              "          document.querySelector('#df-ae9d7eec-b4c9-4858-ab3a-7e77ef16b485 button.colab-df-convert');\n",
              "        buttonEl.style.display =\n",
              "          google.colab.kernel.accessAllowed ? 'block' : 'none';\n",
              "\n",
              "        async function convertToInteractive(key) {\n",
              "          const element = document.querySelector('#df-ae9d7eec-b4c9-4858-ab3a-7e77ef16b485');\n",
              "          const dataTable =\n",
              "            await google.colab.kernel.invokeFunction('convertToInteractive',\n",
              "                                                     [key], {});\n",
              "          if (!dataTable) return;\n",
              "\n",
              "          const docLinkHtml = 'Like what you see? Visit the ' +\n",
              "            '<a target=\"_blank\" href=https://colab.research.google.com/notebooks/data_table.ipynb>data table notebook</a>'\n",
              "            + ' to learn more about interactive tables.';\n",
              "          element.innerHTML = '';\n",
              "          dataTable['output_type'] = 'display_data';\n",
              "          await google.colab.output.renderOutput(dataTable, element);\n",
              "          const docLink = document.createElement('div');\n",
              "          docLink.innerHTML = docLinkHtml;\n",
              "          element.appendChild(docLink);\n",
              "        }\n",
              "      </script>\n",
              "    </div>\n",
              "  </div>\n",
              "  "
            ]
          },
          "metadata": {},
          "execution_count": 67
        }
      ]
    },
    {
      "cell_type": "code",
      "source": [
        "X_test_new = count_tf_idf.transform(df_test['lemm_summary'])\n",
        "X_test_new_df = pd.DataFrame(X_test_new.toarray(), columns=feature_names_tf)\n",
        "df_test.drop('lemm_summary', axis=1, inplace=True)\n",
        "X_test = pd.concat([df_test, X_test_new_df], axis=1)\n",
        "\n",
        "X_test[cat_features] = ord_encoder.transform(X_test[cat_features])\n",
        "X_test.shape"
      ],
      "metadata": {
        "colab": {
          "base_uri": "https://localhost:8080/"
        },
        "id": "QNlTYZ_CVqDB",
        "outputId": "f6ddc99c-eecf-4c5f-e403-431201049c70"
      },
      "execution_count": 68,
      "outputs": [
        {
          "output_type": "execute_result",
          "data": {
            "text/plain": [
              "(1070, 4531)"
            ]
          },
          "metadata": {},
          "execution_count": 68
        }
      ]
    },
    {
      "cell_type": "code",
      "source": [
        "pred_test = np.rint(np.exp(model.predict(X_test))).astype('int64')\n",
        "pred_test"
      ],
      "metadata": {
        "colab": {
          "base_uri": "https://localhost:8080/"
        },
        "id": "a7CjxE1OVqFK",
        "outputId": "7c5a983a-6d37-4ef4-ea4f-e9596b9208c6"
      },
      "execution_count": 69,
      "outputs": [
        {
          "output_type": "execute_result",
          "data": {
            "text/plain": [
              "array([12706,  8212,  8662, ...,  6096,  6096,  8605])"
            ]
          },
          "metadata": {},
          "execution_count": 69
        }
      ]
    },
    {
      "cell_type": "markdown",
      "source": [
        "### Создаем датафрейм с предсказанием"
      ],
      "metadata": {
        "id": "HdGu9SYnXpKb"
      }
    },
    {
      "cell_type": "code",
      "source": [
        "df_sample = pd.read_csv('./data/sample_solution.csv')\n",
        "len(pred_test), len(df_sample)"
      ],
      "metadata": {
        "colab": {
          "base_uri": "https://localhost:8080/"
        },
        "id": "j3NGLwQBVqHR",
        "outputId": "99f586cb-e8c5-4c68-de00-91c2e7cc8eaf"
      },
      "execution_count": 70,
      "outputs": [
        {
          "output_type": "execute_result",
          "data": {
            "text/plain": [
              "(1070, 1070)"
            ]
          },
          "metadata": {},
          "execution_count": 70
        }
      ]
    },
    {
      "cell_type": "code",
      "source": [
        "df_sample.overall_worklogs = pred_test\n",
        "df_sample.to_csv('./solutions/xgb_tf-idf_emps_coms.csv', index=False)"
      ],
      "metadata": {
        "id": "XfLbmdalTkSH"
      },
      "execution_count": 71,
      "outputs": []
    },
    {
      "cell_type": "markdown",
      "source": [
        "### Проверяем предсказание"
      ],
      "metadata": {
        "id": "F83R9x24X6Ep"
      }
    },
    {
      "cell_type": "code",
      "source": [
        "df_solution = pd.read_csv('./solutions/xgb_tf-idf_emps_coms.csv')\n",
        "df_solution.head()"
      ],
      "metadata": {
        "colab": {
          "base_uri": "https://localhost:8080/",
          "height": 206
        },
        "id": "En-ToqqoTkUO",
        "outputId": "5723aef1-3feb-4ff3-8965-975e4cab4085"
      },
      "execution_count": 72,
      "outputs": [
        {
          "output_type": "execute_result",
          "data": {
            "text/plain": [
              "       id  overall_worklogs\n",
              "0  675975             12706\n",
              "1  675972              8212\n",
              "2  675965              8662\n",
              "3  675961              9290\n",
              "4  675955              9720"
            ],
            "text/html": [
              "\n",
              "  <div id=\"df-3b2aab2f-0030-45b5-ae5a-cb1e1d5e1294\">\n",
              "    <div class=\"colab-df-container\">\n",
              "      <div>\n",
              "<style scoped>\n",
              "    .dataframe tbody tr th:only-of-type {\n",
              "        vertical-align: middle;\n",
              "    }\n",
              "\n",
              "    .dataframe tbody tr th {\n",
              "        vertical-align: top;\n",
              "    }\n",
              "\n",
              "    .dataframe thead th {\n",
              "        text-align: right;\n",
              "    }\n",
              "</style>\n",
              "<table border=\"1\" class=\"dataframe\">\n",
              "  <thead>\n",
              "    <tr style=\"text-align: right;\">\n",
              "      <th></th>\n",
              "      <th>id</th>\n",
              "      <th>overall_worklogs</th>\n",
              "    </tr>\n",
              "  </thead>\n",
              "  <tbody>\n",
              "    <tr>\n",
              "      <th>0</th>\n",
              "      <td>675975</td>\n",
              "      <td>12706</td>\n",
              "    </tr>\n",
              "    <tr>\n",
              "      <th>1</th>\n",
              "      <td>675972</td>\n",
              "      <td>8212</td>\n",
              "    </tr>\n",
              "    <tr>\n",
              "      <th>2</th>\n",
              "      <td>675965</td>\n",
              "      <td>8662</td>\n",
              "    </tr>\n",
              "    <tr>\n",
              "      <th>3</th>\n",
              "      <td>675961</td>\n",
              "      <td>9290</td>\n",
              "    </tr>\n",
              "    <tr>\n",
              "      <th>4</th>\n",
              "      <td>675955</td>\n",
              "      <td>9720</td>\n",
              "    </tr>\n",
              "  </tbody>\n",
              "</table>\n",
              "</div>\n",
              "      <button class=\"colab-df-convert\" onclick=\"convertToInteractive('df-3b2aab2f-0030-45b5-ae5a-cb1e1d5e1294')\"\n",
              "              title=\"Convert this dataframe to an interactive table.\"\n",
              "              style=\"display:none;\">\n",
              "        \n",
              "  <svg xmlns=\"http://www.w3.org/2000/svg\" height=\"24px\"viewBox=\"0 0 24 24\"\n",
              "       width=\"24px\">\n",
              "    <path d=\"M0 0h24v24H0V0z\" fill=\"none\"/>\n",
              "    <path d=\"M18.56 5.44l.94 2.06.94-2.06 2.06-.94-2.06-.94-.94-2.06-.94 2.06-2.06.94zm-11 1L8.5 8.5l.94-2.06 2.06-.94-2.06-.94L8.5 2.5l-.94 2.06-2.06.94zm10 10l.94 2.06.94-2.06 2.06-.94-2.06-.94-.94-2.06-.94 2.06-2.06.94z\"/><path d=\"M17.41 7.96l-1.37-1.37c-.4-.4-.92-.59-1.43-.59-.52 0-1.04.2-1.43.59L10.3 9.45l-7.72 7.72c-.78.78-.78 2.05 0 2.83L4 21.41c.39.39.9.59 1.41.59.51 0 1.02-.2 1.41-.59l7.78-7.78 2.81-2.81c.8-.78.8-2.07 0-2.86zM5.41 20L4 18.59l7.72-7.72 1.47 1.35L5.41 20z\"/>\n",
              "  </svg>\n",
              "      </button>\n",
              "      \n",
              "  <style>\n",
              "    .colab-df-container {\n",
              "      display:flex;\n",
              "      flex-wrap:wrap;\n",
              "      gap: 12px;\n",
              "    }\n",
              "\n",
              "    .colab-df-convert {\n",
              "      background-color: #E8F0FE;\n",
              "      border: none;\n",
              "      border-radius: 50%;\n",
              "      cursor: pointer;\n",
              "      display: none;\n",
              "      fill: #1967D2;\n",
              "      height: 32px;\n",
              "      padding: 0 0 0 0;\n",
              "      width: 32px;\n",
              "    }\n",
              "\n",
              "    .colab-df-convert:hover {\n",
              "      background-color: #E2EBFA;\n",
              "      box-shadow: 0px 1px 2px rgba(60, 64, 67, 0.3), 0px 1px 3px 1px rgba(60, 64, 67, 0.15);\n",
              "      fill: #174EA6;\n",
              "    }\n",
              "\n",
              "    [theme=dark] .colab-df-convert {\n",
              "      background-color: #3B4455;\n",
              "      fill: #D2E3FC;\n",
              "    }\n",
              "\n",
              "    [theme=dark] .colab-df-convert:hover {\n",
              "      background-color: #434B5C;\n",
              "      box-shadow: 0px 1px 3px 1px rgba(0, 0, 0, 0.15);\n",
              "      filter: drop-shadow(0px 1px 2px rgba(0, 0, 0, 0.3));\n",
              "      fill: #FFFFFF;\n",
              "    }\n",
              "  </style>\n",
              "\n",
              "      <script>\n",
              "        const buttonEl =\n",
              "          document.querySelector('#df-3b2aab2f-0030-45b5-ae5a-cb1e1d5e1294 button.colab-df-convert');\n",
              "        buttonEl.style.display =\n",
              "          google.colab.kernel.accessAllowed ? 'block' : 'none';\n",
              "\n",
              "        async function convertToInteractive(key) {\n",
              "          const element = document.querySelector('#df-3b2aab2f-0030-45b5-ae5a-cb1e1d5e1294');\n",
              "          const dataTable =\n",
              "            await google.colab.kernel.invokeFunction('convertToInteractive',\n",
              "                                                     [key], {});\n",
              "          if (!dataTable) return;\n",
              "\n",
              "          const docLinkHtml = 'Like what you see? Visit the ' +\n",
              "            '<a target=\"_blank\" href=https://colab.research.google.com/notebooks/data_table.ipynb>data table notebook</a>'\n",
              "            + ' to learn more about interactive tables.';\n",
              "          element.innerHTML = '';\n",
              "          dataTable['output_type'] = 'display_data';\n",
              "          await google.colab.output.renderOutput(dataTable, element);\n",
              "          const docLink = document.createElement('div');\n",
              "          docLink.innerHTML = docLinkHtml;\n",
              "          element.appendChild(docLink);\n",
              "        }\n",
              "      </script>\n",
              "    </div>\n",
              "  </div>\n",
              "  "
            ]
          },
          "metadata": {},
          "execution_count": 72
        }
      ]
    },
    {
      "cell_type": "code",
      "source": [],
      "metadata": {
        "id": "La4qBofhTkWG"
      },
      "execution_count": null,
      "outputs": []
    },
    {
      "cell_type": "code",
      "source": [],
      "metadata": {
        "id": "Y9eH_bbvr_1j"
      },
      "execution_count": null,
      "outputs": []
    }
  ]
}