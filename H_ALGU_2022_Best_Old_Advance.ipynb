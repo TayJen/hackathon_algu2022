{
  "nbformat": 4,
  "nbformat_minor": 0,
  "metadata": {
    "colab": {
      "provenance": [],
      "collapsed_sections": [
        "AAfLrhOhsaHz",
        "X_QcTLIbFbGb",
        "U3D1HjBCIO37",
        "lkE4b3KpOgYM"
      ],
      "authorship_tag": "ABX9TyOfKC8Jhmn/D+AX4VwKWQps",
      "include_colab_link": true
    },
    "kernelspec": {
      "name": "python3",
      "display_name": "Python 3"
    },
    "language_info": {
      "name": "python"
    }
  },
  "cells": [
    {
      "cell_type": "markdown",
      "metadata": {
        "id": "view-in-github",
        "colab_type": "text"
      },
      "source": [
        "<a href=\"https://colab.research.google.com/github/TayJen/hackathon_algu2022/blob/master/H_ALGU_2022_Best_Old_Advance.ipynb\" target=\"_parent\"><img src=\"https://colab.research.google.com/assets/colab-badge.svg\" alt=\"Open In Colab\"/></a>"
      ]
    },
    {
      "cell_type": "code",
      "execution_count": 1,
      "metadata": {
        "colab": {
          "base_uri": "https://localhost:8080/"
        },
        "id": "JFVPXkf-r0R-",
        "outputId": "d757c96e-3c4e-4b71-e67c-020b97f7028f"
      },
      "outputs": [
        {
          "output_type": "stream",
          "name": "stdout",
          "text": [
            "Mounted at /content/drive\n"
          ]
        }
      ],
      "source": [
        "from google.colab import drive\n",
        "drive.mount('/content/drive')"
      ]
    },
    {
      "cell_type": "code",
      "source": [
        "%cd /content/drive/Shareddrives/data_drive/H_Vladivostok2022\n",
        "!pwd"
      ],
      "metadata": {
        "colab": {
          "base_uri": "https://localhost:8080/"
        },
        "id": "Ajt0xnRYr_aN",
        "outputId": "5625d406-7df0-4055-8191-7dabf09d83fe"
      },
      "execution_count": 2,
      "outputs": [
        {
          "output_type": "stream",
          "name": "stdout",
          "text": [
            "/content/drive/Shareddrives/data_drive/H_Vladivostok2022\n",
            "/content/drive/Shareddrives/data_drive/H_Vladivostok2022\n"
          ]
        }
      ]
    },
    {
      "cell_type": "markdown",
      "source": [
        "## Импорт библиотек"
      ],
      "metadata": {
        "id": "AAfLrhOhsaHz"
      }
    },
    {
      "cell_type": "code",
      "source": [
        "# Для работы с данными\n",
        "import numpy as np\n",
        "import pandas as pd\n",
        "\n",
        "# Для визуализации\n",
        "import matplotlib as mpl\n",
        "import matplotlib.pyplot as plt\n",
        "import seaborn as sns\n",
        "\n",
        "# Для работы с текстом\n",
        "import re\n",
        "import nltk\n",
        "from nltk.stem import WordNetLemmatizer\n",
        "from nltk.tokenize import WhitespaceTokenizer\n",
        "from nltk.probability import FreqDist\n",
        "from nltk.corpus import wordnet, stopwords\n",
        "from pymystem3 import Mystem\n",
        "\n",
        "# Для моделей\n",
        "from sklearn.feature_extraction.text import TfidfVectorizer\n",
        "from sklearn.model_selection import train_test_split\n",
        "from sklearn.preprocessing import OrdinalEncoder\n",
        "from sklearn.ensemble import RandomForestClassifier\n",
        "from xgboost import XGBRegressor\n",
        "\n",
        "# Метрика\n",
        "from sklearn.metrics import r2_score\n",
        "\n",
        "%matplotlib inline\n",
        "mpl.rcParams['figure.facecolor'] = 'white'\n",
        "np.random.seed(59)\n",
        "\n",
        "nltk.download('wordnet')\n",
        "nltk.download('omw-1.4')\n",
        "nltk.download('stopwords')\n",
        "nltk.download('averaged_perceptron_tagger')"
      ],
      "metadata": {
        "colab": {
          "base_uri": "https://localhost:8080/"
        },
        "id": "H7rpBM58r_cd",
        "outputId": "65ba49b8-5ca4-4343-91b2-ff05bd5c28ac"
      },
      "execution_count": 3,
      "outputs": [
        {
          "output_type": "stream",
          "name": "stderr",
          "text": [
            "[nltk_data] Downloading package wordnet to /root/nltk_data...\n",
            "[nltk_data] Downloading package omw-1.4 to /root/nltk_data...\n",
            "[nltk_data] Downloading package stopwords to /root/nltk_data...\n",
            "[nltk_data]   Unzipping corpora/stopwords.zip.\n",
            "[nltk_data] Downloading package averaged_perceptron_tagger to\n",
            "[nltk_data]     /root/nltk_data...\n",
            "[nltk_data]   Unzipping taggers/averaged_perceptron_tagger.zip.\n"
          ]
        },
        {
          "output_type": "execute_result",
          "data": {
            "text/plain": [
              "True"
            ]
          },
          "metadata": {},
          "execution_count": 3
        }
      ]
    },
    {
      "cell_type": "markdown",
      "source": [
        "# Работа с данными"
      ],
      "metadata": {
        "id": "eBTTuH9QtLce"
      }
    },
    {
      "cell_type": "markdown",
      "source": [
        "## Основные данные"
      ],
      "metadata": {
        "id": "3mCmx1dbFl84"
      }
    },
    {
      "cell_type": "markdown",
      "source": [
        "Считаем данные"
      ],
      "metadata": {
        "id": "KlN-dv7tu7hI"
      }
    },
    {
      "cell_type": "code",
      "source": [
        "df = pd.read_csv(\"./data/train/train_issues.csv\")"
      ],
      "metadata": {
        "id": "P4sCxLgxu8-H"
      },
      "execution_count": 4,
      "outputs": []
    },
    {
      "cell_type": "markdown",
      "source": [
        "Работа со временем"
      ],
      "metadata": {
        "id": "TgBRw49zt6ES"
      }
    },
    {
      "cell_type": "code",
      "source": [
        "df['created_time'] = pd.to_datetime(df['created'], format='%Y-%m-%d %H:%M:%S')\n",
        "df['month'] = df['created_time'].dt.month\n",
        "df['day'] = df['created_time'].dt.day\n",
        "df['hour'] = df['created_time'].dt.hour\n",
        "df['minute'] = df['created_time'].dt.minute\n",
        "\n",
        "df.drop(['created', 'created_time'], axis=1, inplace=True)"
      ],
      "metadata": {
        "id": "vbcT8f2Hr_en"
      },
      "execution_count": 5,
      "outputs": []
    },
    {
      "cell_type": "markdown",
      "source": [
        "Работа с ключем задачи"
      ],
      "metadata": {
        "id": "kpxIpPyDt8Ld"
      }
    },
    {
      "cell_type": "code",
      "source": [
        "df['key_name'] = df['key'].apply(lambda x: x.split('-')[0])\n",
        "df['key_num'] = df['key'].apply(lambda x: x.split('-')[1]).astype('int64')\n",
        "\n",
        "df.drop(['key'], axis=1, inplace=True)\n",
        "df.head()"
      ],
      "metadata": {
        "id": "QdO-WxwWr_go",
        "colab": {
          "base_uri": "https://localhost:8080/",
          "height": 206
        },
        "outputId": "516467ba-90d8-4ea2-c0ec-4f5a14b2f43f"
      },
      "execution_count": 6,
      "outputs": [
        {
          "output_type": "execute_result",
          "data": {
            "text/plain": [
              "       id                                  summary  project_id  assignee_id  \\\n",
              "0  819952        UI тесты по заказу \"Добро КейДжи\"           5           93   \n",
              "1  819949               UI тесты раздела \"Профиль\"           5           93   \n",
              "2  819947           UI тесты раздела \"Личный счет\"           5           93   \n",
              "3  819943               UI тесты раздела \"Новости\"           5           93   \n",
              "4  819941  UI тесты раздела \"Зоны скидок и доплат\"           5           93   \n",
              "\n",
              "   creator_id  overall_worklogs  month  day  hour  minute key_name  key_num  \n",
              "0          93              1800     10    1     5      57       SM    10678  \n",
              "1          93              7200     10    1     5      59       SM    10679  \n",
              "2          93             14400     10    1     6       0       SM    10680  \n",
              "3          93               900     10    1     6       2       SM    10682  \n",
              "4          93               900     10    1     6       3       SM    10683  "
            ],
            "text/html": [
              "\n",
              "  <div id=\"df-a53e9f8f-f43e-42ac-ae99-55b914d43977\">\n",
              "    <div class=\"colab-df-container\">\n",
              "      <div>\n",
              "<style scoped>\n",
              "    .dataframe tbody tr th:only-of-type {\n",
              "        vertical-align: middle;\n",
              "    }\n",
              "\n",
              "    .dataframe tbody tr th {\n",
              "        vertical-align: top;\n",
              "    }\n",
              "\n",
              "    .dataframe thead th {\n",
              "        text-align: right;\n",
              "    }\n",
              "</style>\n",
              "<table border=\"1\" class=\"dataframe\">\n",
              "  <thead>\n",
              "    <tr style=\"text-align: right;\">\n",
              "      <th></th>\n",
              "      <th>id</th>\n",
              "      <th>summary</th>\n",
              "      <th>project_id</th>\n",
              "      <th>assignee_id</th>\n",
              "      <th>creator_id</th>\n",
              "      <th>overall_worklogs</th>\n",
              "      <th>month</th>\n",
              "      <th>day</th>\n",
              "      <th>hour</th>\n",
              "      <th>minute</th>\n",
              "      <th>key_name</th>\n",
              "      <th>key_num</th>\n",
              "    </tr>\n",
              "  </thead>\n",
              "  <tbody>\n",
              "    <tr>\n",
              "      <th>0</th>\n",
              "      <td>819952</td>\n",
              "      <td>UI тесты по заказу \"Добро КейДжи\"</td>\n",
              "      <td>5</td>\n",
              "      <td>93</td>\n",
              "      <td>93</td>\n",
              "      <td>1800</td>\n",
              "      <td>10</td>\n",
              "      <td>1</td>\n",
              "      <td>5</td>\n",
              "      <td>57</td>\n",
              "      <td>SM</td>\n",
              "      <td>10678</td>\n",
              "    </tr>\n",
              "    <tr>\n",
              "      <th>1</th>\n",
              "      <td>819949</td>\n",
              "      <td>UI тесты раздела \"Профиль\"</td>\n",
              "      <td>5</td>\n",
              "      <td>93</td>\n",
              "      <td>93</td>\n",
              "      <td>7200</td>\n",
              "      <td>10</td>\n",
              "      <td>1</td>\n",
              "      <td>5</td>\n",
              "      <td>59</td>\n",
              "      <td>SM</td>\n",
              "      <td>10679</td>\n",
              "    </tr>\n",
              "    <tr>\n",
              "      <th>2</th>\n",
              "      <td>819947</td>\n",
              "      <td>UI тесты раздела \"Личный счет\"</td>\n",
              "      <td>5</td>\n",
              "      <td>93</td>\n",
              "      <td>93</td>\n",
              "      <td>14400</td>\n",
              "      <td>10</td>\n",
              "      <td>1</td>\n",
              "      <td>6</td>\n",
              "      <td>0</td>\n",
              "      <td>SM</td>\n",
              "      <td>10680</td>\n",
              "    </tr>\n",
              "    <tr>\n",
              "      <th>3</th>\n",
              "      <td>819943</td>\n",
              "      <td>UI тесты раздела \"Новости\"</td>\n",
              "      <td>5</td>\n",
              "      <td>93</td>\n",
              "      <td>93</td>\n",
              "      <td>900</td>\n",
              "      <td>10</td>\n",
              "      <td>1</td>\n",
              "      <td>6</td>\n",
              "      <td>2</td>\n",
              "      <td>SM</td>\n",
              "      <td>10682</td>\n",
              "    </tr>\n",
              "    <tr>\n",
              "      <th>4</th>\n",
              "      <td>819941</td>\n",
              "      <td>UI тесты раздела \"Зоны скидок и доплат\"</td>\n",
              "      <td>5</td>\n",
              "      <td>93</td>\n",
              "      <td>93</td>\n",
              "      <td>900</td>\n",
              "      <td>10</td>\n",
              "      <td>1</td>\n",
              "      <td>6</td>\n",
              "      <td>3</td>\n",
              "      <td>SM</td>\n",
              "      <td>10683</td>\n",
              "    </tr>\n",
              "  </tbody>\n",
              "</table>\n",
              "</div>\n",
              "      <button class=\"colab-df-convert\" onclick=\"convertToInteractive('df-a53e9f8f-f43e-42ac-ae99-55b914d43977')\"\n",
              "              title=\"Convert this dataframe to an interactive table.\"\n",
              "              style=\"display:none;\">\n",
              "        \n",
              "  <svg xmlns=\"http://www.w3.org/2000/svg\" height=\"24px\"viewBox=\"0 0 24 24\"\n",
              "       width=\"24px\">\n",
              "    <path d=\"M0 0h24v24H0V0z\" fill=\"none\"/>\n",
              "    <path d=\"M18.56 5.44l.94 2.06.94-2.06 2.06-.94-2.06-.94-.94-2.06-.94 2.06-2.06.94zm-11 1L8.5 8.5l.94-2.06 2.06-.94-2.06-.94L8.5 2.5l-.94 2.06-2.06.94zm10 10l.94 2.06.94-2.06 2.06-.94-2.06-.94-.94-2.06-.94 2.06-2.06.94z\"/><path d=\"M17.41 7.96l-1.37-1.37c-.4-.4-.92-.59-1.43-.59-.52 0-1.04.2-1.43.59L10.3 9.45l-7.72 7.72c-.78.78-.78 2.05 0 2.83L4 21.41c.39.39.9.59 1.41.59.51 0 1.02-.2 1.41-.59l7.78-7.78 2.81-2.81c.8-.78.8-2.07 0-2.86zM5.41 20L4 18.59l7.72-7.72 1.47 1.35L5.41 20z\"/>\n",
              "  </svg>\n",
              "      </button>\n",
              "      \n",
              "  <style>\n",
              "    .colab-df-container {\n",
              "      display:flex;\n",
              "      flex-wrap:wrap;\n",
              "      gap: 12px;\n",
              "    }\n",
              "\n",
              "    .colab-df-convert {\n",
              "      background-color: #E8F0FE;\n",
              "      border: none;\n",
              "      border-radius: 50%;\n",
              "      cursor: pointer;\n",
              "      display: none;\n",
              "      fill: #1967D2;\n",
              "      height: 32px;\n",
              "      padding: 0 0 0 0;\n",
              "      width: 32px;\n",
              "    }\n",
              "\n",
              "    .colab-df-convert:hover {\n",
              "      background-color: #E2EBFA;\n",
              "      box-shadow: 0px 1px 2px rgba(60, 64, 67, 0.3), 0px 1px 3px 1px rgba(60, 64, 67, 0.15);\n",
              "      fill: #174EA6;\n",
              "    }\n",
              "\n",
              "    [theme=dark] .colab-df-convert {\n",
              "      background-color: #3B4455;\n",
              "      fill: #D2E3FC;\n",
              "    }\n",
              "\n",
              "    [theme=dark] .colab-df-convert:hover {\n",
              "      background-color: #434B5C;\n",
              "      box-shadow: 0px 1px 3px 1px rgba(0, 0, 0, 0.15);\n",
              "      filter: drop-shadow(0px 1px 2px rgba(0, 0, 0, 0.3));\n",
              "      fill: #FFFFFF;\n",
              "    }\n",
              "  </style>\n",
              "\n",
              "      <script>\n",
              "        const buttonEl =\n",
              "          document.querySelector('#df-a53e9f8f-f43e-42ac-ae99-55b914d43977 button.colab-df-convert');\n",
              "        buttonEl.style.display =\n",
              "          google.colab.kernel.accessAllowed ? 'block' : 'none';\n",
              "\n",
              "        async function convertToInteractive(key) {\n",
              "          const element = document.querySelector('#df-a53e9f8f-f43e-42ac-ae99-55b914d43977');\n",
              "          const dataTable =\n",
              "            await google.colab.kernel.invokeFunction('convertToInteractive',\n",
              "                                                     [key], {});\n",
              "          if (!dataTable) return;\n",
              "\n",
              "          const docLinkHtml = 'Like what you see? Visit the ' +\n",
              "            '<a target=\"_blank\" href=https://colab.research.google.com/notebooks/data_table.ipynb>data table notebook</a>'\n",
              "            + ' to learn more about interactive tables.';\n",
              "          element.innerHTML = '';\n",
              "          dataTable['output_type'] = 'display_data';\n",
              "          await google.colab.output.renderOutput(dataTable, element);\n",
              "          const docLink = document.createElement('div');\n",
              "          docLink.innerHTML = docLinkHtml;\n",
              "          element.appendChild(docLink);\n",
              "        }\n",
              "      </script>\n",
              "    </div>\n",
              "  </div>\n",
              "  "
            ]
          },
          "metadata": {},
          "execution_count": 6
        }
      ]
    },
    {
      "cell_type": "markdown",
      "source": [
        "Работа с описанием задачи"
      ],
      "metadata": {
        "id": "E21LgklOt9v9"
      }
    },
    {
      "cell_type": "code",
      "source": [
        "m = Mystem()\n",
        "lemmatizer = WordNetLemmatizer()\n",
        "w_tokenizer = WhitespaceTokenizer()"
      ],
      "metadata": {
        "id": "IijOGXhuuMNM",
        "colab": {
          "base_uri": "https://localhost:8080/"
        },
        "outputId": "f2b97acc-ae8e-4053-c580-b8e3d6e073bb"
      },
      "execution_count": 7,
      "outputs": [
        {
          "output_type": "stream",
          "name": "stderr",
          "text": [
            "Installing mystem to /root/.local/bin/mystem from http://download.cdn.yandex.net/mystem/mystem-3.1-linux-64bit.tar.gz\n"
          ]
        }
      ]
    },
    {
      "cell_type": "markdown",
      "source": [
        "Для того чтобы лемматизация работала, необходимо раскомментировать первые две строки при первом запуске"
      ],
      "metadata": {
        "id": "c8an7QotuRJ-"
      }
    },
    {
      "cell_type": "code",
      "source": [
        "# !wget http://download.cdn.yandex.net/mystem/mystem-3.0-linux3.1-64bit.tar.gz\n",
        "# !tar -xvf mystem-3.0-linux3.1-64bit.tar.gz\n",
        "!cp mystem /root/.local/bin/mystem"
      ],
      "metadata": {
        "id": "qx5o7-dMuNG2"
      },
      "execution_count": 8,
      "outputs": []
    },
    {
      "cell_type": "code",
      "source": [
        "def clear_text(text):\n",
        "    t = re.sub(r'[^a-zA-Zа-яА-ЯёЁ\\' ]', ' ', text)\n",
        "    t = ' '.join(t.split())\n",
        "    return t\n",
        "\n",
        "def lemmatize_text_rus(text):\n",
        "    tokens = m.lemmatize(text.lower())\n",
        "    tokens = [token for token in tokens if token != '\\n']\n",
        "    text = \" \".join(tokens)\n",
        "    \n",
        "    return text\n",
        "\n",
        "def pos_tagger(nltk_tag):\n",
        "    if nltk_tag.startswith('J'):\n",
        "        return wordnet.ADJ\n",
        "    elif nltk_tag.startswith('V'):\n",
        "        return wordnet.VERB\n",
        "    elif nltk_tag.startswith('N'):\n",
        "        return wordnet.NOUN\n",
        "    elif nltk_tag.startswith('R'):\n",
        "        return wordnet.ADV\n",
        "    else:         \n",
        "        return None\n",
        "\n",
        "def lemmatize_with_pos_eng(text):\n",
        "    pos_tagged = nltk.pos_tag(w_tokenizer.tokenize(text))\n",
        "    wordnet_tagged = list(map(lambda x: (x[0], pos_tagger(x[1])), pos_tagged))\n",
        "    lemmatized_sentence = []\n",
        "    for word, tag in wordnet_tagged:\n",
        "        if tag is None:\n",
        "            lemmatized_sentence.append(word)\n",
        "        else:       \n",
        "            lemmatized_sentence.append(lemmatizer.lemmatize(word, pos=tag))\n",
        "    lemmatized_sentence = \" \".join(lemmatized_sentence)\n",
        "    return lemmatized_sentence\n",
        "\n",
        "\n",
        "df['clear_summary'] = df['summary'].apply(clear_text)\n",
        "df['clear_summary'] = df['clear_summary'].str.lower()\n",
        "df['lemm_summary'] = df['clear_summary'].apply(lemmatize_text_rus)\n",
        "df['lemm_summary'] = df['lemm_summary'].apply(lemmatize_with_pos_eng)\n",
        "\n",
        "df.drop(['summary', 'clear_summary'], axis=1, inplace=True)"
      ],
      "metadata": {
        "id": "Y7OEgskar_ix"
      },
      "execution_count": 9,
      "outputs": []
    },
    {
      "cell_type": "markdown",
      "source": [
        "Эти стоп-слова пригодятся нам в дальнейшем при использовании tf-idf"
      ],
      "metadata": {
        "id": "kvmDILbfE-Gi"
      }
    },
    {
      "cell_type": "code",
      "source": [
        "stopwords_rus = stopwords.words(\"russian\")\n",
        "stopwords_eng = stopwords.words('english')\n",
        "stopwords_all = stopwords_rus + stopwords_eng\n",
        "\n",
        "count_tf_idf = TfidfVectorizer(stop_words=stopwords_all)"
      ],
      "metadata": {
        "id": "jGNtHADhE9d8"
      },
      "execution_count": 10,
      "outputs": []
    },
    {
      "cell_type": "markdown",
      "source": [
        "Преобразуем таргет, чтобы исключить выбросы и минимизировать разброс"
      ],
      "metadata": {
        "id": "XEaCl0e2vQpz"
      }
    },
    {
      "cell_type": "code",
      "source": [
        "df['log_target'] = np.log(df['overall_worklogs'])\n",
        "df.drop(['overall_worklogs'], axis=1, inplace=True)"
      ],
      "metadata": {
        "id": "lsZqkcbCr_kz"
      },
      "execution_count": 11,
      "outputs": []
    },
    {
      "cell_type": "markdown",
      "source": [
        "## Присоединяем дополнительные данные"
      ],
      "metadata": {
        "id": "X_QcTLIbFbGb"
      }
    },
    {
      "cell_type": "markdown",
      "source": [
        "### Информация о работниках"
      ],
      "metadata": {
        "id": "HV6oiPlWFpKP"
      }
    },
    {
      "cell_type": "markdown",
      "source": [
        "Считаем данные"
      ],
      "metadata": {
        "id": "jR2LswhjFh3Y"
      }
    },
    {
      "cell_type": "code",
      "source": [
        "df_emp = pd.read_csv(\"./data/employees.csv\")"
      ],
      "metadata": {
        "id": "Ga2DYeBvr_m0"
      },
      "execution_count": 12,
      "outputs": []
    },
    {
      "cell_type": "markdown",
      "source": [
        "Сразу отбросим бесполезное"
      ],
      "metadata": {
        "id": "uuW-ZP79Fy5E"
      }
    },
    {
      "cell_type": "code",
      "source": [
        "df_emp.drop(['english_level', 'salary_calculation_type', 'full_name'],\n",
        "            axis=1, inplace=True)"
      ],
      "metadata": {
        "id": "uIDlv_26r_qE"
      },
      "execution_count": 13,
      "outputs": []
    },
    {
      "cell_type": "code",
      "source": [
        "df_emp['payment_type'].fillna('unknown', inplace=True)\n",
        "df_emp['hiring_type'].fillna('unknown', inplace=True)"
      ],
      "metadata": {
        "id": "LmJk7nyNr_r5"
      },
      "execution_count": 14,
      "outputs": []
    },
    {
      "cell_type": "code",
      "source": [
        "def position_cleaning(x):\n",
        "    if x is np.NaN:\n",
        "        return x\n",
        "    \n",
        "    x = x.lower().strip().replace('-', ' ')\n",
        "\n",
        "    key_positions = ['web', 'директор', 'руководитель',\n",
        "                     'devops', 'рекрутер', 'бухгалтер',\n",
        "                     'hr', 'тестировщик']\n",
        "\n",
        "    for key_pos in key_positions:\n",
        "        if key_pos in x:\n",
        "            x = key_pos\n",
        "            break\n",
        "    \n",
        "    if x == 'рекрутер' or x == 'специалист отдела по управлению персоналом' or x == 'сорсер':\n",
        "        return 'hr'\n",
        "    elif x == 'графический дизайнер':\n",
        "        return 'web'\n",
        "    else:\n",
        "        return x\n",
        "\n",
        "\n",
        "df_emp['position'] = df_emp['position'].apply(position_cleaning)\n",
        "pos_pop = df_emp['position'].value_counts()"
      ],
      "metadata": {
        "id": "RT97zoe4GsRb"
      },
      "execution_count": 15,
      "outputs": []
    },
    {
      "cell_type": "code",
      "source": [
        "def remark_pos(x):\n",
        "    if x is np.NaN or pos_pop[x] < 3:\n",
        "        return 'other'\n",
        "    else:\n",
        "        return x\n",
        "\n",
        "\n",
        "df_emp['position'] = df_emp['position'].apply(remark_pos)\n",
        "df_emp.head()"
      ],
      "metadata": {
        "colab": {
          "base_uri": "https://localhost:8080/",
          "height": 0
        },
        "id": "75bzMCpyHWs8",
        "outputId": "eae482c8-845e-4920-a698-53be966ffa6b"
      },
      "execution_count": 16,
      "outputs": [
        {
          "output_type": "execute_result",
          "data": {
            "text/plain": [
              "   id  active                          position hiring_type payment_type  \\\n",
              "0   1       1                             other     unknown      unknown   \n",
              "1   2       0                               web       staff        fixed   \n",
              "2   4       0                               web       staff        fixed   \n",
              "3   6       0  разработчик мобильных приложений       staff        fixed   \n",
              "4   8       1  разработчик мобильных приложений       staff        fixed   \n",
              "\n",
              "   passport  is_nda_signed  is_labor_contract_signed  \\\n",
              "0         0              0                         0   \n",
              "1         0              0                         0   \n",
              "2         0              0                         0   \n",
              "3         0              0                         0   \n",
              "4         1              1                         1   \n",
              "\n",
              "   is_added_to_internal_chats  is_added_one_to_one  \n",
              "0                           0                    0  \n",
              "1                           0                    0  \n",
              "2                           0                    0  \n",
              "3                           0                    0  \n",
              "4                           1                    1  "
            ],
            "text/html": [
              "\n",
              "  <div id=\"df-4c5e27dc-90c9-4c54-9d90-0dd825a04294\">\n",
              "    <div class=\"colab-df-container\">\n",
              "      <div>\n",
              "<style scoped>\n",
              "    .dataframe tbody tr th:only-of-type {\n",
              "        vertical-align: middle;\n",
              "    }\n",
              "\n",
              "    .dataframe tbody tr th {\n",
              "        vertical-align: top;\n",
              "    }\n",
              "\n",
              "    .dataframe thead th {\n",
              "        text-align: right;\n",
              "    }\n",
              "</style>\n",
              "<table border=\"1\" class=\"dataframe\">\n",
              "  <thead>\n",
              "    <tr style=\"text-align: right;\">\n",
              "      <th></th>\n",
              "      <th>id</th>\n",
              "      <th>active</th>\n",
              "      <th>position</th>\n",
              "      <th>hiring_type</th>\n",
              "      <th>payment_type</th>\n",
              "      <th>passport</th>\n",
              "      <th>is_nda_signed</th>\n",
              "      <th>is_labor_contract_signed</th>\n",
              "      <th>is_added_to_internal_chats</th>\n",
              "      <th>is_added_one_to_one</th>\n",
              "    </tr>\n",
              "  </thead>\n",
              "  <tbody>\n",
              "    <tr>\n",
              "      <th>0</th>\n",
              "      <td>1</td>\n",
              "      <td>1</td>\n",
              "      <td>other</td>\n",
              "      <td>unknown</td>\n",
              "      <td>unknown</td>\n",
              "      <td>0</td>\n",
              "      <td>0</td>\n",
              "      <td>0</td>\n",
              "      <td>0</td>\n",
              "      <td>0</td>\n",
              "    </tr>\n",
              "    <tr>\n",
              "      <th>1</th>\n",
              "      <td>2</td>\n",
              "      <td>0</td>\n",
              "      <td>web</td>\n",
              "      <td>staff</td>\n",
              "      <td>fixed</td>\n",
              "      <td>0</td>\n",
              "      <td>0</td>\n",
              "      <td>0</td>\n",
              "      <td>0</td>\n",
              "      <td>0</td>\n",
              "    </tr>\n",
              "    <tr>\n",
              "      <th>2</th>\n",
              "      <td>4</td>\n",
              "      <td>0</td>\n",
              "      <td>web</td>\n",
              "      <td>staff</td>\n",
              "      <td>fixed</td>\n",
              "      <td>0</td>\n",
              "      <td>0</td>\n",
              "      <td>0</td>\n",
              "      <td>0</td>\n",
              "      <td>0</td>\n",
              "    </tr>\n",
              "    <tr>\n",
              "      <th>3</th>\n",
              "      <td>6</td>\n",
              "      <td>0</td>\n",
              "      <td>разработчик мобильных приложений</td>\n",
              "      <td>staff</td>\n",
              "      <td>fixed</td>\n",
              "      <td>0</td>\n",
              "      <td>0</td>\n",
              "      <td>0</td>\n",
              "      <td>0</td>\n",
              "      <td>0</td>\n",
              "    </tr>\n",
              "    <tr>\n",
              "      <th>4</th>\n",
              "      <td>8</td>\n",
              "      <td>1</td>\n",
              "      <td>разработчик мобильных приложений</td>\n",
              "      <td>staff</td>\n",
              "      <td>fixed</td>\n",
              "      <td>1</td>\n",
              "      <td>1</td>\n",
              "      <td>1</td>\n",
              "      <td>1</td>\n",
              "      <td>1</td>\n",
              "    </tr>\n",
              "  </tbody>\n",
              "</table>\n",
              "</div>\n",
              "      <button class=\"colab-df-convert\" onclick=\"convertToInteractive('df-4c5e27dc-90c9-4c54-9d90-0dd825a04294')\"\n",
              "              title=\"Convert this dataframe to an interactive table.\"\n",
              "              style=\"display:none;\">\n",
              "        \n",
              "  <svg xmlns=\"http://www.w3.org/2000/svg\" height=\"24px\"viewBox=\"0 0 24 24\"\n",
              "       width=\"24px\">\n",
              "    <path d=\"M0 0h24v24H0V0z\" fill=\"none\"/>\n",
              "    <path d=\"M18.56 5.44l.94 2.06.94-2.06 2.06-.94-2.06-.94-.94-2.06-.94 2.06-2.06.94zm-11 1L8.5 8.5l.94-2.06 2.06-.94-2.06-.94L8.5 2.5l-.94 2.06-2.06.94zm10 10l.94 2.06.94-2.06 2.06-.94-2.06-.94-.94-2.06-.94 2.06-2.06.94z\"/><path d=\"M17.41 7.96l-1.37-1.37c-.4-.4-.92-.59-1.43-.59-.52 0-1.04.2-1.43.59L10.3 9.45l-7.72 7.72c-.78.78-.78 2.05 0 2.83L4 21.41c.39.39.9.59 1.41.59.51 0 1.02-.2 1.41-.59l7.78-7.78 2.81-2.81c.8-.78.8-2.07 0-2.86zM5.41 20L4 18.59l7.72-7.72 1.47 1.35L5.41 20z\"/>\n",
              "  </svg>\n",
              "      </button>\n",
              "      \n",
              "  <style>\n",
              "    .colab-df-container {\n",
              "      display:flex;\n",
              "      flex-wrap:wrap;\n",
              "      gap: 12px;\n",
              "    }\n",
              "\n",
              "    .colab-df-convert {\n",
              "      background-color: #E8F0FE;\n",
              "      border: none;\n",
              "      border-radius: 50%;\n",
              "      cursor: pointer;\n",
              "      display: none;\n",
              "      fill: #1967D2;\n",
              "      height: 32px;\n",
              "      padding: 0 0 0 0;\n",
              "      width: 32px;\n",
              "    }\n",
              "\n",
              "    .colab-df-convert:hover {\n",
              "      background-color: #E2EBFA;\n",
              "      box-shadow: 0px 1px 2px rgba(60, 64, 67, 0.3), 0px 1px 3px 1px rgba(60, 64, 67, 0.15);\n",
              "      fill: #174EA6;\n",
              "    }\n",
              "\n",
              "    [theme=dark] .colab-df-convert {\n",
              "      background-color: #3B4455;\n",
              "      fill: #D2E3FC;\n",
              "    }\n",
              "\n",
              "    [theme=dark] .colab-df-convert:hover {\n",
              "      background-color: #434B5C;\n",
              "      box-shadow: 0px 1px 3px 1px rgba(0, 0, 0, 0.15);\n",
              "      filter: drop-shadow(0px 1px 2px rgba(0, 0, 0, 0.3));\n",
              "      fill: #FFFFFF;\n",
              "    }\n",
              "  </style>\n",
              "\n",
              "      <script>\n",
              "        const buttonEl =\n",
              "          document.querySelector('#df-4c5e27dc-90c9-4c54-9d90-0dd825a04294 button.colab-df-convert');\n",
              "        buttonEl.style.display =\n",
              "          google.colab.kernel.accessAllowed ? 'block' : 'none';\n",
              "\n",
              "        async function convertToInteractive(key) {\n",
              "          const element = document.querySelector('#df-4c5e27dc-90c9-4c54-9d90-0dd825a04294');\n",
              "          const dataTable =\n",
              "            await google.colab.kernel.invokeFunction('convertToInteractive',\n",
              "                                                     [key], {});\n",
              "          if (!dataTable) return;\n",
              "\n",
              "          const docLinkHtml = 'Like what you see? Visit the ' +\n",
              "            '<a target=\"_blank\" href=https://colab.research.google.com/notebooks/data_table.ipynb>data table notebook</a>'\n",
              "            + ' to learn more about interactive tables.';\n",
              "          element.innerHTML = '';\n",
              "          dataTable['output_type'] = 'display_data';\n",
              "          await google.colab.output.renderOutput(dataTable, element);\n",
              "          const docLink = document.createElement('div');\n",
              "          docLink.innerHTML = docLinkHtml;\n",
              "          element.appendChild(docLink);\n",
              "        }\n",
              "      </script>\n",
              "    </div>\n",
              "  </div>\n",
              "  "
            ]
          },
          "metadata": {},
          "execution_count": 16
        }
      ]
    },
    {
      "cell_type": "markdown",
      "source": [
        "Присоединяем информацию о работниках"
      ],
      "metadata": {
        "id": "eTk_9XGYGHSg"
      }
    },
    {
      "cell_type": "code",
      "source": [
        "df = pd.merge(df, df_emp, left_on=\"assignee_id\", right_on=\"id\",\n",
        "              how='left', suffixes=('', '_y'))\n",
        "\n",
        "# df.drop(['creator_id', 'assignee_id', 'id_y'], axis=1, inplace=True)\n",
        "df.drop(['id_y'], axis=1, inplace=True)"
      ],
      "metadata": {
        "id": "hWpusyvcr_vL"
      },
      "execution_count": 17,
      "outputs": []
    },
    {
      "cell_type": "code",
      "source": [
        "df.head()"
      ],
      "metadata": {
        "id": "RJlQMXytr_x1",
        "colab": {
          "base_uri": "https://localhost:8080/",
          "height": 0
        },
        "outputId": "0b27ad32-dee6-4ce8-f1d1-6736c7058b74"
      },
      "execution_count": 18,
      "outputs": [
        {
          "output_type": "execute_result",
          "data": {
            "text/plain": [
              "       id  project_id  assignee_id  creator_id  month  day  hour  minute  \\\n",
              "0  819952           5           93          93     10    1     5      57   \n",
              "1  819949           5           93          93     10    1     5      59   \n",
              "2  819947           5           93          93     10    1     6       0   \n",
              "3  819943           5           93          93     10    1     6       2   \n",
              "4  819941           5           93          93     10    1     6       3   \n",
              "\n",
              "  key_name  key_num  ... log_target  active                          position  \\\n",
              "0       SM    10678  ...   7.495542       1  разработчик мобильных приложений   \n",
              "1       SM    10679  ...   8.881836       1  разработчик мобильных приложений   \n",
              "2       SM    10680  ...   9.574983       1  разработчик мобильных приложений   \n",
              "3       SM    10682  ...   6.802395       1  разработчик мобильных приложений   \n",
              "4       SM    10683  ...   6.802395       1  разработчик мобильных приложений   \n",
              "\n",
              "  hiring_type payment_type passport  is_nda_signed  is_labor_contract_signed  \\\n",
              "0       staff        fixed        1              1                         1   \n",
              "1       staff        fixed        1              1                         1   \n",
              "2       staff        fixed        1              1                         1   \n",
              "3       staff        fixed        1              1                         1   \n",
              "4       staff        fixed        1              1                         1   \n",
              "\n",
              "   is_added_to_internal_chats  is_added_one_to_one  \n",
              "0                           1                    1  \n",
              "1                           1                    1  \n",
              "2                           1                    1  \n",
              "3                           1                    1  \n",
              "4                           1                    1  \n",
              "\n",
              "[5 rows x 21 columns]"
            ],
            "text/html": [
              "\n",
              "  <div id=\"df-5772906d-3626-4855-bba9-c56672eb8722\">\n",
              "    <div class=\"colab-df-container\">\n",
              "      <div>\n",
              "<style scoped>\n",
              "    .dataframe tbody tr th:only-of-type {\n",
              "        vertical-align: middle;\n",
              "    }\n",
              "\n",
              "    .dataframe tbody tr th {\n",
              "        vertical-align: top;\n",
              "    }\n",
              "\n",
              "    .dataframe thead th {\n",
              "        text-align: right;\n",
              "    }\n",
              "</style>\n",
              "<table border=\"1\" class=\"dataframe\">\n",
              "  <thead>\n",
              "    <tr style=\"text-align: right;\">\n",
              "      <th></th>\n",
              "      <th>id</th>\n",
              "      <th>project_id</th>\n",
              "      <th>assignee_id</th>\n",
              "      <th>creator_id</th>\n",
              "      <th>month</th>\n",
              "      <th>day</th>\n",
              "      <th>hour</th>\n",
              "      <th>minute</th>\n",
              "      <th>key_name</th>\n",
              "      <th>key_num</th>\n",
              "      <th>...</th>\n",
              "      <th>log_target</th>\n",
              "      <th>active</th>\n",
              "      <th>position</th>\n",
              "      <th>hiring_type</th>\n",
              "      <th>payment_type</th>\n",
              "      <th>passport</th>\n",
              "      <th>is_nda_signed</th>\n",
              "      <th>is_labor_contract_signed</th>\n",
              "      <th>is_added_to_internal_chats</th>\n",
              "      <th>is_added_one_to_one</th>\n",
              "    </tr>\n",
              "  </thead>\n",
              "  <tbody>\n",
              "    <tr>\n",
              "      <th>0</th>\n",
              "      <td>819952</td>\n",
              "      <td>5</td>\n",
              "      <td>93</td>\n",
              "      <td>93</td>\n",
              "      <td>10</td>\n",
              "      <td>1</td>\n",
              "      <td>5</td>\n",
              "      <td>57</td>\n",
              "      <td>SM</td>\n",
              "      <td>10678</td>\n",
              "      <td>...</td>\n",
              "      <td>7.495542</td>\n",
              "      <td>1</td>\n",
              "      <td>разработчик мобильных приложений</td>\n",
              "      <td>staff</td>\n",
              "      <td>fixed</td>\n",
              "      <td>1</td>\n",
              "      <td>1</td>\n",
              "      <td>1</td>\n",
              "      <td>1</td>\n",
              "      <td>1</td>\n",
              "    </tr>\n",
              "    <tr>\n",
              "      <th>1</th>\n",
              "      <td>819949</td>\n",
              "      <td>5</td>\n",
              "      <td>93</td>\n",
              "      <td>93</td>\n",
              "      <td>10</td>\n",
              "      <td>1</td>\n",
              "      <td>5</td>\n",
              "      <td>59</td>\n",
              "      <td>SM</td>\n",
              "      <td>10679</td>\n",
              "      <td>...</td>\n",
              "      <td>8.881836</td>\n",
              "      <td>1</td>\n",
              "      <td>разработчик мобильных приложений</td>\n",
              "      <td>staff</td>\n",
              "      <td>fixed</td>\n",
              "      <td>1</td>\n",
              "      <td>1</td>\n",
              "      <td>1</td>\n",
              "      <td>1</td>\n",
              "      <td>1</td>\n",
              "    </tr>\n",
              "    <tr>\n",
              "      <th>2</th>\n",
              "      <td>819947</td>\n",
              "      <td>5</td>\n",
              "      <td>93</td>\n",
              "      <td>93</td>\n",
              "      <td>10</td>\n",
              "      <td>1</td>\n",
              "      <td>6</td>\n",
              "      <td>0</td>\n",
              "      <td>SM</td>\n",
              "      <td>10680</td>\n",
              "      <td>...</td>\n",
              "      <td>9.574983</td>\n",
              "      <td>1</td>\n",
              "      <td>разработчик мобильных приложений</td>\n",
              "      <td>staff</td>\n",
              "      <td>fixed</td>\n",
              "      <td>1</td>\n",
              "      <td>1</td>\n",
              "      <td>1</td>\n",
              "      <td>1</td>\n",
              "      <td>1</td>\n",
              "    </tr>\n",
              "    <tr>\n",
              "      <th>3</th>\n",
              "      <td>819943</td>\n",
              "      <td>5</td>\n",
              "      <td>93</td>\n",
              "      <td>93</td>\n",
              "      <td>10</td>\n",
              "      <td>1</td>\n",
              "      <td>6</td>\n",
              "      <td>2</td>\n",
              "      <td>SM</td>\n",
              "      <td>10682</td>\n",
              "      <td>...</td>\n",
              "      <td>6.802395</td>\n",
              "      <td>1</td>\n",
              "      <td>разработчик мобильных приложений</td>\n",
              "      <td>staff</td>\n",
              "      <td>fixed</td>\n",
              "      <td>1</td>\n",
              "      <td>1</td>\n",
              "      <td>1</td>\n",
              "      <td>1</td>\n",
              "      <td>1</td>\n",
              "    </tr>\n",
              "    <tr>\n",
              "      <th>4</th>\n",
              "      <td>819941</td>\n",
              "      <td>5</td>\n",
              "      <td>93</td>\n",
              "      <td>93</td>\n",
              "      <td>10</td>\n",
              "      <td>1</td>\n",
              "      <td>6</td>\n",
              "      <td>3</td>\n",
              "      <td>SM</td>\n",
              "      <td>10683</td>\n",
              "      <td>...</td>\n",
              "      <td>6.802395</td>\n",
              "      <td>1</td>\n",
              "      <td>разработчик мобильных приложений</td>\n",
              "      <td>staff</td>\n",
              "      <td>fixed</td>\n",
              "      <td>1</td>\n",
              "      <td>1</td>\n",
              "      <td>1</td>\n",
              "      <td>1</td>\n",
              "      <td>1</td>\n",
              "    </tr>\n",
              "  </tbody>\n",
              "</table>\n",
              "<p>5 rows × 21 columns</p>\n",
              "</div>\n",
              "      <button class=\"colab-df-convert\" onclick=\"convertToInteractive('df-5772906d-3626-4855-bba9-c56672eb8722')\"\n",
              "              title=\"Convert this dataframe to an interactive table.\"\n",
              "              style=\"display:none;\">\n",
              "        \n",
              "  <svg xmlns=\"http://www.w3.org/2000/svg\" height=\"24px\"viewBox=\"0 0 24 24\"\n",
              "       width=\"24px\">\n",
              "    <path d=\"M0 0h24v24H0V0z\" fill=\"none\"/>\n",
              "    <path d=\"M18.56 5.44l.94 2.06.94-2.06 2.06-.94-2.06-.94-.94-2.06-.94 2.06-2.06.94zm-11 1L8.5 8.5l.94-2.06 2.06-.94-2.06-.94L8.5 2.5l-.94 2.06-2.06.94zm10 10l.94 2.06.94-2.06 2.06-.94-2.06-.94-.94-2.06-.94 2.06-2.06.94z\"/><path d=\"M17.41 7.96l-1.37-1.37c-.4-.4-.92-.59-1.43-.59-.52 0-1.04.2-1.43.59L10.3 9.45l-7.72 7.72c-.78.78-.78 2.05 0 2.83L4 21.41c.39.39.9.59 1.41.59.51 0 1.02-.2 1.41-.59l7.78-7.78 2.81-2.81c.8-.78.8-2.07 0-2.86zM5.41 20L4 18.59l7.72-7.72 1.47 1.35L5.41 20z\"/>\n",
              "  </svg>\n",
              "      </button>\n",
              "      \n",
              "  <style>\n",
              "    .colab-df-container {\n",
              "      display:flex;\n",
              "      flex-wrap:wrap;\n",
              "      gap: 12px;\n",
              "    }\n",
              "\n",
              "    .colab-df-convert {\n",
              "      background-color: #E8F0FE;\n",
              "      border: none;\n",
              "      border-radius: 50%;\n",
              "      cursor: pointer;\n",
              "      display: none;\n",
              "      fill: #1967D2;\n",
              "      height: 32px;\n",
              "      padding: 0 0 0 0;\n",
              "      width: 32px;\n",
              "    }\n",
              "\n",
              "    .colab-df-convert:hover {\n",
              "      background-color: #E2EBFA;\n",
              "      box-shadow: 0px 1px 2px rgba(60, 64, 67, 0.3), 0px 1px 3px 1px rgba(60, 64, 67, 0.15);\n",
              "      fill: #174EA6;\n",
              "    }\n",
              "\n",
              "    [theme=dark] .colab-df-convert {\n",
              "      background-color: #3B4455;\n",
              "      fill: #D2E3FC;\n",
              "    }\n",
              "\n",
              "    [theme=dark] .colab-df-convert:hover {\n",
              "      background-color: #434B5C;\n",
              "      box-shadow: 0px 1px 3px 1px rgba(0, 0, 0, 0.15);\n",
              "      filter: drop-shadow(0px 1px 2px rgba(0, 0, 0, 0.3));\n",
              "      fill: #FFFFFF;\n",
              "    }\n",
              "  </style>\n",
              "\n",
              "      <script>\n",
              "        const buttonEl =\n",
              "          document.querySelector('#df-5772906d-3626-4855-bba9-c56672eb8722 button.colab-df-convert');\n",
              "        buttonEl.style.display =\n",
              "          google.colab.kernel.accessAllowed ? 'block' : 'none';\n",
              "\n",
              "        async function convertToInteractive(key) {\n",
              "          const element = document.querySelector('#df-5772906d-3626-4855-bba9-c56672eb8722');\n",
              "          const dataTable =\n",
              "            await google.colab.kernel.invokeFunction('convertToInteractive',\n",
              "                                                     [key], {});\n",
              "          if (!dataTable) return;\n",
              "\n",
              "          const docLinkHtml = 'Like what you see? Visit the ' +\n",
              "            '<a target=\"_blank\" href=https://colab.research.google.com/notebooks/data_table.ipynb>data table notebook</a>'\n",
              "            + ' to learn more about interactive tables.';\n",
              "          element.innerHTML = '';\n",
              "          dataTable['output_type'] = 'display_data';\n",
              "          await google.colab.output.renderOutput(dataTable, element);\n",
              "          const docLink = document.createElement('div');\n",
              "          docLink.innerHTML = docLinkHtml;\n",
              "          element.appendChild(docLink);\n",
              "        }\n",
              "      </script>\n",
              "    </div>\n",
              "  </div>\n",
              "  "
            ]
          },
          "metadata": {},
          "execution_count": 18
        }
      ]
    },
    {
      "cell_type": "markdown",
      "source": [
        "### Информация о комментариях"
      ],
      "metadata": {
        "id": "d9G51waBSu4i"
      }
    },
    {
      "cell_type": "code",
      "source": [
        "df_coms = pd.read_csv(\"./data/train/train_comments.csv\")"
      ],
      "metadata": {
        "id": "mIwX9CpWSx2P"
      },
      "execution_count": 19,
      "outputs": []
    },
    {
      "cell_type": "code",
      "source": [
        "df_coms_counts = df_coms.groupby('issue_id').agg({'comment_id': 'count',\n",
        "                                                  'author_id': 'nunique'})\n",
        "df_coms_counts.reset_index(inplace=True)\n",
        "df_coms_counts.rename(columns={\"comment_id\":\"comments_cnt\",\n",
        "                               \"author_id\":\"authors_cnt\"},\n",
        "                      inplace=True)\n",
        "df_coms_counts.head()"
      ],
      "metadata": {
        "colab": {
          "base_uri": "https://localhost:8080/",
          "height": 0
        },
        "id": "8vK5MfNnSx4a",
        "outputId": "2fe29afd-91cc-4e36-c118-eb69457e99e2"
      },
      "execution_count": 20,
      "outputs": [
        {
          "output_type": "execute_result",
          "data": {
            "text/plain": [
              "   issue_id  comments_cnt  authors_cnt\n",
              "0    669666             1            1\n",
              "1    669670             1            1\n",
              "2    670930             3            1\n",
              "3    670934             3            1\n",
              "4    675979             5            1"
            ],
            "text/html": [
              "\n",
              "  <div id=\"df-58fe358c-d9fb-4afb-85f6-a712df41245b\">\n",
              "    <div class=\"colab-df-container\">\n",
              "      <div>\n",
              "<style scoped>\n",
              "    .dataframe tbody tr th:only-of-type {\n",
              "        vertical-align: middle;\n",
              "    }\n",
              "\n",
              "    .dataframe tbody tr th {\n",
              "        vertical-align: top;\n",
              "    }\n",
              "\n",
              "    .dataframe thead th {\n",
              "        text-align: right;\n",
              "    }\n",
              "</style>\n",
              "<table border=\"1\" class=\"dataframe\">\n",
              "  <thead>\n",
              "    <tr style=\"text-align: right;\">\n",
              "      <th></th>\n",
              "      <th>issue_id</th>\n",
              "      <th>comments_cnt</th>\n",
              "      <th>authors_cnt</th>\n",
              "    </tr>\n",
              "  </thead>\n",
              "  <tbody>\n",
              "    <tr>\n",
              "      <th>0</th>\n",
              "      <td>669666</td>\n",
              "      <td>1</td>\n",
              "      <td>1</td>\n",
              "    </tr>\n",
              "    <tr>\n",
              "      <th>1</th>\n",
              "      <td>669670</td>\n",
              "      <td>1</td>\n",
              "      <td>1</td>\n",
              "    </tr>\n",
              "    <tr>\n",
              "      <th>2</th>\n",
              "      <td>670930</td>\n",
              "      <td>3</td>\n",
              "      <td>1</td>\n",
              "    </tr>\n",
              "    <tr>\n",
              "      <th>3</th>\n",
              "      <td>670934</td>\n",
              "      <td>3</td>\n",
              "      <td>1</td>\n",
              "    </tr>\n",
              "    <tr>\n",
              "      <th>4</th>\n",
              "      <td>675979</td>\n",
              "      <td>5</td>\n",
              "      <td>1</td>\n",
              "    </tr>\n",
              "  </tbody>\n",
              "</table>\n",
              "</div>\n",
              "      <button class=\"colab-df-convert\" onclick=\"convertToInteractive('df-58fe358c-d9fb-4afb-85f6-a712df41245b')\"\n",
              "              title=\"Convert this dataframe to an interactive table.\"\n",
              "              style=\"display:none;\">\n",
              "        \n",
              "  <svg xmlns=\"http://www.w3.org/2000/svg\" height=\"24px\"viewBox=\"0 0 24 24\"\n",
              "       width=\"24px\">\n",
              "    <path d=\"M0 0h24v24H0V0z\" fill=\"none\"/>\n",
              "    <path d=\"M18.56 5.44l.94 2.06.94-2.06 2.06-.94-2.06-.94-.94-2.06-.94 2.06-2.06.94zm-11 1L8.5 8.5l.94-2.06 2.06-.94-2.06-.94L8.5 2.5l-.94 2.06-2.06.94zm10 10l.94 2.06.94-2.06 2.06-.94-2.06-.94-.94-2.06-.94 2.06-2.06.94z\"/><path d=\"M17.41 7.96l-1.37-1.37c-.4-.4-.92-.59-1.43-.59-.52 0-1.04.2-1.43.59L10.3 9.45l-7.72 7.72c-.78.78-.78 2.05 0 2.83L4 21.41c.39.39.9.59 1.41.59.51 0 1.02-.2 1.41-.59l7.78-7.78 2.81-2.81c.8-.78.8-2.07 0-2.86zM5.41 20L4 18.59l7.72-7.72 1.47 1.35L5.41 20z\"/>\n",
              "  </svg>\n",
              "      </button>\n",
              "      \n",
              "  <style>\n",
              "    .colab-df-container {\n",
              "      display:flex;\n",
              "      flex-wrap:wrap;\n",
              "      gap: 12px;\n",
              "    }\n",
              "\n",
              "    .colab-df-convert {\n",
              "      background-color: #E8F0FE;\n",
              "      border: none;\n",
              "      border-radius: 50%;\n",
              "      cursor: pointer;\n",
              "      display: none;\n",
              "      fill: #1967D2;\n",
              "      height: 32px;\n",
              "      padding: 0 0 0 0;\n",
              "      width: 32px;\n",
              "    }\n",
              "\n",
              "    .colab-df-convert:hover {\n",
              "      background-color: #E2EBFA;\n",
              "      box-shadow: 0px 1px 2px rgba(60, 64, 67, 0.3), 0px 1px 3px 1px rgba(60, 64, 67, 0.15);\n",
              "      fill: #174EA6;\n",
              "    }\n",
              "\n",
              "    [theme=dark] .colab-df-convert {\n",
              "      background-color: #3B4455;\n",
              "      fill: #D2E3FC;\n",
              "    }\n",
              "\n",
              "    [theme=dark] .colab-df-convert:hover {\n",
              "      background-color: #434B5C;\n",
              "      box-shadow: 0px 1px 3px 1px rgba(0, 0, 0, 0.15);\n",
              "      filter: drop-shadow(0px 1px 2px rgba(0, 0, 0, 0.3));\n",
              "      fill: #FFFFFF;\n",
              "    }\n",
              "  </style>\n",
              "\n",
              "      <script>\n",
              "        const buttonEl =\n",
              "          document.querySelector('#df-58fe358c-d9fb-4afb-85f6-a712df41245b button.colab-df-convert');\n",
              "        buttonEl.style.display =\n",
              "          google.colab.kernel.accessAllowed ? 'block' : 'none';\n",
              "\n",
              "        async function convertToInteractive(key) {\n",
              "          const element = document.querySelector('#df-58fe358c-d9fb-4afb-85f6-a712df41245b');\n",
              "          const dataTable =\n",
              "            await google.colab.kernel.invokeFunction('convertToInteractive',\n",
              "                                                     [key], {});\n",
              "          if (!dataTable) return;\n",
              "\n",
              "          const docLinkHtml = 'Like what you see? Visit the ' +\n",
              "            '<a target=\"_blank\" href=https://colab.research.google.com/notebooks/data_table.ipynb>data table notebook</a>'\n",
              "            + ' to learn more about interactive tables.';\n",
              "          element.innerHTML = '';\n",
              "          dataTable['output_type'] = 'display_data';\n",
              "          await google.colab.output.renderOutput(dataTable, element);\n",
              "          const docLink = document.createElement('div');\n",
              "          docLink.innerHTML = docLinkHtml;\n",
              "          element.appendChild(docLink);\n",
              "        }\n",
              "      </script>\n",
              "    </div>\n",
              "  </div>\n",
              "  "
            ]
          },
          "metadata": {},
          "execution_count": 20
        }
      ]
    },
    {
      "cell_type": "code",
      "source": [
        "df = pd.merge(df, df_coms_counts, left_on=\"id\", right_on=\"issue_id\", how='left')\n",
        "df.drop(['id', 'issue_id'], axis=1, inplace=True)"
      ],
      "metadata": {
        "id": "PvsQqUfISx6t"
      },
      "execution_count": 21,
      "outputs": []
    },
    {
      "cell_type": "code",
      "source": [
        "df['comments_cnt'] = df['comments_cnt'].fillna(0).astype('int32')\n",
        "df['authors_cnt'] = df['authors_cnt'].fillna(0).astype('int32')\n",
        "df.head()"
      ],
      "metadata": {
        "colab": {
          "base_uri": "https://localhost:8080/",
          "height": 0
        },
        "id": "qR80ew0qSx8s",
        "outputId": "05a87c7e-d288-46ce-db55-971d339de700"
      },
      "execution_count": 22,
      "outputs": [
        {
          "output_type": "execute_result",
          "data": {
            "text/plain": [
              "   project_id  assignee_id  creator_id  month  day  hour  minute key_name  \\\n",
              "0           5           93          93     10    1     5      57       SM   \n",
              "1           5           93          93     10    1     5      59       SM   \n",
              "2           5           93          93     10    1     6       0       SM   \n",
              "3           5           93          93     10    1     6       2       SM   \n",
              "4           5           93          93     10    1     6       3       SM   \n",
              "\n",
              "   key_num                          lemm_summary  ...  \\\n",
              "0    10678         ui тест по заказ добро кейджи  ...   \n",
              "1    10679                ui тест раздел профиль  ...   \n",
              "2    10680            ui тест раздел личный счет  ...   \n",
              "3    10682                ui тест раздел новость  ...   \n",
              "4    10683  ui тест раздел зона скидка и доплата  ...   \n",
              "\n",
              "                           position  hiring_type payment_type passport  \\\n",
              "0  разработчик мобильных приложений        staff        fixed        1   \n",
              "1  разработчик мобильных приложений        staff        fixed        1   \n",
              "2  разработчик мобильных приложений        staff        fixed        1   \n",
              "3  разработчик мобильных приложений        staff        fixed        1   \n",
              "4  разработчик мобильных приложений        staff        fixed        1   \n",
              "\n",
              "  is_nda_signed  is_labor_contract_signed  is_added_to_internal_chats  \\\n",
              "0             1                         1                           1   \n",
              "1             1                         1                           1   \n",
              "2             1                         1                           1   \n",
              "3             1                         1                           1   \n",
              "4             1                         1                           1   \n",
              "\n",
              "   is_added_one_to_one  comments_cnt  authors_cnt  \n",
              "0                    1             0            0  \n",
              "1                    1             1            1  \n",
              "2                    1             0            0  \n",
              "3                    1             0            0  \n",
              "4                    1             1            1  \n",
              "\n",
              "[5 rows x 22 columns]"
            ],
            "text/html": [
              "\n",
              "  <div id=\"df-c101f5dd-adb7-4e4b-9aa2-8e3536f7eace\">\n",
              "    <div class=\"colab-df-container\">\n",
              "      <div>\n",
              "<style scoped>\n",
              "    .dataframe tbody tr th:only-of-type {\n",
              "        vertical-align: middle;\n",
              "    }\n",
              "\n",
              "    .dataframe tbody tr th {\n",
              "        vertical-align: top;\n",
              "    }\n",
              "\n",
              "    .dataframe thead th {\n",
              "        text-align: right;\n",
              "    }\n",
              "</style>\n",
              "<table border=\"1\" class=\"dataframe\">\n",
              "  <thead>\n",
              "    <tr style=\"text-align: right;\">\n",
              "      <th></th>\n",
              "      <th>project_id</th>\n",
              "      <th>assignee_id</th>\n",
              "      <th>creator_id</th>\n",
              "      <th>month</th>\n",
              "      <th>day</th>\n",
              "      <th>hour</th>\n",
              "      <th>minute</th>\n",
              "      <th>key_name</th>\n",
              "      <th>key_num</th>\n",
              "      <th>lemm_summary</th>\n",
              "      <th>...</th>\n",
              "      <th>position</th>\n",
              "      <th>hiring_type</th>\n",
              "      <th>payment_type</th>\n",
              "      <th>passport</th>\n",
              "      <th>is_nda_signed</th>\n",
              "      <th>is_labor_contract_signed</th>\n",
              "      <th>is_added_to_internal_chats</th>\n",
              "      <th>is_added_one_to_one</th>\n",
              "      <th>comments_cnt</th>\n",
              "      <th>authors_cnt</th>\n",
              "    </tr>\n",
              "  </thead>\n",
              "  <tbody>\n",
              "    <tr>\n",
              "      <th>0</th>\n",
              "      <td>5</td>\n",
              "      <td>93</td>\n",
              "      <td>93</td>\n",
              "      <td>10</td>\n",
              "      <td>1</td>\n",
              "      <td>5</td>\n",
              "      <td>57</td>\n",
              "      <td>SM</td>\n",
              "      <td>10678</td>\n",
              "      <td>ui тест по заказ добро кейджи</td>\n",
              "      <td>...</td>\n",
              "      <td>разработчик мобильных приложений</td>\n",
              "      <td>staff</td>\n",
              "      <td>fixed</td>\n",
              "      <td>1</td>\n",
              "      <td>1</td>\n",
              "      <td>1</td>\n",
              "      <td>1</td>\n",
              "      <td>1</td>\n",
              "      <td>0</td>\n",
              "      <td>0</td>\n",
              "    </tr>\n",
              "    <tr>\n",
              "      <th>1</th>\n",
              "      <td>5</td>\n",
              "      <td>93</td>\n",
              "      <td>93</td>\n",
              "      <td>10</td>\n",
              "      <td>1</td>\n",
              "      <td>5</td>\n",
              "      <td>59</td>\n",
              "      <td>SM</td>\n",
              "      <td>10679</td>\n",
              "      <td>ui тест раздел профиль</td>\n",
              "      <td>...</td>\n",
              "      <td>разработчик мобильных приложений</td>\n",
              "      <td>staff</td>\n",
              "      <td>fixed</td>\n",
              "      <td>1</td>\n",
              "      <td>1</td>\n",
              "      <td>1</td>\n",
              "      <td>1</td>\n",
              "      <td>1</td>\n",
              "      <td>1</td>\n",
              "      <td>1</td>\n",
              "    </tr>\n",
              "    <tr>\n",
              "      <th>2</th>\n",
              "      <td>5</td>\n",
              "      <td>93</td>\n",
              "      <td>93</td>\n",
              "      <td>10</td>\n",
              "      <td>1</td>\n",
              "      <td>6</td>\n",
              "      <td>0</td>\n",
              "      <td>SM</td>\n",
              "      <td>10680</td>\n",
              "      <td>ui тест раздел личный счет</td>\n",
              "      <td>...</td>\n",
              "      <td>разработчик мобильных приложений</td>\n",
              "      <td>staff</td>\n",
              "      <td>fixed</td>\n",
              "      <td>1</td>\n",
              "      <td>1</td>\n",
              "      <td>1</td>\n",
              "      <td>1</td>\n",
              "      <td>1</td>\n",
              "      <td>0</td>\n",
              "      <td>0</td>\n",
              "    </tr>\n",
              "    <tr>\n",
              "      <th>3</th>\n",
              "      <td>5</td>\n",
              "      <td>93</td>\n",
              "      <td>93</td>\n",
              "      <td>10</td>\n",
              "      <td>1</td>\n",
              "      <td>6</td>\n",
              "      <td>2</td>\n",
              "      <td>SM</td>\n",
              "      <td>10682</td>\n",
              "      <td>ui тест раздел новость</td>\n",
              "      <td>...</td>\n",
              "      <td>разработчик мобильных приложений</td>\n",
              "      <td>staff</td>\n",
              "      <td>fixed</td>\n",
              "      <td>1</td>\n",
              "      <td>1</td>\n",
              "      <td>1</td>\n",
              "      <td>1</td>\n",
              "      <td>1</td>\n",
              "      <td>0</td>\n",
              "      <td>0</td>\n",
              "    </tr>\n",
              "    <tr>\n",
              "      <th>4</th>\n",
              "      <td>5</td>\n",
              "      <td>93</td>\n",
              "      <td>93</td>\n",
              "      <td>10</td>\n",
              "      <td>1</td>\n",
              "      <td>6</td>\n",
              "      <td>3</td>\n",
              "      <td>SM</td>\n",
              "      <td>10683</td>\n",
              "      <td>ui тест раздел зона скидка и доплата</td>\n",
              "      <td>...</td>\n",
              "      <td>разработчик мобильных приложений</td>\n",
              "      <td>staff</td>\n",
              "      <td>fixed</td>\n",
              "      <td>1</td>\n",
              "      <td>1</td>\n",
              "      <td>1</td>\n",
              "      <td>1</td>\n",
              "      <td>1</td>\n",
              "      <td>1</td>\n",
              "      <td>1</td>\n",
              "    </tr>\n",
              "  </tbody>\n",
              "</table>\n",
              "<p>5 rows × 22 columns</p>\n",
              "</div>\n",
              "      <button class=\"colab-df-convert\" onclick=\"convertToInteractive('df-c101f5dd-adb7-4e4b-9aa2-8e3536f7eace')\"\n",
              "              title=\"Convert this dataframe to an interactive table.\"\n",
              "              style=\"display:none;\">\n",
              "        \n",
              "  <svg xmlns=\"http://www.w3.org/2000/svg\" height=\"24px\"viewBox=\"0 0 24 24\"\n",
              "       width=\"24px\">\n",
              "    <path d=\"M0 0h24v24H0V0z\" fill=\"none\"/>\n",
              "    <path d=\"M18.56 5.44l.94 2.06.94-2.06 2.06-.94-2.06-.94-.94-2.06-.94 2.06-2.06.94zm-11 1L8.5 8.5l.94-2.06 2.06-.94-2.06-.94L8.5 2.5l-.94 2.06-2.06.94zm10 10l.94 2.06.94-2.06 2.06-.94-2.06-.94-.94-2.06-.94 2.06-2.06.94z\"/><path d=\"M17.41 7.96l-1.37-1.37c-.4-.4-.92-.59-1.43-.59-.52 0-1.04.2-1.43.59L10.3 9.45l-7.72 7.72c-.78.78-.78 2.05 0 2.83L4 21.41c.39.39.9.59 1.41.59.51 0 1.02-.2 1.41-.59l7.78-7.78 2.81-2.81c.8-.78.8-2.07 0-2.86zM5.41 20L4 18.59l7.72-7.72 1.47 1.35L5.41 20z\"/>\n",
              "  </svg>\n",
              "      </button>\n",
              "      \n",
              "  <style>\n",
              "    .colab-df-container {\n",
              "      display:flex;\n",
              "      flex-wrap:wrap;\n",
              "      gap: 12px;\n",
              "    }\n",
              "\n",
              "    .colab-df-convert {\n",
              "      background-color: #E8F0FE;\n",
              "      border: none;\n",
              "      border-radius: 50%;\n",
              "      cursor: pointer;\n",
              "      display: none;\n",
              "      fill: #1967D2;\n",
              "      height: 32px;\n",
              "      padding: 0 0 0 0;\n",
              "      width: 32px;\n",
              "    }\n",
              "\n",
              "    .colab-df-convert:hover {\n",
              "      background-color: #E2EBFA;\n",
              "      box-shadow: 0px 1px 2px rgba(60, 64, 67, 0.3), 0px 1px 3px 1px rgba(60, 64, 67, 0.15);\n",
              "      fill: #174EA6;\n",
              "    }\n",
              "\n",
              "    [theme=dark] .colab-df-convert {\n",
              "      background-color: #3B4455;\n",
              "      fill: #D2E3FC;\n",
              "    }\n",
              "\n",
              "    [theme=dark] .colab-df-convert:hover {\n",
              "      background-color: #434B5C;\n",
              "      box-shadow: 0px 1px 3px 1px rgba(0, 0, 0, 0.15);\n",
              "      filter: drop-shadow(0px 1px 2px rgba(0, 0, 0, 0.3));\n",
              "      fill: #FFFFFF;\n",
              "    }\n",
              "  </style>\n",
              "\n",
              "      <script>\n",
              "        const buttonEl =\n",
              "          document.querySelector('#df-c101f5dd-adb7-4e4b-9aa2-8e3536f7eace button.colab-df-convert');\n",
              "        buttonEl.style.display =\n",
              "          google.colab.kernel.accessAllowed ? 'block' : 'none';\n",
              "\n",
              "        async function convertToInteractive(key) {\n",
              "          const element = document.querySelector('#df-c101f5dd-adb7-4e4b-9aa2-8e3536f7eace');\n",
              "          const dataTable =\n",
              "            await google.colab.kernel.invokeFunction('convertToInteractive',\n",
              "                                                     [key], {});\n",
              "          if (!dataTable) return;\n",
              "\n",
              "          const docLinkHtml = 'Like what you see? Visit the ' +\n",
              "            '<a target=\"_blank\" href=https://colab.research.google.com/notebooks/data_table.ipynb>data table notebook</a>'\n",
              "            + ' to learn more about interactive tables.';\n",
              "          element.innerHTML = '';\n",
              "          dataTable['output_type'] = 'display_data';\n",
              "          await google.colab.output.renderOutput(dataTable, element);\n",
              "          const docLink = document.createElement('div');\n",
              "          docLink.innerHTML = docLinkHtml;\n",
              "          element.appendChild(docLink);\n",
              "        }\n",
              "      </script>\n",
              "    </div>\n",
              "  </div>\n",
              "  "
            ]
          },
          "metadata": {},
          "execution_count": 22
        }
      ]
    },
    {
      "cell_type": "markdown",
      "source": [
        "## Разделение данных"
      ],
      "metadata": {
        "id": "U3D1HjBCIO37"
      }
    },
    {
      "cell_type": "code",
      "source": [
        "X = df.drop(['log_target'], axis=1)\n",
        "# X = df.drop(['log_target', 'lemm_summary'], axis=1)\n",
        "y = df[['log_target']]\n",
        "\n",
        "X_train, X_val, y_train, y_val = train_test_split(X, y, test_size=0.15, random_state=59)\n",
        "X_train.reset_index(inplace=True, drop=True)\n",
        "X_val.reset_index(inplace=True, drop=True)\n",
        "y_train = y_train.values\n",
        "y_val = y_val.values\n",
        "X_train.shape, X_val.shape"
      ],
      "metadata": {
        "id": "4RQHUI1or_zV",
        "colab": {
          "base_uri": "https://localhost:8080/"
        },
        "outputId": "0acd5fe7-0413-4abe-cbac-280272ae06ee"
      },
      "execution_count": 23,
      "outputs": [
        {
          "output_type": "execute_result",
          "data": {
            "text/plain": [
              "((8150, 21), (1439, 21))"
            ]
          },
          "metadata": {},
          "execution_count": 23
        }
      ]
    },
    {
      "cell_type": "code",
      "source": [
        "X_train.head()"
      ],
      "metadata": {
        "colab": {
          "base_uri": "https://localhost:8080/",
          "height": 0
        },
        "id": "n1e-GQpWRoWO",
        "outputId": "fd4c4c15-bede-4e2a-e550-03d293f7702e"
      },
      "execution_count": 24,
      "outputs": [
        {
          "output_type": "execute_result",
          "data": {
            "text/plain": [
              "   project_id  assignee_id  creator_id  month  day  hour  minute key_name  \\\n",
              "0          48            1           1      4   16    18      15   ADBKRK   \n",
              "1          13           86          86      3    4     8      45     BALT   \n",
              "2          13           86          86      9    8    11       6     BALT   \n",
              "3          13          365         193      9    1    16      16     BALT   \n",
              "4          13          365         365     10   14    12      38     BALT   \n",
              "\n",
              "   key_num                                       lemm_summary  ...  position  \\\n",
              "0      746                               please check contact  ...     other   \n",
              "1     4424  add loader for dropdowns in ib curriculum wiza...  ...       web   \n",
              "2     7867     refactore the code add improvement and fix bug  ...       web   \n",
              "3     7725       text not align in preview mode on the canvas  ...       web   \n",
              "4     8552      bug after close background selector on canvas  ...       web   \n",
              "\n",
              "  hiring_type payment_type passport  is_nda_signed  is_labor_contract_signed  \\\n",
              "0     unknown      unknown        0              0                         0   \n",
              "1       staff        fixed        1              1                         1   \n",
              "2       staff        fixed        1              1                         1   \n",
              "3       staff       hourly        1              1                         1   \n",
              "4       staff       hourly        1              1                         1   \n",
              "\n",
              "   is_added_to_internal_chats  is_added_one_to_one  comments_cnt  authors_cnt  \n",
              "0                           0                    0             1            1  \n",
              "1                           1                    1             0            0  \n",
              "2                           1                    1             0            0  \n",
              "3                           1                    1             0            0  \n",
              "4                           1                    1             0            0  \n",
              "\n",
              "[5 rows x 21 columns]"
            ],
            "text/html": [
              "\n",
              "  <div id=\"df-9145d9f9-c9d8-4efb-be81-f1df43da648f\">\n",
              "    <div class=\"colab-df-container\">\n",
              "      <div>\n",
              "<style scoped>\n",
              "    .dataframe tbody tr th:only-of-type {\n",
              "        vertical-align: middle;\n",
              "    }\n",
              "\n",
              "    .dataframe tbody tr th {\n",
              "        vertical-align: top;\n",
              "    }\n",
              "\n",
              "    .dataframe thead th {\n",
              "        text-align: right;\n",
              "    }\n",
              "</style>\n",
              "<table border=\"1\" class=\"dataframe\">\n",
              "  <thead>\n",
              "    <tr style=\"text-align: right;\">\n",
              "      <th></th>\n",
              "      <th>project_id</th>\n",
              "      <th>assignee_id</th>\n",
              "      <th>creator_id</th>\n",
              "      <th>month</th>\n",
              "      <th>day</th>\n",
              "      <th>hour</th>\n",
              "      <th>minute</th>\n",
              "      <th>key_name</th>\n",
              "      <th>key_num</th>\n",
              "      <th>lemm_summary</th>\n",
              "      <th>...</th>\n",
              "      <th>position</th>\n",
              "      <th>hiring_type</th>\n",
              "      <th>payment_type</th>\n",
              "      <th>passport</th>\n",
              "      <th>is_nda_signed</th>\n",
              "      <th>is_labor_contract_signed</th>\n",
              "      <th>is_added_to_internal_chats</th>\n",
              "      <th>is_added_one_to_one</th>\n",
              "      <th>comments_cnt</th>\n",
              "      <th>authors_cnt</th>\n",
              "    </tr>\n",
              "  </thead>\n",
              "  <tbody>\n",
              "    <tr>\n",
              "      <th>0</th>\n",
              "      <td>48</td>\n",
              "      <td>1</td>\n",
              "      <td>1</td>\n",
              "      <td>4</td>\n",
              "      <td>16</td>\n",
              "      <td>18</td>\n",
              "      <td>15</td>\n",
              "      <td>ADBKRK</td>\n",
              "      <td>746</td>\n",
              "      <td>please check contact</td>\n",
              "      <td>...</td>\n",
              "      <td>other</td>\n",
              "      <td>unknown</td>\n",
              "      <td>unknown</td>\n",
              "      <td>0</td>\n",
              "      <td>0</td>\n",
              "      <td>0</td>\n",
              "      <td>0</td>\n",
              "      <td>0</td>\n",
              "      <td>1</td>\n",
              "      <td>1</td>\n",
              "    </tr>\n",
              "    <tr>\n",
              "      <th>1</th>\n",
              "      <td>13</td>\n",
              "      <td>86</td>\n",
              "      <td>86</td>\n",
              "      <td>3</td>\n",
              "      <td>4</td>\n",
              "      <td>8</td>\n",
              "      <td>45</td>\n",
              "      <td>BALT</td>\n",
              "      <td>4424</td>\n",
              "      <td>add loader for dropdowns in ib curriculum wiza...</td>\n",
              "      <td>...</td>\n",
              "      <td>web</td>\n",
              "      <td>staff</td>\n",
              "      <td>fixed</td>\n",
              "      <td>1</td>\n",
              "      <td>1</td>\n",
              "      <td>1</td>\n",
              "      <td>1</td>\n",
              "      <td>1</td>\n",
              "      <td>0</td>\n",
              "      <td>0</td>\n",
              "    </tr>\n",
              "    <tr>\n",
              "      <th>2</th>\n",
              "      <td>13</td>\n",
              "      <td>86</td>\n",
              "      <td>86</td>\n",
              "      <td>9</td>\n",
              "      <td>8</td>\n",
              "      <td>11</td>\n",
              "      <td>6</td>\n",
              "      <td>BALT</td>\n",
              "      <td>7867</td>\n",
              "      <td>refactore the code add improvement and fix bug</td>\n",
              "      <td>...</td>\n",
              "      <td>web</td>\n",
              "      <td>staff</td>\n",
              "      <td>fixed</td>\n",
              "      <td>1</td>\n",
              "      <td>1</td>\n",
              "      <td>1</td>\n",
              "      <td>1</td>\n",
              "      <td>1</td>\n",
              "      <td>0</td>\n",
              "      <td>0</td>\n",
              "    </tr>\n",
              "    <tr>\n",
              "      <th>3</th>\n",
              "      <td>13</td>\n",
              "      <td>365</td>\n",
              "      <td>193</td>\n",
              "      <td>9</td>\n",
              "      <td>1</td>\n",
              "      <td>16</td>\n",
              "      <td>16</td>\n",
              "      <td>BALT</td>\n",
              "      <td>7725</td>\n",
              "      <td>text not align in preview mode on the canvas</td>\n",
              "      <td>...</td>\n",
              "      <td>web</td>\n",
              "      <td>staff</td>\n",
              "      <td>hourly</td>\n",
              "      <td>1</td>\n",
              "      <td>1</td>\n",
              "      <td>1</td>\n",
              "      <td>1</td>\n",
              "      <td>1</td>\n",
              "      <td>0</td>\n",
              "      <td>0</td>\n",
              "    </tr>\n",
              "    <tr>\n",
              "      <th>4</th>\n",
              "      <td>13</td>\n",
              "      <td>365</td>\n",
              "      <td>365</td>\n",
              "      <td>10</td>\n",
              "      <td>14</td>\n",
              "      <td>12</td>\n",
              "      <td>38</td>\n",
              "      <td>BALT</td>\n",
              "      <td>8552</td>\n",
              "      <td>bug after close background selector on canvas</td>\n",
              "      <td>...</td>\n",
              "      <td>web</td>\n",
              "      <td>staff</td>\n",
              "      <td>hourly</td>\n",
              "      <td>1</td>\n",
              "      <td>1</td>\n",
              "      <td>1</td>\n",
              "      <td>1</td>\n",
              "      <td>1</td>\n",
              "      <td>0</td>\n",
              "      <td>0</td>\n",
              "    </tr>\n",
              "  </tbody>\n",
              "</table>\n",
              "<p>5 rows × 21 columns</p>\n",
              "</div>\n",
              "      <button class=\"colab-df-convert\" onclick=\"convertToInteractive('df-9145d9f9-c9d8-4efb-be81-f1df43da648f')\"\n",
              "              title=\"Convert this dataframe to an interactive table.\"\n",
              "              style=\"display:none;\">\n",
              "        \n",
              "  <svg xmlns=\"http://www.w3.org/2000/svg\" height=\"24px\"viewBox=\"0 0 24 24\"\n",
              "       width=\"24px\">\n",
              "    <path d=\"M0 0h24v24H0V0z\" fill=\"none\"/>\n",
              "    <path d=\"M18.56 5.44l.94 2.06.94-2.06 2.06-.94-2.06-.94-.94-2.06-.94 2.06-2.06.94zm-11 1L8.5 8.5l.94-2.06 2.06-.94-2.06-.94L8.5 2.5l-.94 2.06-2.06.94zm10 10l.94 2.06.94-2.06 2.06-.94-2.06-.94-.94-2.06-.94 2.06-2.06.94z\"/><path d=\"M17.41 7.96l-1.37-1.37c-.4-.4-.92-.59-1.43-.59-.52 0-1.04.2-1.43.59L10.3 9.45l-7.72 7.72c-.78.78-.78 2.05 0 2.83L4 21.41c.39.39.9.59 1.41.59.51 0 1.02-.2 1.41-.59l7.78-7.78 2.81-2.81c.8-.78.8-2.07 0-2.86zM5.41 20L4 18.59l7.72-7.72 1.47 1.35L5.41 20z\"/>\n",
              "  </svg>\n",
              "      </button>\n",
              "      \n",
              "  <style>\n",
              "    .colab-df-container {\n",
              "      display:flex;\n",
              "      flex-wrap:wrap;\n",
              "      gap: 12px;\n",
              "    }\n",
              "\n",
              "    .colab-df-convert {\n",
              "      background-color: #E8F0FE;\n",
              "      border: none;\n",
              "      border-radius: 50%;\n",
              "      cursor: pointer;\n",
              "      display: none;\n",
              "      fill: #1967D2;\n",
              "      height: 32px;\n",
              "      padding: 0 0 0 0;\n",
              "      width: 32px;\n",
              "    }\n",
              "\n",
              "    .colab-df-convert:hover {\n",
              "      background-color: #E2EBFA;\n",
              "      box-shadow: 0px 1px 2px rgba(60, 64, 67, 0.3), 0px 1px 3px 1px rgba(60, 64, 67, 0.15);\n",
              "      fill: #174EA6;\n",
              "    }\n",
              "\n",
              "    [theme=dark] .colab-df-convert {\n",
              "      background-color: #3B4455;\n",
              "      fill: #D2E3FC;\n",
              "    }\n",
              "\n",
              "    [theme=dark] .colab-df-convert:hover {\n",
              "      background-color: #434B5C;\n",
              "      box-shadow: 0px 1px 3px 1px rgba(0, 0, 0, 0.15);\n",
              "      filter: drop-shadow(0px 1px 2px rgba(0, 0, 0, 0.3));\n",
              "      fill: #FFFFFF;\n",
              "    }\n",
              "  </style>\n",
              "\n",
              "      <script>\n",
              "        const buttonEl =\n",
              "          document.querySelector('#df-9145d9f9-c9d8-4efb-be81-f1df43da648f button.colab-df-convert');\n",
              "        buttonEl.style.display =\n",
              "          google.colab.kernel.accessAllowed ? 'block' : 'none';\n",
              "\n",
              "        async function convertToInteractive(key) {\n",
              "          const element = document.querySelector('#df-9145d9f9-c9d8-4efb-be81-f1df43da648f');\n",
              "          const dataTable =\n",
              "            await google.colab.kernel.invokeFunction('convertToInteractive',\n",
              "                                                     [key], {});\n",
              "          if (!dataTable) return;\n",
              "\n",
              "          const docLinkHtml = 'Like what you see? Visit the ' +\n",
              "            '<a target=\"_blank\" href=https://colab.research.google.com/notebooks/data_table.ipynb>data table notebook</a>'\n",
              "            + ' to learn more about interactive tables.';\n",
              "          element.innerHTML = '';\n",
              "          dataTable['output_type'] = 'display_data';\n",
              "          await google.colab.output.renderOutput(dataTable, element);\n",
              "          const docLink = document.createElement('div');\n",
              "          docLink.innerHTML = docLinkHtml;\n",
              "          element.appendChild(docLink);\n",
              "        }\n",
              "      </script>\n",
              "    </div>\n",
              "  </div>\n",
              "  "
            ]
          },
          "metadata": {},
          "execution_count": 24
        }
      ]
    },
    {
      "cell_type": "markdown",
      "source": [
        "Применяем tf-idf"
      ],
      "metadata": {
        "id": "ezAr-6XmKex6"
      }
    },
    {
      "cell_type": "code",
      "source": [
        "X_train_new = count_tf_idf.fit_transform(X_train['lemm_summary'])\n",
        "feature_names_tf = list(map(lambda x: x + '_tf', count_tf_idf.get_feature_names_out()))\n",
        "\n",
        "X_train_new_df = pd.DataFrame(X_train_new.toarray(), columns=feature_names_tf)\n",
        "X_train.drop('lemm_summary', axis=1, inplace=True)\n",
        "X_train = pd.concat([X_train, X_train_new_df], axis=1)\n",
        "\n",
        "X_val_new = count_tf_idf.transform(X_val['lemm_summary'])\n",
        "X_val_new_df = pd.DataFrame(X_val_new.toarray(), columns=feature_names_tf)\n",
        "X_val.drop('lemm_summary', axis=1, inplace=True)\n",
        "X_val = pd.concat([X_val, X_val_new_df], axis=1)\n",
        "\n",
        "X_train.shape, X_val.shape"
      ],
      "metadata": {
        "colab": {
          "base_uri": "https://localhost:8080/"
        },
        "id": "LTSkiwZhKd_9",
        "outputId": "926cd2bb-e442-466e-9d97-bfe408c2486d"
      },
      "execution_count": 25,
      "outputs": [
        {
          "output_type": "execute_result",
          "data": {
            "text/plain": [
              "((8150, 4357), (1439, 4357))"
            ]
          },
          "metadata": {},
          "execution_count": 25
        }
      ]
    },
    {
      "cell_type": "code",
      "source": [
        "X_train.head()"
      ],
      "metadata": {
        "colab": {
          "base_uri": "https://localhost:8080/",
          "height": 0
        },
        "id": "FDAhxUZIN7vR",
        "outputId": "d5c4f17d-20fb-4858-862e-022efce26ece"
      },
      "execution_count": 26,
      "outputs": [
        {
          "output_type": "execute_result",
          "data": {
            "text/plain": [
              "   project_id  assignee_id  creator_id  month  day  hour  minute key_name  \\\n",
              "0          48            1           1      4   16    18      15   ADBKRK   \n",
              "1          13           86          86      3    4     8      45     BALT   \n",
              "2          13           86          86      9    8    11       6     BALT   \n",
              "3          13          365         193      9    1    16      16     BALT   \n",
              "4          13          365         365     10   14    12      38     BALT   \n",
              "\n",
              "   key_num  active  ... эндпоинтов_tf эндпойнт_tf энергосбережение_tf  это_tf  \\\n",
              "0      746       1  ...           0.0         0.0                 0.0     0.0   \n",
              "1     4424       1  ...           0.0         0.0                 0.0     0.0   \n",
              "2     7867       1  ...           0.0         0.0                 0.0     0.0   \n",
              "3     7725       1  ...           0.0         0.0                 0.0     0.0   \n",
              "4     8552       1  ...           0.0         0.0                 0.0     0.0   \n",
              "\n",
              "   эффект_tf  юзер_tf  юнит_tf  ядро_tf  язык_tf  ящик_tf  \n",
              "0        0.0      0.0      0.0      0.0      0.0      0.0  \n",
              "1        0.0      0.0      0.0      0.0      0.0      0.0  \n",
              "2        0.0      0.0      0.0      0.0      0.0      0.0  \n",
              "3        0.0      0.0      0.0      0.0      0.0      0.0  \n",
              "4        0.0      0.0      0.0      0.0      0.0      0.0  \n",
              "\n",
              "[5 rows x 4357 columns]"
            ],
            "text/html": [
              "\n",
              "  <div id=\"df-1a11a970-f526-445d-9be8-eba0a89cb3c4\">\n",
              "    <div class=\"colab-df-container\">\n",
              "      <div>\n",
              "<style scoped>\n",
              "    .dataframe tbody tr th:only-of-type {\n",
              "        vertical-align: middle;\n",
              "    }\n",
              "\n",
              "    .dataframe tbody tr th {\n",
              "        vertical-align: top;\n",
              "    }\n",
              "\n",
              "    .dataframe thead th {\n",
              "        text-align: right;\n",
              "    }\n",
              "</style>\n",
              "<table border=\"1\" class=\"dataframe\">\n",
              "  <thead>\n",
              "    <tr style=\"text-align: right;\">\n",
              "      <th></th>\n",
              "      <th>project_id</th>\n",
              "      <th>assignee_id</th>\n",
              "      <th>creator_id</th>\n",
              "      <th>month</th>\n",
              "      <th>day</th>\n",
              "      <th>hour</th>\n",
              "      <th>minute</th>\n",
              "      <th>key_name</th>\n",
              "      <th>key_num</th>\n",
              "      <th>active</th>\n",
              "      <th>...</th>\n",
              "      <th>эндпоинтов_tf</th>\n",
              "      <th>эндпойнт_tf</th>\n",
              "      <th>энергосбережение_tf</th>\n",
              "      <th>это_tf</th>\n",
              "      <th>эффект_tf</th>\n",
              "      <th>юзер_tf</th>\n",
              "      <th>юнит_tf</th>\n",
              "      <th>ядро_tf</th>\n",
              "      <th>язык_tf</th>\n",
              "      <th>ящик_tf</th>\n",
              "    </tr>\n",
              "  </thead>\n",
              "  <tbody>\n",
              "    <tr>\n",
              "      <th>0</th>\n",
              "      <td>48</td>\n",
              "      <td>1</td>\n",
              "      <td>1</td>\n",
              "      <td>4</td>\n",
              "      <td>16</td>\n",
              "      <td>18</td>\n",
              "      <td>15</td>\n",
              "      <td>ADBKRK</td>\n",
              "      <td>746</td>\n",
              "      <td>1</td>\n",
              "      <td>...</td>\n",
              "      <td>0.0</td>\n",
              "      <td>0.0</td>\n",
              "      <td>0.0</td>\n",
              "      <td>0.0</td>\n",
              "      <td>0.0</td>\n",
              "      <td>0.0</td>\n",
              "      <td>0.0</td>\n",
              "      <td>0.0</td>\n",
              "      <td>0.0</td>\n",
              "      <td>0.0</td>\n",
              "    </tr>\n",
              "    <tr>\n",
              "      <th>1</th>\n",
              "      <td>13</td>\n",
              "      <td>86</td>\n",
              "      <td>86</td>\n",
              "      <td>3</td>\n",
              "      <td>4</td>\n",
              "      <td>8</td>\n",
              "      <td>45</td>\n",
              "      <td>BALT</td>\n",
              "      <td>4424</td>\n",
              "      <td>1</td>\n",
              "      <td>...</td>\n",
              "      <td>0.0</td>\n",
              "      <td>0.0</td>\n",
              "      <td>0.0</td>\n",
              "      <td>0.0</td>\n",
              "      <td>0.0</td>\n",
              "      <td>0.0</td>\n",
              "      <td>0.0</td>\n",
              "      <td>0.0</td>\n",
              "      <td>0.0</td>\n",
              "      <td>0.0</td>\n",
              "    </tr>\n",
              "    <tr>\n",
              "      <th>2</th>\n",
              "      <td>13</td>\n",
              "      <td>86</td>\n",
              "      <td>86</td>\n",
              "      <td>9</td>\n",
              "      <td>8</td>\n",
              "      <td>11</td>\n",
              "      <td>6</td>\n",
              "      <td>BALT</td>\n",
              "      <td>7867</td>\n",
              "      <td>1</td>\n",
              "      <td>...</td>\n",
              "      <td>0.0</td>\n",
              "      <td>0.0</td>\n",
              "      <td>0.0</td>\n",
              "      <td>0.0</td>\n",
              "      <td>0.0</td>\n",
              "      <td>0.0</td>\n",
              "      <td>0.0</td>\n",
              "      <td>0.0</td>\n",
              "      <td>0.0</td>\n",
              "      <td>0.0</td>\n",
              "    </tr>\n",
              "    <tr>\n",
              "      <th>3</th>\n",
              "      <td>13</td>\n",
              "      <td>365</td>\n",
              "      <td>193</td>\n",
              "      <td>9</td>\n",
              "      <td>1</td>\n",
              "      <td>16</td>\n",
              "      <td>16</td>\n",
              "      <td>BALT</td>\n",
              "      <td>7725</td>\n",
              "      <td>1</td>\n",
              "      <td>...</td>\n",
              "      <td>0.0</td>\n",
              "      <td>0.0</td>\n",
              "      <td>0.0</td>\n",
              "      <td>0.0</td>\n",
              "      <td>0.0</td>\n",
              "      <td>0.0</td>\n",
              "      <td>0.0</td>\n",
              "      <td>0.0</td>\n",
              "      <td>0.0</td>\n",
              "      <td>0.0</td>\n",
              "    </tr>\n",
              "    <tr>\n",
              "      <th>4</th>\n",
              "      <td>13</td>\n",
              "      <td>365</td>\n",
              "      <td>365</td>\n",
              "      <td>10</td>\n",
              "      <td>14</td>\n",
              "      <td>12</td>\n",
              "      <td>38</td>\n",
              "      <td>BALT</td>\n",
              "      <td>8552</td>\n",
              "      <td>1</td>\n",
              "      <td>...</td>\n",
              "      <td>0.0</td>\n",
              "      <td>0.0</td>\n",
              "      <td>0.0</td>\n",
              "      <td>0.0</td>\n",
              "      <td>0.0</td>\n",
              "      <td>0.0</td>\n",
              "      <td>0.0</td>\n",
              "      <td>0.0</td>\n",
              "      <td>0.0</td>\n",
              "      <td>0.0</td>\n",
              "    </tr>\n",
              "  </tbody>\n",
              "</table>\n",
              "<p>5 rows × 4357 columns</p>\n",
              "</div>\n",
              "      <button class=\"colab-df-convert\" onclick=\"convertToInteractive('df-1a11a970-f526-445d-9be8-eba0a89cb3c4')\"\n",
              "              title=\"Convert this dataframe to an interactive table.\"\n",
              "              style=\"display:none;\">\n",
              "        \n",
              "  <svg xmlns=\"http://www.w3.org/2000/svg\" height=\"24px\"viewBox=\"0 0 24 24\"\n",
              "       width=\"24px\">\n",
              "    <path d=\"M0 0h24v24H0V0z\" fill=\"none\"/>\n",
              "    <path d=\"M18.56 5.44l.94 2.06.94-2.06 2.06-.94-2.06-.94-.94-2.06-.94 2.06-2.06.94zm-11 1L8.5 8.5l.94-2.06 2.06-.94-2.06-.94L8.5 2.5l-.94 2.06-2.06.94zm10 10l.94 2.06.94-2.06 2.06-.94-2.06-.94-.94-2.06-.94 2.06-2.06.94z\"/><path d=\"M17.41 7.96l-1.37-1.37c-.4-.4-.92-.59-1.43-.59-.52 0-1.04.2-1.43.59L10.3 9.45l-7.72 7.72c-.78.78-.78 2.05 0 2.83L4 21.41c.39.39.9.59 1.41.59.51 0 1.02-.2 1.41-.59l7.78-7.78 2.81-2.81c.8-.78.8-2.07 0-2.86zM5.41 20L4 18.59l7.72-7.72 1.47 1.35L5.41 20z\"/>\n",
              "  </svg>\n",
              "      </button>\n",
              "      \n",
              "  <style>\n",
              "    .colab-df-container {\n",
              "      display:flex;\n",
              "      flex-wrap:wrap;\n",
              "      gap: 12px;\n",
              "    }\n",
              "\n",
              "    .colab-df-convert {\n",
              "      background-color: #E8F0FE;\n",
              "      border: none;\n",
              "      border-radius: 50%;\n",
              "      cursor: pointer;\n",
              "      display: none;\n",
              "      fill: #1967D2;\n",
              "      height: 32px;\n",
              "      padding: 0 0 0 0;\n",
              "      width: 32px;\n",
              "    }\n",
              "\n",
              "    .colab-df-convert:hover {\n",
              "      background-color: #E2EBFA;\n",
              "      box-shadow: 0px 1px 2px rgba(60, 64, 67, 0.3), 0px 1px 3px 1px rgba(60, 64, 67, 0.15);\n",
              "      fill: #174EA6;\n",
              "    }\n",
              "\n",
              "    [theme=dark] .colab-df-convert {\n",
              "      background-color: #3B4455;\n",
              "      fill: #D2E3FC;\n",
              "    }\n",
              "\n",
              "    [theme=dark] .colab-df-convert:hover {\n",
              "      background-color: #434B5C;\n",
              "      box-shadow: 0px 1px 3px 1px rgba(0, 0, 0, 0.15);\n",
              "      filter: drop-shadow(0px 1px 2px rgba(0, 0, 0, 0.3));\n",
              "      fill: #FFFFFF;\n",
              "    }\n",
              "  </style>\n",
              "\n",
              "      <script>\n",
              "        const buttonEl =\n",
              "          document.querySelector('#df-1a11a970-f526-445d-9be8-eba0a89cb3c4 button.colab-df-convert');\n",
              "        buttonEl.style.display =\n",
              "          google.colab.kernel.accessAllowed ? 'block' : 'none';\n",
              "\n",
              "        async function convertToInteractive(key) {\n",
              "          const element = document.querySelector('#df-1a11a970-f526-445d-9be8-eba0a89cb3c4');\n",
              "          const dataTable =\n",
              "            await google.colab.kernel.invokeFunction('convertToInteractive',\n",
              "                                                     [key], {});\n",
              "          if (!dataTable) return;\n",
              "\n",
              "          const docLinkHtml = 'Like what you see? Visit the ' +\n",
              "            '<a target=\"_blank\" href=https://colab.research.google.com/notebooks/data_table.ipynb>data table notebook</a>'\n",
              "            + ' to learn more about interactive tables.';\n",
              "          element.innerHTML = '';\n",
              "          dataTable['output_type'] = 'display_data';\n",
              "          await google.colab.output.renderOutput(dataTable, element);\n",
              "          const docLink = document.createElement('div');\n",
              "          docLink.innerHTML = docLinkHtml;\n",
              "          element.appendChild(docLink);\n",
              "        }\n",
              "      </script>\n",
              "    </div>\n",
              "  </div>\n",
              "  "
            ]
          },
          "metadata": {},
          "execution_count": 26
        }
      ]
    },
    {
      "cell_type": "markdown",
      "source": [
        "Применяем Label Encoding (так как ключевыми моделями будут деревья и их производные, то выбор справедлив)"
      ],
      "metadata": {
        "id": "DiGvfpQDLDfT"
      }
    },
    {
      "cell_type": "code",
      "source": [
        "cat_features = ['key_name', 'position',\n",
        "                'hiring_type', 'payment_type']\n",
        "\n",
        "ord_encoder = OrdinalEncoder(handle_unknown='use_encoded_value',\n",
        "                                unknown_value=-1)\n",
        "X_train[cat_features] = ord_encoder.fit_transform(X_train[cat_features])\n",
        "X_val[cat_features] = ord_encoder.transform(X_val[cat_features])"
      ],
      "metadata": {
        "id": "mAiYoF57IK-W"
      },
      "execution_count": 27,
      "outputs": []
    },
    {
      "cell_type": "code",
      "source": [
        "X_train.info()"
      ],
      "metadata": {
        "colab": {
          "base_uri": "https://localhost:8080/"
        },
        "id": "H5MPcvgjREOD",
        "outputId": "b29f9954-c86c-4920-f0ff-422921cef2e7"
      },
      "execution_count": 28,
      "outputs": [
        {
          "output_type": "stream",
          "name": "stdout",
          "text": [
            "<class 'pandas.core.frame.DataFrame'>\n",
            "RangeIndex: 8150 entries, 0 to 8149\n",
            "Columns: 4357 entries, project_id to ящик_tf\n",
            "dtypes: float64(4341), int32(2), int64(14)\n",
            "memory usage: 270.9 MB\n"
          ]
        }
      ]
    },
    {
      "cell_type": "markdown",
      "source": [
        "# Работа с моделью"
      ],
      "metadata": {
        "id": "GkJcbvvjS_eD"
      }
    },
    {
      "cell_type": "code",
      "source": [
        "model = XGBRegressor(max_depth=21, random_state=59)\n",
        "model.fit(X_train, y_train)"
      ],
      "metadata": {
        "colab": {
          "base_uri": "https://localhost:8080/"
        },
        "id": "7M2FNnIbILE0",
        "outputId": "5ff2ca63-9bb1-4fb5-b572-e7f3faa0c885"
      },
      "execution_count": null,
      "outputs": [
        {
          "output_type": "stream",
          "name": "stdout",
          "text": [
            "[19:04:17] WARNING: /workspace/src/objective/regression_obj.cu:152: reg:linear is now deprecated in favor of reg:squarederror.\n"
          ]
        }
      ]
    },
    {
      "cell_type": "code",
      "source": [
        "pred = model.predict(X_val)\n",
        "score = r2_score(y_val, pred)\n",
        "score"
      ],
      "metadata": {
        "id": "QWG8T3emILGs"
      },
      "execution_count": null,
      "outputs": []
    },
    {
      "cell_type": "markdown",
      "source": [
        "## Анализ модели"
      ],
      "metadata": {
        "id": "lkE4b3KpOgYM"
      }
    },
    {
      "cell_type": "code",
      "source": [
        "feature_importance = model.get_booster().get_score(importance_type='weight')\n",
        "keys = list(feature_importance.keys())\n",
        "values = list(feature_importance.values())\n",
        "\n",
        "data = pd.DataFrame(data=values, index=keys,\n",
        "                    columns=[\"score\"]).sort_values(by=\"score\", ascending=False)\n",
        "data.nsmallest(40, columns=\"score\").plot(kind='barh', figsize=(20, 10)) ## plot top 40 features"
      ],
      "metadata": {
        "id": "LDIvB0h7Oirk"
      },
      "execution_count": null,
      "outputs": []
    },
    {
      "cell_type": "code",
      "source": [
        "data"
      ],
      "metadata": {
        "id": "-TLQo5-tOrUy"
      },
      "execution_count": null,
      "outputs": []
    },
    {
      "cell_type": "code",
      "source": [
        "feature_importance"
      ],
      "metadata": {
        "id": "NZPCVmJAOrWY"
      },
      "execution_count": null,
      "outputs": []
    },
    {
      "cell_type": "markdown",
      "source": [
        "# Сабмит на сайт"
      ],
      "metadata": {
        "id": "6caUJi3NVgJK"
      }
    },
    {
      "cell_type": "markdown",
      "source": [
        "## Обработка тестовых данных"
      ],
      "metadata": {
        "id": "G3cS1H6mVijG"
      }
    },
    {
      "cell_type": "markdown",
      "source": [
        "Считаем данные"
      ],
      "metadata": {
        "id": "WCmIgHdwVnOO"
      }
    },
    {
      "cell_type": "code",
      "source": [
        "df_test = pd.read_csv(\"./data/test/test_issues.csv\")"
      ],
      "metadata": {
        "id": "KQ6qE0t5TkN2"
      },
      "execution_count": null,
      "outputs": []
    },
    {
      "cell_type": "code",
      "source": [
        "df_test['created_time'] = pd.to_datetime(df_test['created'], format='%Y-%m-%d %H:%M:%S')\n",
        "df_test['month'] = df_test['created_time'].dt.month\n",
        "df_test['day'] = df_test['created_time'].dt.day\n",
        "df_test['hour'] = df_test['created_time'].dt.hour\n",
        "df_test['minute'] = df_test['created_time'].dt.minute\n",
        "\n",
        "df_test['key_name'] = df_test['key'].apply(lambda x: x.split('-')[0])\n",
        "df_test['key_num'] = df_test['key'].apply(lambda x: x.split('-')[1]).astype('int64')\n",
        "\n",
        "df_test['clear_summary'] = df_test['summary'].apply(clear_text)\n",
        "df_test['clear_summary'] = df_test['clear_summary'].str.lower()\n",
        "df_test['lemm_summary'] = df_test['clear_summary'].apply(lemmatize_text_rus)\n",
        "df_test['lemm_summary'] = df_test['lemm_summary'].apply(lemmatize_with_pos_eng)\n",
        "\n",
        "df_test = pd.merge(df_test, df_emp, left_on=\"assignee_id\", right_on=\"id\",\n",
        "                   how='left', suffixes=('', '_y'))\n",
        "\n",
        "df_test.drop(['created', 'created_time'], axis=1, inplace=True)\n",
        "# df_test.drop(['key', 'key_num'], axis=1, inplace=True)\n",
        "df_test.drop(['key'], axis=1, inplace=True)\n",
        "df_test.drop(['summary', 'clear_summary'], axis=1, inplace=True)\n",
        "df_test.drop(['id_y'], axis=1, inplace=True)\n",
        "# df_test.drop(['creator_id', 'assignee_id', 'id_y'], axis=1, inplace=True)\n",
        "# df_test.drop(['lemm_summary', 'id_y'], axis=1, inplace=True)\n",
        "\n",
        "df_test.head()"
      ],
      "metadata": {
        "id": "zKQZKJ5kTkQB"
      },
      "execution_count": null,
      "outputs": []
    },
    {
      "cell_type": "code",
      "source": [
        "df_coms_test = pd.read_csv('./data/test/test_comments.csv')\n",
        "df_coms_counts_test = df_coms_test.groupby('issue_id').agg({'comment_id': 'count',\n",
        "                                                            'author_id': 'nunique'})\n",
        "df_coms_counts_test.reset_index(inplace=True)\n",
        "df_coms_counts_test.rename(columns={\"comment_id\":\"comments_cnt\",\n",
        "                                    \"author_id\":\"authors_cnt\"},\n",
        "                           inplace=True)\n",
        "df_coms_counts_test.head()"
      ],
      "metadata": {
        "id": "k7ynZBGVVG8t"
      },
      "execution_count": null,
      "outputs": []
    },
    {
      "cell_type": "code",
      "source": [
        "df_test = pd.merge(df_test, df_coms_counts_test,\n",
        "                   left_on=\"id\", right_on=\"issue_id\", how='left')\n",
        "df_test.drop(['id', 'issue_id'], axis=1, inplace=True)\n",
        "df_test['comments_cnt'] = df_test['comments_cnt'].fillna(0).astype('int32')\n",
        "df_test['authors_cnt'] = df_test['authors_cnt'].fillna(0).astype('int32')\n",
        "df_test.head()"
      ],
      "metadata": {
        "id": "YX_Fdp5NVqN1"
      },
      "execution_count": null,
      "outputs": []
    },
    {
      "cell_type": "code",
      "source": [
        "X_test_new = count_tf_idf.transform(df_test['lemm_summary'])\n",
        "X_test_new_df = pd.DataFrame(X_test_new.toarray(), columns=feature_names_tf)\n",
        "df_test.drop('lemm_summary', axis=1, inplace=True)\n",
        "X_test = pd.concat([df_test, X_test_new_df], axis=1)\n",
        "\n",
        "# X_test = df_test\n",
        "X_test[cat_features] = ord_encoder.transform(X_test[cat_features])\n",
        "X_test.shape"
      ],
      "metadata": {
        "id": "QNlTYZ_CVqDB"
      },
      "execution_count": null,
      "outputs": []
    },
    {
      "cell_type": "code",
      "source": [
        "pred_test = np.rint(np.exp(model.predict(X_test))).astype('int64')\n",
        "pred_test"
      ],
      "metadata": {
        "id": "a7CjxE1OVqFK"
      },
      "execution_count": null,
      "outputs": []
    },
    {
      "cell_type": "markdown",
      "source": [
        "### Создаем датафрейм с предсказанием"
      ],
      "metadata": {
        "id": "HdGu9SYnXpKb"
      }
    },
    {
      "cell_type": "code",
      "source": [
        "df_sample = pd.read_csv('./data/sample_solution.csv')\n",
        "len(pred_test), len(df_sample)"
      ],
      "metadata": {
        "id": "j3NGLwQBVqHR"
      },
      "execution_count": null,
      "outputs": []
    },
    {
      "cell_type": "code",
      "source": [
        "df_sample.overall_worklogs = pred_test\n",
        "df_sample.to_csv('./solutions/xgb_tfidf_d21.csv', index=False)"
      ],
      "metadata": {
        "id": "XfLbmdalTkSH"
      },
      "execution_count": null,
      "outputs": []
    },
    {
      "cell_type": "markdown",
      "source": [
        "### Проверяем предсказание"
      ],
      "metadata": {
        "id": "F83R9x24X6Ep"
      }
    },
    {
      "cell_type": "code",
      "source": [
        "df_solution = pd.read_csv('./solutions/xgb_tfidf_d21.csv')\n",
        "df_solution.head()"
      ],
      "metadata": {
        "id": "En-ToqqoTkUO"
      },
      "execution_count": null,
      "outputs": []
    },
    {
      "cell_type": "code",
      "source": [
        "df_solution.describe()"
      ],
      "metadata": {
        "id": "m6YA7rYdeqjj"
      },
      "execution_count": null,
      "outputs": []
    },
    {
      "cell_type": "code",
      "source": [
        "df_solution.info()"
      ],
      "metadata": {
        "id": "ajIenid8e_7S"
      },
      "execution_count": null,
      "outputs": []
    },
    {
      "cell_type": "markdown",
      "source": [
        "# Махинации со средним"
      ],
      "metadata": {
        "id": "j8vLjLvnaebf"
      }
    },
    {
      "cell_type": "markdown",
      "source": [
        "Преобразуем к тренировочному распределению"
      ],
      "metadata": {
        "id": "tpArPYIK3HUy"
      }
    },
    {
      "cell_type": "code",
      "source": [
        "df = pd.read_csv(\"./data/train/train_issues.csv\")\n",
        "\n",
        "orig_mean = int(df.overall_worklogs.mean())\n",
        "sol_mean = int(df_solution.overall_worklogs.mean())\n",
        "orig_mean, sol_mean"
      ],
      "metadata": {
        "id": "Y9eH_bbvr_1j"
      },
      "execution_count": null,
      "outputs": []
    },
    {
      "cell_type": "code",
      "source": [
        "def transform_dist(x):\n",
        "    x = x + orig_mean - sol_mean\n",
        "    return x"
      ],
      "metadata": {
        "id": "XsSh54yu7OWA"
      },
      "execution_count": null,
      "outputs": []
    },
    {
      "cell_type": "code",
      "source": [
        "df_solution['overall_worklogs'] = df_solution['overall_worklogs'].apply(transform_dist)\n",
        "df_solution.head()"
      ],
      "metadata": {
        "id": "1aYg8RXeau4h"
      },
      "execution_count": null,
      "outputs": []
    },
    {
      "cell_type": "code",
      "source": [
        "df_solution.describe()"
      ],
      "metadata": {
        "id": "NPLXOODdewY9"
      },
      "execution_count": null,
      "outputs": []
    },
    {
      "cell_type": "code",
      "source": [
        "df_solution.info()"
      ],
      "metadata": {
        "id": "-EuirNMwfGm6"
      },
      "execution_count": null,
      "outputs": []
    },
    {
      "cell_type": "code",
      "source": [
        "df_solution.to_csv('./solutions/d21_only_mean_trans.csv', index=False)"
      ],
      "metadata": {
        "id": "ClOSclobbI5e"
      },
      "execution_count": null,
      "outputs": []
    },
    {
      "cell_type": "markdown",
      "source": [
        "Проверка предсказания"
      ],
      "metadata": {
        "id": "OwjrtvUbgxVt"
      }
    },
    {
      "cell_type": "code",
      "source": [
        "df_solution = pd.read_csv('./solutions/d21_only_mean_trans.csv')\n",
        "df_solution.head()"
      ],
      "metadata": {
        "id": "inM04MKnbb2j"
      },
      "execution_count": null,
      "outputs": []
    },
    {
      "cell_type": "code",
      "source": [],
      "metadata": {
        "id": "tUE1dzURbcMU"
      },
      "execution_count": null,
      "outputs": []
    }
  ]
}